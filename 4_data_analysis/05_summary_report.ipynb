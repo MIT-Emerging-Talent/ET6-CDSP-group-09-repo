{
 "cells": [
  {
   "cell_type": "markdown",
   "id": "91ba6762",
   "metadata": {},
   "source": [
    "# **Summary_report**\n",
    "\n",
    "## **Notebook Objective**\n",
    "\n",
    "**Description:**\n",
    "This notebook serves as the final step of the analysis, synthesizing all\n",
    "key findings from the preceding notebooks into a comprehensive summary\n",
    "report. It will load the saved metrics, model artifacts, and figures to\n",
    "dynamically generate a data-driven narrative that addresses the core\n",
    "research question. The final output is a clean, readable report suitable\n",
    "for stakeholders."
   ]
  },
  {
   "cell_type": "code",
   "execution_count": 6,
   "id": "fba4bc24",
   "metadata": {},
   "outputs": [],
   "source": [
    "# Import necessary libraries\n",
    "from pathlib import Path\n",
    "\n",
    "import joblib\n",
    "import pandas as pd\n",
    "import matplotlib.pyplot as plt\n",
    "import seaborn as sns\n",
    "from IPython.display import display, Markdown, Image\n",
    "\n",
    "\n",
    "# Define file paths\n",
    "# Assumes the notebook is in the '4_data_analysis' folder\n",
    "metrics_file = Path(\"../4_data_analysis/5_model_artifacts/model_performance_scores.csv\")\n",
    "country_avg_file = Path(\"../0_datasets/country_level_averages.csv\")\n",
    "model_dir = Path(\"../4_data_analysis/model_artifacts/\")\n",
    "figure_dir = Path(\"../4_data_analysis/figures/\")\n",
    "\n",
    "# Set plotting style\n",
    "sns.set_theme(style=\"whitegrid\")"
   ]
  },
  {
   "cell_type": "markdown",
   "id": "4c419e27",
   "metadata": {},
   "source": [
    "### **Load All Analytical Artifacts**\n",
    "\n",
    "**Description:**\n",
    "This cell loads all the necessary data artifacts for the report: the\n",
    "model performance scores and the country-level average metrics. We also\n",
    "load the main Random Forest model for \"All-cause DALYs\" to extract its\n",
    "feature importances directly."
   ]
  },
  {
   "cell_type": "code",
   "execution_count": 7,
   "id": "3505f7c8",
   "metadata": {},
   "outputs": [
    {
     "name": "stdout",
     "output_type": "stream",
     "text": [
      "Successfully loaded metrics and country-level data.\n",
      "Warning: Model file not found at ..\\4_data_analysis\\model_artifacts\\rf_model_all-cause_dalys.pkl. Feature importances will not be displayed.\n"
     ]
    }
   ],
   "source": [
    "# Load the metrics and summary data\n",
    "try:\n",
    "    df_metrics = pd.read_csv(metrics_file)\n",
    "    df_country_avg = pd.read_csv(country_avg_file)\n",
    "    print(\"Successfully loaded metrics and country-level data.\")\n",
    "except FileNotFoundError:\n",
    "    print(\n",
    "        \"Error: Required metrics files not found. Please run previous notebooks first.\"\n",
    "    )\n",
    "\n",
    "# Load the main Random Forest model to extract feature importances\n",
    "try:\n",
    "    all_cause_model_path = model_dir / \"rf_model_all-cause_dalys.pkl\"\n",
    "    rf_model_all_cause = joblib.load(all_cause_model_path)\n",
    "    print(f\"Successfully loaded model from {all_cause_model_path}\")\n",
    "\n",
    "    # Create feature importance DataFrame\n",
    "    feature_importances = (\n",
    "        pd.DataFrame(\n",
    "            {\n",
    "                \"Feature\": rf_model_all_cause.feature_names_in_,\n",
    "                \"Importance\": rf_model_all_cause.feature_importances_,\n",
    "            }\n",
    "        )\n",
    "        .sort_values(by=\"Importance\", ascending=False)\n",
    "        .reset_index(drop=True)\n",
    "    )\n",
    "except FileNotFoundError:\n",
    "    print(\n",
    "        f\"Warning: Model file not found at {all_cause_model_path}. \"\n",
    "        \"Feature importances will not be displayed.\"\n",
    "    )\n",
    "\n",
    "    feature_importances = None"
   ]
  },
  {
   "cell_type": "markdown",
   "id": "60639d17",
   "metadata": {},
   "source": [
    "## **Executive Summary**\n",
    "\n",
    "**Description:**\n",
    "This section provides a high-level overview of the project's key\n",
    "findings. It directly answers the core research question by summarizing\n",
    "the relationship between PM₂.₅, socio-demographic development, and\n",
    "health burdens. The results are pulled dynamically from the loaded\n",
    "dataframes."
   ]
  },
  {
   "cell_type": "code",
   "execution_count": 8,
   "id": "e3d2e481",
   "metadata": {},
   "outputs": [
    {
     "data": {
      "text/markdown": [
       "\n",
       "## 1. Executive Summary\n",
       "\n",
       "This analysis investigated the extent to which ambient PM₂.₅\n",
       "concentrations influenced the burden of disease (DALYs) across countries\n",
       "with varying socio-demographic levels from 2010 to 2019.\n",
       "\n",
       "**The primary finding is that a country's Socio-Demographic Index (SDI)\n",
       "is the most powerful predictor of its health burden.** While PM₂.₅\n",
       "exposure is a significant contributing factor, the overall development\n",
       "status of a nation—encompassing income, education, and fertility—explains\n",
       "the largest portion of the variance in health outcomes.\n",
       "\n",
       "- **Primary Driver of Health:** The **N/A** was\n",
       "  overwhelmingly the most important feature in our models, accounting for\n",
       "  **0.0%** of the predictive power for\n",
       "  All-cause DALYs.\n",
       "- **Air Pollution Impact:** PM₂.₅ exposure, including its lagged and\n",
       "  averaged forms, was consistently identified as a significant secondary\n",
       "  predictor of increased DALYs for all-cause, cardiovascular, stroke,\n",
       "  and respiratory diseases.\n",
       "- **Best Model Performance:** A Random Forest model proved most\n",
       "  effective, explaining up to **79.1%** of the variance\n",
       "  in **Cardiovascular DALYs**.\n",
       "\n",
       "The key takeaway is that policies aimed at reducing the burden of these\n",
       "diseases should adopt a dual approach: targeting both direct\n",
       "environmental factors like air pollution and broader socio-economic\n",
       "development.\n"
      ],
      "text/plain": [
       "<IPython.core.display.Markdown object>"
      ]
     },
     "metadata": {},
     "output_type": "display_data"
    }
   ],
   "source": [
    "# Dynamically generate the executive summary\n",
    "best_model = df_metrics.loc[df_metrics[\"Model\"] == \"Random Forest\"]\n",
    "best_model = best_model.sort_values(\"R²\", ascending=False).iloc[0]\n",
    "\n",
    "top_feature = (\n",
    "    feature_importances.iloc[0]\n",
    "    if feature_importances is not None\n",
    "    else {\"Feature\": \"N/A\", \"Importance\": 0}\n",
    ")\n",
    "\n",
    "summary_text = f\"\"\"\n",
    "## 1. Executive Summary\n",
    "\n",
    "This analysis investigated the extent to which ambient PM₂.₅\n",
    "concentrations influenced the burden of disease (DALYs) across countries\n",
    "with varying socio-demographic levels from 2010 to 2019.\n",
    "\n",
    "**The primary finding is that a country's Socio-Demographic Index (SDI)\n",
    "is the most powerful predictor of its health burden.** While PM₂.₅\n",
    "exposure is a significant contributing factor, the overall development\n",
    "status of a nation—encompassing income, education, and fertility—explains\n",
    "the largest portion of the variance in health outcomes.\n",
    "\n",
    "- **Primary Driver of Health:** The **{top_feature['Feature']}** was\n",
    "  overwhelmingly the most important feature in our models, accounting for\n",
    "  **{top_feature['Importance']:.1%}** of the predictive power for\n",
    "  All-cause DALYs.\n",
    "- **Air Pollution Impact:** PM₂.₅ exposure, including its lagged and\n",
    "  averaged forms, was consistently identified as a significant secondary\n",
    "  predictor of increased DALYs for all-cause, cardiovascular, stroke,\n",
    "  and respiratory diseases.\n",
    "- **Best Model Performance:** A Random Forest model proved most\n",
    "  effective, explaining up to **{best_model['R²']:.1%}** of the variance\n",
    "  in **{best_model['DALY Outcome']}**.\n",
    "\n",
    "The key takeaway is that policies aimed at reducing the burden of these\n",
    "diseases should adopt a dual approach: targeting both direct\n",
    "environmental factors like air pollution and broader socio-economic\n",
    "development.\n",
    "\"\"\"\n",
    "display(Markdown(summary_text))"
   ]
  },
  {
   "cell_type": "markdown",
   "id": "dbab7d07",
   "metadata": {},
   "source": [
    "## **Exploratory Analysis Highlights**\n",
    "\n",
    "**Description:**\n",
    "This section revisits the key visualizations from the exploratory data\n",
    "analysis notebook (`02_exploratory_trends.ipynb`) to provide visual\n",
    "context for the main findings. We display the plots showing the\n",
    "relationship between pollution, health, and development."
   ]
  },
  {
   "cell_type": "code",
   "execution_count": 9,
   "id": "bd5ae7a8",
   "metadata": {},
   "outputs": [
    {
     "data": {
      "text/markdown": [
       "## 2. Exploratory Analysis Highlights"
      ],
      "text/plain": [
       "<IPython.core.display.Markdown object>"
      ]
     },
     "metadata": {},
     "output_type": "display_data"
    },
    {
     "data": {
      "text/markdown": [
       "The relationship between PM₂.₅, health burden (DALYs), and development (SDI) is complex. The scatter plot below illustrates that countries with lower SDI (smaller, darker bubbles) tend to face a dual challenge of high PM₂.₅ levels and high DALYs."
      ],
      "text/plain": [
       "<IPython.core.display.Markdown object>"
      ]
     },
     "metadata": {},
     "output_type": "display_data"
    },
    {
     "name": "stdout",
     "output_type": "stream",
     "text": [
      "Could not find 'fig_05_pm25_vs_dalys_by_sdi.png'.\n"
     ]
    },
    {
     "data": {
      "text/markdown": [
       "The temporal trend analysis showed that while high-SDI countries have seen a general decrease in both PM₂.₅ and DALYs, the progress in low-SDI countries has been much slower."
      ],
      "text/plain": [
       "<IPython.core.display.Markdown object>"
      ]
     },
     "metadata": {},
     "output_type": "display_data"
    },
    {
     "name": "stdout",
     "output_type": "stream",
     "text": [
      "Could not find 'fig_02_daly_trends_by_sdi.png'.\n"
     ]
    }
   ],
   "source": [
    "display(Markdown(\"## 2. Exploratory Analysis Highlights\"))\n",
    "display(\n",
    "    Markdown(\n",
    "        \"The relationship between PM₂.₅, health burden (DALYs), and development (SDI) is complex.\"\n",
    "        \" The scatter plot below illustrates that countries with lower SDI (smaller, darker bubbles) tend to \"\n",
    "        \"face a dual challenge of high PM₂.₅ levels and high DALYs.\"\n",
    "    )\n",
    ")\n",
    "\n",
    "# Display the key scatter plot\n",
    "try:\n",
    "    scatter_plot_path = figure_dir / \"eda_plots/fig_05_pm25_vs_dalys_by_sdi.png\"\n",
    "    display(Image(filename=scatter_plot_path, width=800))\n",
    "except FileNotFoundError:\n",
    "    print(\"Could not find 'fig_05_pm25_vs_dalys_by_sdi.png'.\")\n",
    "\n",
    "display(\n",
    "    Markdown(\n",
    "        \"The temporal trend analysis showed that while high-SDI countries \"\n",
    "        \"have seen a general decrease in both PM₂.₅ and DALYs, the progress \"\n",
    "        \"in low-SDI countries has been much slower.\"\n",
    "    )\n",
    ")\n",
    "# Display the temporal trend plot\n",
    "try:\n",
    "    trend_plot_path = figure_dir / \"eda_plots/fig_02_daly_trends_by_sdi.png\"\n",
    "    display(Image(filename=trend_plot_path, width=900))\n",
    "except FileNotFoundError:\n",
    "    print(\"Could not find 'fig_02_daly_trends_by_sdi.png'.\")"
   ]
  },
  {
   "cell_type": "markdown",
   "id": "23649200",
   "metadata": {},
   "source": [
    "## **Description Cell 4: 3. Modeling and Performance**\n",
    "\n",
    "**Description:**\n",
    "This section presents the results of the predictive modeling phase. We\n",
    "display the performance table comparing the Linear Regression and Random\n",
    "Forest models and then visualize the feature importances to show which\n",
    "factors were most influential."
   ]
  },
  {
   "cell_type": "code",
   "execution_count": 10,
   "id": "682b1d39",
   "metadata": {},
   "outputs": [
    {
     "data": {
      "text/markdown": [
       "## 3. Modeling and Performance"
      ],
      "text/plain": [
       "<IPython.core.display.Markdown object>"
      ]
     },
     "metadata": {},
     "output_type": "display_data"
    },
    {
     "data": {
      "text/markdown": [
       "Two models were trained for each of the four DALY outcomes. The Random Forest Regressor consistently outperformed the Linear Regression model, indicating that the relationships between the variables are complex and non-linear. The performance metrics for all models are summarized below:"
      ],
      "text/plain": [
       "<IPython.core.display.Markdown object>"
      ]
     },
     "metadata": {},
     "output_type": "display_data"
    },
    {
     "data": {
      "text/html": [
       "<style type=\"text/css\">\n",
       "</style>\n",
       "<table id=\"T_893c1\">\n",
       "  <caption>Model Performance Comparison</caption>\n",
       "  <thead>\n",
       "    <tr>\n",
       "      <th class=\"blank level0\" >&nbsp;</th>\n",
       "      <th id=\"T_893c1_level0_col0\" class=\"col_heading level0 col0\" >DALY Outcome</th>\n",
       "      <th id=\"T_893c1_level0_col1\" class=\"col_heading level0 col1\" >Model</th>\n",
       "      <th id=\"T_893c1_level0_col2\" class=\"col_heading level0 col2\" >R²</th>\n",
       "      <th id=\"T_893c1_level0_col3\" class=\"col_heading level0 col3\" >RMSE</th>\n",
       "    </tr>\n",
       "  </thead>\n",
       "  <tbody>\n",
       "    <tr>\n",
       "      <th id=\"T_893c1_level0_row0\" class=\"row_heading level0 row0\" >0</th>\n",
       "      <td id=\"T_893c1_row0_col0\" class=\"data row0 col0\" >All-cause DALYs</td>\n",
       "      <td id=\"T_893c1_row0_col1\" class=\"data row0 col1\" >Linear Regression</td>\n",
       "      <td id=\"T_893c1_row0_col2\" class=\"data row0 col2\" >0.486</td>\n",
       "      <td id=\"T_893c1_row0_col3\" class=\"data row0 col3\" >646.68</td>\n",
       "    </tr>\n",
       "    <tr>\n",
       "      <th id=\"T_893c1_level0_row1\" class=\"row_heading level0 row1\" >1</th>\n",
       "      <td id=\"T_893c1_row1_col0\" class=\"data row1 col0\" >All-cause DALYs</td>\n",
       "      <td id=\"T_893c1_row1_col1\" class=\"data row1 col1\" >Random Forest</td>\n",
       "      <td id=\"T_893c1_row1_col2\" class=\"data row1 col2\" >0.788</td>\n",
       "      <td id=\"T_893c1_row1_col3\" class=\"data row1 col3\" >415.14</td>\n",
       "    </tr>\n",
       "    <tr>\n",
       "      <th id=\"T_893c1_level0_row2\" class=\"row_heading level0 row2\" >2</th>\n",
       "      <td id=\"T_893c1_row2_col0\" class=\"data row2 col0\" >Cardiovascular DALYs</td>\n",
       "      <td id=\"T_893c1_row2_col1\" class=\"data row2 col1\" >Linear Regression</td>\n",
       "      <td id=\"T_893c1_row2_col2\" class=\"data row2 col2\" >0.460</td>\n",
       "      <td id=\"T_893c1_row2_col3\" class=\"data row2 col3\" >460.63</td>\n",
       "    </tr>\n",
       "    <tr>\n",
       "      <th id=\"T_893c1_level0_row3\" class=\"row_heading level0 row3\" >3</th>\n",
       "      <td id=\"T_893c1_row3_col0\" class=\"data row3 col0\" >Cardiovascular DALYs</td>\n",
       "      <td id=\"T_893c1_row3_col1\" class=\"data row3 col1\" >Random Forest</td>\n",
       "      <td id=\"T_893c1_row3_col2\" class=\"data row3 col2\" >0.791</td>\n",
       "      <td id=\"T_893c1_row3_col3\" class=\"data row3 col3\" >286.49</td>\n",
       "    </tr>\n",
       "    <tr>\n",
       "      <th id=\"T_893c1_level0_row4\" class=\"row_heading level0 row4\" >4</th>\n",
       "      <td id=\"T_893c1_row4_col0\" class=\"data row4 col0\" >Stroke DALYs</td>\n",
       "      <td id=\"T_893c1_row4_col1\" class=\"data row4 col1\" >Linear Regression</td>\n",
       "      <td id=\"T_893c1_row4_col2\" class=\"data row4 col2\" >0.459</td>\n",
       "      <td id=\"T_893c1_row4_col3\" class=\"data row4 col3\" >149.29</td>\n",
       "    </tr>\n",
       "    <tr>\n",
       "      <th id=\"T_893c1_level0_row5\" class=\"row_heading level0 row5\" >5</th>\n",
       "      <td id=\"T_893c1_row5_col0\" class=\"data row5 col0\" >Stroke DALYs</td>\n",
       "      <td id=\"T_893c1_row5_col1\" class=\"data row5 col1\" >Random Forest</td>\n",
       "      <td id=\"T_893c1_row5_col2\" class=\"data row5 col2\" >0.736</td>\n",
       "      <td id=\"T_893c1_row5_col3\" class=\"data row5 col3\" >104.32</td>\n",
       "    </tr>\n",
       "    <tr>\n",
       "      <th id=\"T_893c1_level0_row6\" class=\"row_heading level0 row6\" >6</th>\n",
       "      <td id=\"T_893c1_row6_col0\" class=\"data row6 col0\" >Respiratory DALYs</td>\n",
       "      <td id=\"T_893c1_row6_col1\" class=\"data row6 col1\" >Linear Regression</td>\n",
       "      <td id=\"T_893c1_row6_col2\" class=\"data row6 col2\" >0.348</td>\n",
       "      <td id=\"T_893c1_row6_col3\" class=\"data row6 col3\" >65.79</td>\n",
       "    </tr>\n",
       "    <tr>\n",
       "      <th id=\"T_893c1_level0_row7\" class=\"row_heading level0 row7\" >7</th>\n",
       "      <td id=\"T_893c1_row7_col0\" class=\"data row7 col0\" >Respiratory DALYs</td>\n",
       "      <td id=\"T_893c1_row7_col1\" class=\"data row7 col1\" >Random Forest</td>\n",
       "      <td id=\"T_893c1_row7_col2\" class=\"data row7 col2\" >0.652</td>\n",
       "      <td id=\"T_893c1_row7_col3\" class=\"data row7 col3\" >48.05</td>\n",
       "    </tr>\n",
       "  </tbody>\n",
       "</table>\n"
      ],
      "text/plain": [
       "<pandas.io.formats.style.Styler at 0x1a511d1cad0>"
      ]
     },
     "metadata": {},
     "output_type": "display_data"
    },
    {
     "data": {
      "text/markdown": [
       "### Feature Importance"
      ],
      "text/plain": [
       "<IPython.core.display.Markdown object>"
      ]
     },
     "metadata": {},
     "output_type": "display_data"
    },
    {
     "data": {
      "text/markdown": [
       "The feature importance analysis for the best-performing model (Random Forest for All-cause DALYs) confirms that **SDI is the most critical predictor**. Current and past PM₂.₅ exposure levels are also significant but secondary factors."
      ],
      "text/plain": [
       "<IPython.core.display.Markdown object>"
      ]
     },
     "metadata": {},
     "output_type": "display_data"
    }
   ],
   "source": [
    "display(Markdown(\"## 3. Modeling and Performance\"))\n",
    "display(\n",
    "    Markdown(\n",
    "        \"Two models were trained for each of the four DALY outcomes. The \"\n",
    "        \"Random Forest Regressor consistently outperformed the Linear \"\n",
    "        \"Regression model, indicating that the relationships between the \"\n",
    "        \"variables are complex and non-linear. The performance metrics for \"\n",
    "        \"all models are summarized below:\"\n",
    "    )\n",
    ")\n",
    "\n",
    "# Display the metrics table\n",
    "styled_metrics = df_metrics.style.format(\n",
    "    {\"R²\": \"{:.3f}\", \"RMSE\": \"{:,.2f}\"}\n",
    ").set_caption(\"Model Performance Comparison\")\n",
    "display(styled_metrics)\n",
    "\n",
    "display(Markdown(\"### Feature Importance\"))\n",
    "display(\n",
    "    Markdown(\n",
    "        \"The feature importance analysis for the best-performing model \"\n",
    "        \"(Random Forest for All-cause DALYs) confirms that **SDI is the \"\n",
    "        \"most critical predictor**. Current and past PM₂.₅ exposure levels \"\n",
    "        \"are also significant but secondary factors.\"\n",
    "    )\n",
    ")\n",
    "\n",
    "# Display feature importance plot\n",
    "if feature_importances is not None:\n",
    "    plt.figure(figsize=(10, 6))\n",
    "    sns.barplot(\n",
    "        data=feature_importances,\n",
    "        x=\"Importance\",\n",
    "        y=\"Feature\",\n",
    "        hue=\"Feature\",\n",
    "        palette=\"viridis\",\n",
    "        legend=False,\n",
    "    )\n",
    "    plt.title(\"Feature Importance for All-cause DALYs (Random Forest)\")\n",
    "    plt.show()"
   ]
  },
  {
   "cell_type": "markdown",
   "id": "0b7b64cb",
   "metadata": {},
   "source": [
    "## **Description Cell 5: 4. Vulnerability and Conclusion**\n",
    "\n",
    "**Description:**\n",
    "This final section summarizes the findings from the advanced analyses.\n",
    "It discusses how vulnerability to pollution differs across development\n",
    "levels and concludes with a final statement on the project's findings\n",
    "and limitations."
   ]
  },
  {
   "cell_type": "code",
   "execution_count": 12,
   "id": "07984c1e",
   "metadata": {},
   "outputs": [
    {
     "data": {
      "text/markdown": [
       "## 4. Vulnerability, Conclusion, and Limitations"
      ],
      "text/plain": [
       "<IPython.core.display.Markdown object>"
      ]
     },
     "metadata": {},
     "output_type": "display_data"
    },
    {
     "data": {
      "text/markdown": [
       "### Vulnerability to Pollution"
      ],
      "text/plain": [
       "<IPython.core.display.Markdown object>"
      ]
     },
     "metadata": {},
     "output_type": "display_data"
    },
    {
     "data": {
      "text/markdown": [
       "The analysis in notebook `04` revealed that populations in countries with lower SDI may be more vulnerable to the health impacts of PM₂.₅. The explanatory power of PM₂.₅ in predicting DALYs was higher in the 'Low' and 'Medium' SDI categories compared to the 'High' and 'Very High' categories."
      ],
      "text/plain": [
       "<IPython.core.display.Markdown object>"
      ]
     },
     "metadata": {},
     "output_type": "display_data"
    },
    {
     "data": {
      "image/png": "[encoded data removed]",
      "text/plain": [
       "<IPython.core.display.Image object>"
      ]
     },
     "metadata": {
      "image/png": {
       "width": 900
      }
     },
     "output_type": "display_data"
    },
    {
     "data": {
      "text/markdown": [
       "\n",
       "### Overall Conclusion\n",
       "The evidence strongly suggests a dual-driver system for the health\n",
       "burdens studied:\n",
       "1.  **Socio-Demographic Development** acts as the primary determinant,\n",
       "    setting a country's baseline health status.\n",
       "2.  **PM₂.₅ Pollution** acts as a significant, secondary stressor that\n",
       "    exacerbates this burden, with potentially greater marginal impact\n",
       "    in less developed nations.\n",
       "\n",
       "Effective public health policy should therefore focus on a two-pronged\n",
       "strategy: fostering broad socio-economic improvements while\n",
       "simultaneously implementing targeted air quality controls.\n",
       "\n",
       "### Limitations\n",
       "- **Ecological Fallacy:** This analysis uses country-level data, which\n",
       "  may not represent the exposure and health outcomes of individuals.\n",
       "- **Omitted Variables:** The models do not account for all potential\n",
       "  confounders, such as smoking rates, healthcare quality, or other\n",
       "  pollutants.\n",
       "- **Data Accuracy:** The PM₂.₅ and DALY data are based on estimates and\n",
       "  models, which have their own inherent uncertainties.\n"
      ],
      "text/plain": [
       "<IPython.core.display.Markdown object>"
      ]
     },
     "metadata": {},
     "output_type": "display_data"
    }
   ],
   "source": [
    "display(Markdown(\"## 4. Vulnerability, Conclusion, and Limitations\"))\n",
    "display(Markdown(\"### Vulnerability to Pollution\"))\n",
    "display(\n",
    "    Markdown(\n",
    "        \"The analysis in notebook `04` revealed that populations in \"\n",
    "        \"countries with lower SDI may be more vulnerable to the health \"\n",
    "        \"impacts of PM₂.₅. The explanatory power of PM₂.₅ in predicting \"\n",
    "        \"DALYs was higher in the 'Low' and 'Medium' SDI categories compared \"\n",
    "        \"to the 'High' and 'Very High' categories.\"\n",
    "    )\n",
    ")\n",
    "\n",
    "try:\n",
    "    vuln_plot_path = (\n",
    "        figure_dir / \"vulnerability_plots/fig_08_vulnerability_analysis.png\"\n",
    "    )\n",
    "    display(Image(filename=vuln_plot_path, width=900))\n",
    "except FileNotFoundError:\n",
    "    print(\"Could not find 'fig_08_vulnerability_analysis.png'.\")\n",
    "\n",
    "display(\n",
    "    Markdown(\"\"\"\n",
    "### Overall Conclusion\n",
    "The evidence strongly suggests a dual-driver system for the health\n",
    "burdens studied:\n",
    "1.  **Socio-Demographic Development** acts as the primary determinant,\n",
    "    setting a country's baseline health status.\n",
    "2.  **PM₂.₅ Pollution** acts as a significant, secondary stressor that\n",
    "    exacerbates this burden, with potentially greater marginal impact\n",
    "    in less developed nations.\n",
    "\n",
    "Effective public health policy should therefore focus on a two-pronged\n",
    "strategy: fostering broad socio-economic improvements while\n",
    "simultaneously implementing targeted air quality controls.\n",
    "\n",
    "### Limitations\n",
    "- **Ecological Fallacy:** This analysis uses country-level data, which\n",
    "  may not represent the exposure and health outcomes of individuals.\n",
    "- **Omitted Variables:** The models do not account for all potential\n",
    "  confounders, such as smoking rates, healthcare quality, or other\n",
    "  pollutants.\n",
    "- **Data Accuracy:** The PM₂.₅ and DALY data are based on estimates and\n",
    "  models, which have their own inherent uncertainties.\n",
    "\"\"\")\n",
    ")"
   ]
  }
 ],
 "metadata": {
  "colab": {
   "name": "05_summary_report.ipynb",
   "provenance": []
  },
  "kernelspec": {
   "display_name": "base",
   "language": "python",
   "name": "python3"
  },
  "language_info": {
   "codemirror_mode": {
    "name": "ipython",
    "version": 3
   },
   "file_extension": ".py",
   "mimetype": "text/x-python",
   "name": "python",
   "nbconvert_exporter": "python",
   "pygments_lexer": "ipython3",
   "version": "3.12.7"
  }
 },
 "nbformat": 4,
 "nbformat_minor": 5
}

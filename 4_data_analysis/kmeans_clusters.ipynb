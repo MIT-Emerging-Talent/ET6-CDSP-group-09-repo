{
 "cells": [
  {
   "cell_type": "code",
   "execution_count": 16,
   "id": "41850bba",
   "metadata": {},
   "outputs": [],
   "source": [
    "# --- Step 1: Import Libraries ---\n",
    "import pandas as pd\n",
    "from sklearn.preprocessing import StandardScaler\n",
    "from sklearn.cluster import KMeans\n",
    "import folium\n",
    "from selenium import webdriver\n",
    "from selenium.webdriver.chrome.options import Options\n",
    "from selenium.webdriver.chrome.service import Service\n",
    "from webdriver_manager.chrome import ChromeDriverManager\n",
    "import time\n",
    "import os\n",
    "import warnings\n",
    "\n",
    "warnings.filterwarnings(\"ignore\")"
   ]
  },
  {
   "cell_type": "code",
   "execution_count": 18,
   "id": "ea4b454f",
   "metadata": {},
   "outputs": [
    {
     "name": "stdout",
     "output_type": "stream",
     "text": [
      "--- Step 2: Loading and Merging Data ---\n",
      "✅ Data merged successfully.\n"
     ]
    }
   ],
   "source": [
    "# --- Step 2: Load and Merge Data ---\n",
    "print(\"--- Step 2: Loading and Merging Data ---\")\n",
    "df = pd.read_csv(\"../1_datasets/final_datasets/clean_merged_data.csv\")\n",
    "coords_url = \"https://raw.githubusercontent.com/google/dspl/master/samples/google/canonical/countries.csv\"\n",
    "coords = pd.read_csv(coords_url)\n",
    "coords = coords[[\"name\", \"latitude\", \"longitude\"]].rename(columns={\"name\": \"Country\"})\n",
    "df_merged = pd.merge(df, coords, on=\"Country\", how=\"left\")\n",
    "df_merged.dropna(subset=[\"latitude\", \"longitude\"], inplace=True)\n",
    "print(\"✅ Data merged successfully.\")"
   ]
  },
  {
   "cell_type": "code",
   "execution_count": 19,
   "id": "99c9d82e",
   "metadata": {},
   "outputs": [
    {
     "name": "stdout",
     "output_type": "stream",
     "text": [
      "--- Step 3: Feature Selection ---\n"
     ]
    }
   ],
   "source": [
    "# --- Step 3: Feature Selection ---\n",
    "print(\"--- Step 3: Feature Selection ---\")\n",
    "features = df_merged[[\"SDI\", \"PM2.5\", \"All-cause DALYs\"]]\n",
    "scaler = StandardScaler()\n",
    "scaled = scaler.fit_transform(features)"
   ]
  },
  {
   "cell_type": "code",
   "execution_count": 20,
   "id": "b4930cbf",
   "metadata": {},
   "outputs": [
    {
     "name": "stdout",
     "output_type": "stream",
     "text": [
      "--- Step 4: Clustering ---\n",
      "    Country  Year  Cluster\n",
      "0  Botswana  2010        3\n",
      "1  Botswana  2011        3\n",
      "2  Botswana  2012        3\n",
      "3  Botswana  2013        3\n",
      "4  Botswana  2014        3\n"
     ]
    }
   ],
   "source": [
    "# --- Step 4: Clustering ---\n",
    "print(\"--- Step 4: Clustering ---\")\n",
    "kmeans = KMeans(n_clusters=4, random_state=42, n_init=10)\n",
    "df_merged[\"Cluster\"] = kmeans.fit_predict(scaled)\n",
    "print(df_merged[[\"Country\", \"Year\", \"Cluster\"]].head())"
   ]
  },
  {
   "cell_type": "code",
   "execution_count": 21,
   "id": "02f01bd4",
   "metadata": {},
   "outputs": [
    {
     "name": "stdout",
     "output_type": "stream",
     "text": [
      "--- Step 5: Creating World Map ---\n"
     ]
    }
   ],
   "source": [
    "# --- Step 5: Creating World Map ---\n",
    "print(\"--- Step 5: Creating World Map ---\")\n",
    "colors = [\"red\", \"blue\", \"green\", \"purple\"]\n",
    "m = folium.Map(location=[20, 0], zoom_start=2, tiles=\"cartodbpositron\")\n",
    "for _, row in df_merged.iterrows():\n",
    "    folium.CircleMarker(\n",
    "        location=[row[\"latitude\"], row[\"longitude\"]],\n",
    "        radius=5,\n",
    "        color=colors[row[\"Cluster\"] % len(colors)],\n",
    "        fill=True,\n",
    "        fill_color=colors[row[\"Cluster\"] % len(colors)],\n",
    "        fill_opacity=0.7,\n",
    "        tooltip=folium.Tooltip(\n",
    "            f\"<b>Country:</b> {row['Country']}<br>\"\n",
    "            f\"<b>Year:</b> {row['Year']}<br>\"\n",
    "            f\"<b>Cluster:</b> {row['Cluster']}<br>\"\n",
    "            f\"<b>SDI:</b> {row['SDI']}<br>\"\n",
    "            f\"<b>PM2.5:</b> {row['PM2.5']}<br>\"\n",
    "            f\"<b>DALYs:</b> {row['All-cause DALYs']}\"\n",
    "        ),\n",
    "    ).add_to(m)"
   ]
  },
  {
   "cell_type": "code",
   "execution_count": 22,
   "id": "a8d99cc0",
   "metadata": {},
   "outputs": [
    {
     "name": "stdout",
     "output_type": "stream",
     "text": [
      "✅ HTML saved: world_map_clusters.html\n"
     ]
    }
   ],
   "source": [
    "# --- Step 6: Add Legend ---\n",
    "legend_html = \"\"\"\n",
    "<div style=\"position: fixed; \n",
    "     bottom: 50px; left: 50px; width: 260px; height: 140px; \n",
    "     border:2px solid grey; z-index:9999; font-size:14px;\n",
    "     background-color:white; padding:10px;\">\n",
    "<b>🗺️ Cluster Legend</b><br>\n",
    "🔴 <b>Red</b>: Cluster 0 — Low SDI, high PM2.5 and DALYs<br>\n",
    "🔵 <b>Blue</b>: Cluster 1 — Mixed profile<br>\n",
    "🟢 <b>Green</b>: Cluster 2 — High SDI, low PM2.5 and DALYs<br>\n",
    "🔸 <b>Purple</b>: Cluster 3 — Unique small nations\n",
    "</div>\n",
    "\"\"\"\n",
    "m.get_root().html.add_child(folium.Element(legend_html))\n",
    "\n",
    "map_file = \"world_map_clusters.html\"\n",
    "m.save(map_file)\n",
    "print(f\"✅ HTML saved: {map_file}\")"
   ]
  },
  {
   "cell_type": "code",
   "execution_count": 23,
   "id": "fc161293",
   "metadata": {},
   "outputs": [
    {
     "name": "stdout",
     "output_type": "stream",
     "text": [
      "--- Step 7: Saving World Map as PNG ---\n",
      "✅ Map screenshot saved as: world_map_clusters.png\n"
     ]
    }
   ],
   "source": [
    "# --- Step 7: Saving World Map as PNG ---\n",
    "print(\"--- Step 7: Saving World Map as PNG ---\")\n",
    "\n",
    "map_file = \"world_map_clusters.html\"\n",
    "map_png = \"world_map_clusters.png\"\n",
    "\n",
    "options = Options()\n",
    "options.headless = True\n",
    "options.add_argument(\"--window-size=1200,800\")\n",
    "options.add_argument(\"--no-sandbox\")\n",
    "options.add_argument(\"--disable-gpu\")\n",
    "\n",
    "# Use Service to avoid deprecated 'executable_path'\n",
    "service = Service(ChromeDriverManager().install())\n",
    "driver = webdriver.Chrome(service=service, options=options)\n",
    "\n",
    "try:\n",
    "    map_path = \"file://\" + os.path.abspath(map_file)\n",
    "    driver.get(map_path)\n",
    "    time.sleep(5)  # Give time for map to load\n",
    "    driver.save_screenshot(map_png)\n",
    "    print(f\"✅ Map screenshot saved as: {map_png}\")\n",
    "except Exception as e:\n",
    "    print(f\"❌ Error saving screenshot: {e}\")\n",
    "finally:\n",
    "    driver.quit()"
   ]
  },
  {
   "cell_type": "markdown",
   "id": "fd9b5fb5",
   "metadata": {},
   "source": [
    "# Step 8: Cluster Map Interpretation\n",
    "\n",
    "The map shows the results of **K-Means clustering** of countries based on:\n",
    "\n",
    "- **Sociodemographic Index (SDI)**\n",
    "- **Air pollution (PM2.5)**\n",
    "- **Health burden (DALYs)**\n",
    "\n",
    "Each color represents a different cluster of countries with similar profiles.\n",
    "\n",
    "---\n",
    "\n",
    "### 🎨 Cluster Color Legend\n",
    "\n",
    "| Color    | Cluster | Description                                                                                   |\n",
    "|----------|---------|-----------------------------------------------------------------------------------------------|\n",
    "| 🔴 Red   | 0       | Countries with **low SDI**, **high PM2.5**, and **high health burden (DALYs)** — worst conditions |\n",
    "| 🔵 Blue  | 1       | Countries with **developing or mixed profiles** — moderate SDI and PM2.5                      |\n",
    "| 🟢 Green | 2       | **Highly developed countries** — high SDI, low pollution, and low health burden                |\n",
    "| 🟣 Purple| 3       | **Geographically isolated or small island nations**, often with unique patterns or limited data |\n"
   ]
  },
  {
   "cell_type": "markdown",
   "id": "6fa964eb",
   "metadata": {},
   "source": []
  }
 ],
 "metadata": {
  "kernelspec": {
   "display_name": "base",
   "language": "python",
   "name": "python3"
  },
  "language_info": {
   "codemirror_mode": {
    "name": "ipython",
    "version": 3
   },
   "file_extension": ".py",
   "mimetype": "text/x-python",
   "name": "python",
   "nbconvert_exporter": "python",
   "pygments_lexer": "ipython3",
   "version": "3.12.7"
  }
 },
 "nbformat": 4,
 "nbformat_minor": 5
}

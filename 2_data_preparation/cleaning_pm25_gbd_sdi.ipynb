{
 "cells": [
  {
   "cell_type": "markdown",
   "id": "a9c6f5e2",
   "metadata": {},
   "source": [
    "# Clean and Merge PM2.5, SDI, and GBD Data"
   ]
  },
  {
   "cell_type": "markdown",
   "id": "a8f5e08b",
   "metadata": {},
   "source": [
    "## Introduction\n",
    "\n",
    "To address the first part of the research question, we use three separate datasets:\n",
    "\n",
    "- **PM2.5 dataset** from WHO  \n",
    "- **SDI dataset** from IHME  \n",
    "- **GBD dataset** from IHME  \n",
    "\n",
    "Details about these datasets are provided in [`datasets documentation`](..\\1_datasets\\README.md).\n",
    "\n",
    "In this notebook, we **clean and merge** these datasets to prepare them for analysis."
   ]
  },
  {
   "cell_type": "markdown",
   "id": "6f394953",
   "metadata": {},
   "source": [
    "### Cleaning Strategy\n",
    "\n",
    "Each dataset provides measurements by **country and year**. To organize this, we:\n",
    "\n",
    "1. **Match country names across datasets**\n",
    "2. **Define a `Country` class** to store data per country\n",
    "3. **Load data into class instances**\n",
    "4. **Extract data from the class objects and save it into a CSV**\n",
    "\n",
    "---"
   ]
  },
  {
   "cell_type": "markdown",
   "id": "f68f09c2",
   "metadata": {},
   "source": [
    "### Imports"
   ]
  },
  {
   "cell_type": "code",
   "execution_count": 1,
   "id": "adcea3c7",
   "metadata": {},
   "outputs": [],
   "source": [
    "import pandas as pd\n",
    "from rapidfuzz import process, fuzz"
   ]
  },
  {
   "cell_type": "markdown",
   "id": "2b6b9fce",
   "metadata": {},
   "source": [
    "### Load Raw Data"
   ]
  },
  {
   "cell_type": "code",
   "execution_count": 4,
   "id": "695deb52",
   "metadata": {},
   "outputs": [],
   "source": [
    "# Load the datasets\n",
    "PM25_df = pd.read_csv('../1_datasets/raw_datasets/WHO-PM2.5 Data.csv')\n",
    "SDI_df = pd.read_csv('../1_datasets/raw_datasets/IHME-SDI Data.csv')\n",
    "GBD_df = pd.read_csv('../1_datasets/raw_datasets/IHME-GBD Data.csv')"
   ]
  },
  {
   "cell_type": "code",
   "execution_count": 5,
   "id": "504c8845",
   "metadata": {},
   "outputs": [],
   "source": [
    "# Filter SDI data to include only 2010-2019\n",
    "SDI_df = SDI_df[(SDI_df['year_id'] >= 2010) & (SDI_df['year_id'] <= 2019)]"
   ]
  },
  {
   "cell_type": "markdown",
   "id": "b8c15d4d",
   "metadata": {},
   "source": [
    "### Stage 1: Match Country Names\n",
    "\n",
    "We use WHO's PM2.5 country list as the control since it contains exactly the 195 recognized countries."
   ]
  },
  {
   "cell_type": "code",
   "execution_count": 25,
   "id": "8d6d6c45",
   "metadata": {},
   "outputs": [],
   "source": [
    "# Helper function for fuzzy matching\n",
    "\n",
    "def match_countries_semantically(set1, set2):\n",
    "    \"\"\"\n",
    "    Matches each country in set1 with the most semantically similar country in\n",
    "    set2 using fuzzy string matching.\n",
    "\n",
    "    Parameters:\n",
    "    set1 : iterable, a set or list of country names to be matched.\n",
    "    set2 : iterable, a set or list of reference country names to match against.\n",
    "\n",
    "    Returns: \n",
    "    matches: A dictionary where keys are items from set1 and values are\n",
    "    the best-matched items from set2, based on token sort ratio similarity.\n",
    "    \"\"\"\n",
    "    matches = {}\n",
    "    for country in set1:\n",
    "        best_match, score, _ = process.extractOne(\n",
    "            country, set2, scorer=fuzz.token_sort_ratio\n",
    "        )\n",
    "        matches[country] = best_match\n",
    "    return matches"
   ]
  },
  {
   "cell_type": "code",
   "execution_count": 8,
   "id": "c82caa0c",
   "metadata": {},
   "outputs": [],
   "source": [
    "# Create country sets\n",
    "PM25_countries = set(PM25_df['Location'])\n",
    "SDI_countries = set(SDI_df['location_name'])\n",
    "GBD_countries = set(GBD_df['location'])"
   ]
  },
  {
   "cell_type": "markdown",
   "id": "b5184826",
   "metadata": {},
   "source": [
    "####  PM2.5 countries VS SDI countries"
   ]
  },
  {
   "cell_type": "code",
   "execution_count": 9,
   "id": "d088bc58",
   "metadata": {},
   "outputs": [
    {
     "data": {
      "text/plain": [
       "{\"Cote d'Ivoire\",\n",
       " 'Netherlands (Kingdom of the)',\n",
       " 'United Kingdom of Great Britain and Northern Ireland',\n",
       " 'occupied Palestinian territory, including east Jerusalem'}"
      ]
     },
     "execution_count": 9,
     "metadata": {},
     "output_type": "execute_result"
    }
   ],
   "source": [
    "# Identify mismatches\n",
    "PM25_only = PM25_countries - SDI_countries\n",
    "PM25_only"
   ]
  },
  {
   "cell_type": "code",
   "execution_count": 10,
   "id": "e5d37ce3",
   "metadata": {},
   "outputs": [],
   "source": [
    "# Manual correction\n",
    "correct_spelling = {\n",
    "    \"Côte d'Ivoire\",\n",
    "    \"United Kingdom\",\n",
    "    \"Netherlands\",\n",
    "    \"Palestine\"\n",
    "}\n",
    "\n",
    "# Apply matching\n",
    "matches = match_countries_semantically(PM25_only, correct_spelling)\n",
    "\n",
    "# Replace in dataframe\n",
    "for country, matched in matches.items():\n",
    "    PM25_df['Location'] = PM25_df['Location'].replace(country, matched)"
   ]
  },
  {
   "cell_type": "code",
   "execution_count": 12,
   "id": "8107a8e0",
   "metadata": {},
   "outputs": [
    {
     "data": {
      "text/plain": [
       "set()"
      ]
     },
     "execution_count": 12,
     "metadata": {},
     "output_type": "execute_result"
    }
   ],
   "source": [
    "# Recheck commonality\n",
    "PM25_countries = set(PM25_df['Location'])\n",
    "PM25_only = PM25_countries - SDI_countries\n",
    "PM25_only # Should be an empty set"
   ]
  },
  {
   "cell_type": "markdown",
   "id": "d1eafd7e",
   "metadata": {},
   "source": [
    "####  PM2.5 countries VS GBD countries"
   ]
  },
  {
   "cell_type": "code",
   "execution_count": 13,
   "id": "49ee9ba0",
   "metadata": {},
   "outputs": [
    {
     "data": {
      "text/plain": [
       "set()"
      ]
     },
     "execution_count": 13,
     "metadata": {},
     "output_type": "execute_result"
    }
   ],
   "source": [
    "# Check GBD match\n",
    "PM25_countries - GBD_countries"
   ]
  },
  {
   "cell_type": "markdown",
   "id": "700c30b9",
   "metadata": {},
   "source": [
    "No mismatches found"
   ]
  },
  {
   "cell_type": "markdown",
   "id": "267b79f4",
   "metadata": {},
   "source": [
    "### Stage 2: Define the `Country` Class\n",
    "\n",
    "We use a class to store each country's data."
   ]
  },
  {
   "cell_type": "code",
   "execution_count": null,
   "id": "10c345a2",
   "metadata": {},
   "outputs": [],
   "source": [
    "class Country(object):\n",
    "    \"\"\"\n",
    "    A class to represent a country and hold various health and environmental datasets for analysis.\n",
    "\n",
    "    Attributes:\n",
    "    name : String, name of the country.\n",
    "    PM25_total, PM25_urban, PM25_towns, PM25_rural, PM25_cities : Dictionary,PM2.5 pollution data\n",
    "    categorized by region type and year.\n",
    "    SDI : Dictionary, socio-demographic Index data by year.\n",
    "    all_causes, cardiovascular, stroke, respiratory : Dictionary, health outcome data from the Global\n",
    "                                                    Burden of Disease study by cause and year.\n",
    "\n",
    "    Class Attributes:\n",
    "    countries : list, a list containing all instances of the Country class.\n",
    "\n",
    "    Methods:\n",
    "    get_name(): Returns the name of the country.\n",
    "    get_country(name): Returns the Country instance with the given name, if it exists.\n",
    "    load_PM25_data(dataframe): Loads PM2.5 data from a dataframe.\n",
    "    load_SDI_data(dataframe): Loads SDI data from a dataframe.\n",
    "    load_GBD_data(dataframe): Loads health outcome data from a dataframe.\n",
    "    \"\"\"\n",
    "    countries = []\n",
    "\n",
    "    def __init__(self, name):\n",
    "        \"\"\"Initiates the object by country name\"\"\"\n",
    "        self.name = name\n",
    "        self.PM25_total = {}\n",
    "        self.PM25_urban = {}\n",
    "        self.PM25_towns = {}\n",
    "        self.PM25_rural = {}\n",
    "        self.PM25_cities = {}\n",
    "        self.SDI = {}\n",
    "        self.all_causes = {}\n",
    "        self.cardiovascular = {}\n",
    "        self.stroke = {}\n",
    "        self.respiratory = {}\n",
    "        Country.countries.append(self)\n",
    "\n",
    "    def get_name(self):\n",
    "        \"\"\"Returns the name of the country.\"\"\"\n",
    "        return self.name\n",
    "\n",
    "    @staticmethod\n",
    "    def get_country(name):\n",
    "        \"\"\"\n",
    "        Searches for a country instance by name.\n",
    "\n",
    "        Parameters:\n",
    "        name : string, the name of the country to search for.\n",
    "\n",
    "        Returns:\n",
    "        The Country object with the given name or an error message if not found.\n",
    "        \"\"\"\n",
    "        for country in Country.countries:\n",
    "            if country.get_name() == name:\n",
    "                return country\n",
    "        return \"There is no listed country with that name.\"\n",
    "\n",
    "    def load_PM25_data(self, dataframe):\n",
    "        \"\"\"\n",
    "        Loads PM2.5 pollution data into the country instance from a pandas DataFrame.\n",
    "        The DataFrame is expected to have columns: 'Period', 'FactValueNumeric', and 'Dim1'.\n",
    "        \"\"\"\n",
    "        for _, row in dataframe.iterrows():\n",
    "            year = row['Period']\n",
    "            value = row['FactValueNumeric']\n",
    "            dim = row['Dim1']\n",
    "            if dim == 'Total':\n",
    "                self.PM25_total[year] = value\n",
    "            elif dim == 'Cities':\n",
    "                self.PM25_cities[year] = value\n",
    "            elif dim == 'Urban':\n",
    "                self.PM25_urban[year] = value\n",
    "            elif dim == 'Towns':\n",
    "                self.PM25_towns[year] = value\n",
    "            elif dim == 'Rural':\n",
    "                self.PM25_rural[year] = value\n",
    "\n",
    "    def load_SDI_data(self, dataframe):\n",
    "        \"\"\"\n",
    "        Loads SDI (Socio-demographic Index) data into the country instance from a pandas DataFrame.\n",
    "        The DataFrame is expected to have columns: 'year_id' and 'mean_value'.\n",
    "        \"\"\"\n",
    "        for _, row in dataframe.iterrows():\n",
    "            year = row['year_id']\n",
    "            value = row['mean_value']\n",
    "            self.SDI[year] = value\n",
    "\n",
    "    def load_GBD_data(self, dataframe):\n",
    "        \"\"\"\n",
    "        Loads Global Burden of Disease data into the country instance from a pandas DataFrame.\n",
    "        The DataFrame is expected to have columns: 'year', 'val', and 'cause'.\n",
    "        \"\"\"\n",
    "        for _, row in dataframe.iterrows():\n",
    "            year = row['year']\n",
    "            value = row['val']\n",
    "            cause = row['cause']\n",
    "            if cause == 'All causes':\n",
    "                self.all_causes[year] = value\n",
    "            elif cause == 'Cardiovascular diseases':\n",
    "                self.cardiovascular[year] = value\n",
    "            elif cause == 'Stroke':\n",
    "                self.stroke[year] = value\n",
    "            elif cause == 'Chronic respiratory diseases':\n",
    "                self.respiratory[year] = value"
   ]
  },
  {
   "cell_type": "markdown",
   "id": "687d593f",
   "metadata": {},
   "source": [
    "### Stage 3: Load Data into `Country` Objects"
   ]
  },
  {
   "cell_type": "markdown",
   "id": "b8be0f6e",
   "metadata": {},
   "source": [
    "A script to load the data from the raw files and store it the country objects."
   ]
  },
  {
   "cell_type": "code",
   "execution_count": 16,
   "id": "c1bff2bb",
   "metadata": {},
   "outputs": [],
   "source": [
    "# Group data by country\n",
    "PM25_country_groups = PM25_df.groupby('Location')\n",
    "SDI_country_groups = SDI_df.groupby('location_name')\n",
    "GBD_country_groups = GBD_df.groupby('location')\n",
    "\n",
    "# Create Country instances and load data\n",
    "for name in PM25_countries:\n",
    "    country = Country(name)\n",
    "    PM25_data = PM25_country_groups.get_group(name)\n",
    "    SDI_data = SDI_country_groups.get_group(name)\n",
    "    GBD_data = GBD_country_groups.get_group(name)\n",
    "    country.load_PM25_data(PM25_data)\n",
    "    country.load_SDI_data(SDI_data)\n",
    "    country.load_GBD_data(GBD_data)"
   ]
  },
  {
   "cell_type": "code",
   "execution_count": null,
   "id": "51a69446",
   "metadata": {},
   "outputs": [
    {
     "name": "stdout",
     "output_type": "stream",
     "text": [
      "195\n"
     ]
    },
    {
     "data": {
      "text/plain": [
       "{2019: 10.84,\n",
       " 2018: 10.87,\n",
       " 2017: 11.89,\n",
       " 2016: 12.54,\n",
       " 2015: 12.75,\n",
       " 2014: 13.41,\n",
       " 2013: 13.45,\n",
       " 2012: 12.37,\n",
       " 2011: 13.91,\n",
       " 2010: 14.22}"
      ]
     },
     "execution_count": 26,
     "metadata": {},
     "output_type": "execute_result"
    }
   ],
   "source": [
    "# Checks\n",
    "print(len(Country.countries)) # There should be 195 country objects\n",
    "Country.get_country('Japan').PM25_total # should output a dict of values per year (2010-2019)"
   ]
  },
  {
   "cell_type": "markdown",
   "id": "f0b52cbd",
   "metadata": {},
   "source": [
    "### Stage 4: Data Extraction\n",
    "\n",
    "To extract data from `Country` objects and write into a csv file in a format suitable for analysis."
   ]
  },
  {
   "cell_type": "code",
   "execution_count": 23,
   "id": "fdffa1d8",
   "metadata": {},
   "outputs": [],
   "source": [
    "# Create a list to store rows\n",
    "data_rows = []\n",
    "\n",
    "# Loop over all Country objects\n",
    "for country in Country.countries:\n",
    "    # Get the list of years in the PM2.5 dictionary (assumed to have the 2010–2019 keys)\n",
    "    years = sorted(country.PM25_total.keys())\n",
    "    \n",
    "    for year in years:\n",
    "        row = {\n",
    "            'Country': country.name,\n",
    "            'Year': year,\n",
    "            'SDI': country.SDI.get(year, None),\n",
    "            'PM2.5': country.PM25_total.get(year, None),\n",
    "            'All-cause DALYs': country.all_causes.get(year, None),\n",
    "            'Cardiovascular DALYs': country.cardiovascular.get(year, None),\n",
    "            'Stroke DALYs': country.stroke.get(year, None),\n",
    "            'Respiratory DALYs': country.respiratory.get(year, None)\n",
    "        }\n",
    "        data_rows.append(row)"
   ]
  },
  {
   "cell_type": "code",
   "execution_count": null,
   "id": "3941cc34",
   "metadata": {},
   "outputs": [
    {
     "data": {
      "text/plain": [
       "1950"
      ]
     },
     "execution_count": 24,
     "metadata": {},
     "output_type": "execute_result"
    }
   ],
   "source": [
    "# Convert list of dicts to DataFrame\n",
    "clean_df = pd.DataFrame(data_rows)\n",
    "\n",
    "# Check\n",
    "len(clean_df) # should have 1950 rows of data"
   ]
  },
  {
   "cell_type": "code",
   "execution_count": 27,
   "id": "e564a1ea",
   "metadata": {},
   "outputs": [
    {
     "name": "stdout",
     "output_type": "stream",
     "text": [
      "✅ Clean data saved to (../1_datasets/final_datasets/clean_merged_data.csv)\n"
     ]
    }
   ],
   "source": [
    "# Save to CSV\n",
    "output_filename = '../1_datasets/final_datasets/clean_merged_data.csv'\n",
    "clean_df.to_csv(output_filename, index=False)\n",
    "\n",
    "print(f\"✅ Clean data saved to ({output_filename})\")"
   ]
  }
 ],
 "metadata": {
  "kernelspec": {
   "display_name": "Python 3",
   "language": "python",
   "name": "python3"
  },
  "language_info": {
   "codemirror_mode": {
    "name": "ipython",
    "version": 3
   },
   "file_extension": ".py",
   "mimetype": "text/x-python",
   "name": "python",
   "nbconvert_exporter": "python",
   "pygments_lexer": "ipython3",
   "version": "3.13.0"
  }
 },
 "nbformat": 4,
 "nbformat_minor": 5
}

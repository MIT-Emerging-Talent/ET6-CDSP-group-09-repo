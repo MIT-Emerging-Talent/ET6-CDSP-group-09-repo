{
 "cells": [
  {
   "cell_type": "code",
   "execution_count": 1,
   "id": "2935a51b",
   "metadata": {},
   "outputs": [],
   "source": [
    "import pandas as pd"
   ]
  },
  {
   "cell_type": "code",
   "execution_count": 2,
   "id": "5b548797",
   "metadata": {},
   "outputs": [],
   "source": [
    "gbd_health = pd.read_csv(\"../1_datasets/cleaned_datasets/clean_gbd_health.csv\").copy()\n",
    "sdi_pm25 = pd.read_csv(\"../1_datasets/cleaned_datasets/merged_sdi_pm25_data.csv\").copy()"
   ]
  },
  {
   "cell_type": "code",
   "execution_count": 3,
   "id": "2c199864",
   "metadata": {},
   "outputs": [
    {
     "data": {
      "text/html": [
       "<div>\n",
       "<style scoped>\n",
       "    .dataframe tbody tr th:only-of-type {\n",
       "        vertical-align: middle;\n",
       "    }\n",
       "\n",
       "    .dataframe tbody tr th {\n",
       "        vertical-align: top;\n",
       "    }\n",
       "\n",
       "    .dataframe thead th {\n",
       "        text-align: right;\n",
       "    }\n",
       "</style>\n",
       "<table border=\"1\" class=\"dataframe\">\n",
       "  <thead>\n",
       "    <tr style=\"text-align: right;\">\n",
       "      <th></th>\n",
       "      <th>measure</th>\n",
       "      <th>Country</th>\n",
       "      <th>cause</th>\n",
       "      <th>Risk-Exposure-Impact</th>\n",
       "      <th>metric</th>\n",
       "      <th>Year</th>\n",
       "      <th>measure Val</th>\n",
       "      <th>upper</th>\n",
       "      <th>lower</th>\n",
       "    </tr>\n",
       "  </thead>\n",
       "  <tbody>\n",
       "    <tr>\n",
       "      <th>0</th>\n",
       "      <td>DALYs (Disability-Adjusted Life Years)</td>\n",
       "      <td>China</td>\n",
       "      <td>Stroke</td>\n",
       "      <td>Ambient particulate matter pollution</td>\n",
       "      <td>Percent</td>\n",
       "      <td>2010</td>\n",
       "      <td>0.221882</td>\n",
       "      <td>0.296283</td>\n",
       "      <td>0.128691</td>\n",
       "    </tr>\n",
       "    <tr>\n",
       "      <th>1</th>\n",
       "      <td>DALYs (Disability-Adjusted Life Years)</td>\n",
       "      <td>China</td>\n",
       "      <td>Stroke</td>\n",
       "      <td>Ambient particulate matter pollution</td>\n",
       "      <td>Rate</td>\n",
       "      <td>2010</td>\n",
       "      <td>793.957477</td>\n",
       "      <td>1068.976845</td>\n",
       "      <td>455.632535</td>\n",
       "    </tr>\n",
       "    <tr>\n",
       "      <th>2</th>\n",
       "      <td>DALYs (Disability-Adjusted Life Years)</td>\n",
       "      <td>China</td>\n",
       "      <td>Stroke</td>\n",
       "      <td>Ambient particulate matter pollution</td>\n",
       "      <td>Percent</td>\n",
       "      <td>2011</td>\n",
       "      <td>0.234283</td>\n",
       "      <td>0.307520</td>\n",
       "      <td>0.138086</td>\n",
       "    </tr>\n",
       "    <tr>\n",
       "      <th>3</th>\n",
       "      <td>DALYs (Disability-Adjusted Life Years)</td>\n",
       "      <td>China</td>\n",
       "      <td>Stroke</td>\n",
       "      <td>Ambient particulate matter pollution</td>\n",
       "      <td>Rate</td>\n",
       "      <td>2011</td>\n",
       "      <td>835.920051</td>\n",
       "      <td>1110.785446</td>\n",
       "      <td>492.084815</td>\n",
       "    </tr>\n",
       "    <tr>\n",
       "      <th>4</th>\n",
       "      <td>DALYs (Disability-Adjusted Life Years)</td>\n",
       "      <td>China</td>\n",
       "      <td>Stroke</td>\n",
       "      <td>Ambient particulate matter pollution</td>\n",
       "      <td>Percent</td>\n",
       "      <td>2012</td>\n",
       "      <td>0.249782</td>\n",
       "      <td>0.321437</td>\n",
       "      <td>0.151426</td>\n",
       "    </tr>\n",
       "  </tbody>\n",
       "</table>\n",
       "</div>"
      ],
      "text/plain": [
       "                                  measure Country   cause  \\\n",
       "0  DALYs (Disability-Adjusted Life Years)   China  Stroke   \n",
       "1  DALYs (Disability-Adjusted Life Years)   China  Stroke   \n",
       "2  DALYs (Disability-Adjusted Life Years)   China  Stroke   \n",
       "3  DALYs (Disability-Adjusted Life Years)   China  Stroke   \n",
       "4  DALYs (Disability-Adjusted Life Years)   China  Stroke   \n",
       "\n",
       "                   Risk-Exposure-Impact   metric  Year  measure Val  \\\n",
       "0  Ambient particulate matter pollution  Percent  2010     0.221882   \n",
       "1  Ambient particulate matter pollution     Rate  2010   793.957477   \n",
       "2  Ambient particulate matter pollution  Percent  2011     0.234283   \n",
       "3  Ambient particulate matter pollution     Rate  2011   835.920051   \n",
       "4  Ambient particulate matter pollution  Percent  2012     0.249782   \n",
       "\n",
       "         upper       lower  \n",
       "0     0.296283    0.128691  \n",
       "1  1068.976845  455.632535  \n",
       "2     0.307520    0.138086  \n",
       "3  1110.785446  492.084815  \n",
       "4     0.321437    0.151426  "
      ]
     },
     "execution_count": 3,
     "metadata": {},
     "output_type": "execute_result"
    }
   ],
   "source": [
    "gbd_health.head(5)"
   ]
  },
  {
   "cell_type": "code",
   "execution_count": 4,
   "id": "daf8dcda",
   "metadata": {},
   "outputs": [
    {
     "data": {
      "text/plain": [
       "measure                    1\n",
       "Country                   25\n",
       "cause                      3\n",
       "Risk-Exposure-Impact       1\n",
       "metric                     2\n",
       "Year                      10\n",
       "measure Val             1500\n",
       "upper                   1500\n",
       "lower                   1500\n",
       "dtype: int64"
      ]
     },
     "execution_count": 4,
     "metadata": {},
     "output_type": "execute_result"
    }
   ],
   "source": [
    "gbd_health.nunique()"
   ]
  },
  {
   "cell_type": "code",
   "execution_count": 5,
   "id": "a8101b05",
   "metadata": {},
   "outputs": [
    {
     "data": {
      "text/html": [
       "<div>\n",
       "<style scoped>\n",
       "    .dataframe tbody tr th:only-of-type {\n",
       "        vertical-align: middle;\n",
       "    }\n",
       "\n",
       "    .dataframe tbody tr th {\n",
       "        vertical-align: top;\n",
       "    }\n",
       "\n",
       "    .dataframe thead th {\n",
       "        text-align: right;\n",
       "    }\n",
       "</style>\n",
       "<table border=\"1\" class=\"dataframe\">\n",
       "  <thead>\n",
       "    <tr style=\"text-align: right;\">\n",
       "      <th></th>\n",
       "      <th>Country</th>\n",
       "      <th>Year</th>\n",
       "      <th>PM25 concentration</th>\n",
       "      <th>PM25 lower bound</th>\n",
       "      <th>PM25 upper bound</th>\n",
       "      <th>SDI mean value</th>\n",
       "    </tr>\n",
       "  </thead>\n",
       "  <tbody>\n",
       "    <tr>\n",
       "      <th>0</th>\n",
       "      <td>Germany</td>\n",
       "      <td>2019</td>\n",
       "      <td>10.73</td>\n",
       "      <td>10.56</td>\n",
       "      <td>10.93</td>\n",
       "      <td>0.899703</td>\n",
       "    </tr>\n",
       "    <tr>\n",
       "      <th>1</th>\n",
       "      <td>Japan</td>\n",
       "      <td>2019</td>\n",
       "      <td>10.84</td>\n",
       "      <td>10.02</td>\n",
       "      <td>11.55</td>\n",
       "      <td>0.867148</td>\n",
       "    </tr>\n",
       "    <tr>\n",
       "      <th>2</th>\n",
       "      <td>Brazil</td>\n",
       "      <td>2019</td>\n",
       "      <td>10.94</td>\n",
       "      <td>9.37</td>\n",
       "      <td>13.01</td>\n",
       "      <td>0.645298</td>\n",
       "    </tr>\n",
       "    <tr>\n",
       "      <th>3</th>\n",
       "      <td>Kenya</td>\n",
       "      <td>2019</td>\n",
       "      <td>12.52</td>\n",
       "      <td>7.80</td>\n",
       "      <td>17.78</td>\n",
       "      <td>0.508004</td>\n",
       "    </tr>\n",
       "    <tr>\n",
       "      <th>4</th>\n",
       "      <td>Romania</td>\n",
       "      <td>2019</td>\n",
       "      <td>13.30</td>\n",
       "      <td>12.55</td>\n",
       "      <td>14.10</td>\n",
       "      <td>0.760284</td>\n",
       "    </tr>\n",
       "  </tbody>\n",
       "</table>\n",
       "</div>"
      ],
      "text/plain": [
       "   Country  Year  PM25 concentration  PM25 lower bound  PM25 upper bound  \\\n",
       "0  Germany  2019               10.73             10.56             10.93   \n",
       "1    Japan  2019               10.84             10.02             11.55   \n",
       "2   Brazil  2019               10.94              9.37             13.01   \n",
       "3    Kenya  2019               12.52              7.80             17.78   \n",
       "4  Romania  2019               13.30             12.55             14.10   \n",
       "\n",
       "   SDI mean value  \n",
       "0        0.899703  \n",
       "1        0.867148  \n",
       "2        0.645298  \n",
       "3        0.508004  \n",
       "4        0.760284  "
      ]
     },
     "execution_count": 5,
     "metadata": {},
     "output_type": "execute_result"
    }
   ],
   "source": [
    "sdi_pm25.head(5)"
   ]
  },
  {
   "cell_type": "code",
   "execution_count": 6,
   "id": "0090b57e",
   "metadata": {},
   "outputs": [
    {
     "name": "stdout",
     "output_type": "stream",
     "text": [
      "GBD Shape: (1500, 9)\n",
      "SDI PM25 Shape: (250, 6)\n"
     ]
    }
   ],
   "source": [
    "print(f\"GBD Shape: {gbd_health.shape}\")\n",
    "print(f\"SDI PM25 Shape: {sdi_pm25.shape}\")"
   ]
  },
  {
   "cell_type": "code",
   "execution_count": 7,
   "id": "00e45d5a",
   "metadata": {},
   "outputs": [
    {
     "data": {
      "text/plain": [
       "Country                25\n",
       "Year                   10\n",
       "PM25 concentration    242\n",
       "PM25 lower bound      234\n",
       "PM25 upper bound      243\n",
       "SDI mean value        250\n",
       "dtype: int64"
      ]
     },
     "execution_count": 7,
     "metadata": {},
     "output_type": "execute_result"
    }
   ],
   "source": [
    "sdi_pm25.nunique()"
   ]
  },
  {
   "cell_type": "code",
   "execution_count": 8,
   "id": "f8bbea3c",
   "metadata": {},
   "outputs": [
    {
     "name": "stdout",
     "output_type": "stream",
     "text": [
      "GBD Health Years: [2010 2011 2012 2013 2014 2015 2016 2017 2018 2019]\n",
      "SDI PM25 Years: [2019 2018 2017 2016 2015 2014 2013 2012 2011 2010]\n"
     ]
    }
   ],
   "source": [
    "print(f\"GBD Health Years: {gbd_health.Year.unique()}\")\n",
    "print(f\"SDI PM25 Years: {sdi_pm25.Year.unique()}\")"
   ]
  },
  {
   "cell_type": "code",
   "execution_count": 9,
   "id": "8b311485",
   "metadata": {},
   "outputs": [
    {
     "name": "stdout",
     "output_type": "stream",
     "text": [
      "GBD Health Countries: ['China' 'Indonesia' 'Fiji' 'Romania' 'Japan' 'Russian Federation'\n",
      " 'Republic of Korea' 'Australia' 'Italy' 'Germany' 'Spain' 'Canada'\n",
      " 'United States of America' 'Chile' 'Mexico' 'Saudi Arabia' 'Brazil'\n",
      " 'Egypt' 'India' 'Afghanistan' 'Ethiopia' 'Bangladesh' 'Kenya'\n",
      " 'South Africa' 'Nigeria']\n",
      "SDI PM25 Countries: ['Germany' 'Japan' 'Brazil' 'Kenya' 'Romania' 'Italy' 'Mexico' 'Indonesia'\n",
      " 'South Africa' 'Chile' 'Ethiopia' 'Republic of Korea' 'China'\n",
      " 'Bangladesh' 'India' 'Nigeria' 'Saudi Arabia' 'Canada' 'Afghanistan'\n",
      " 'Egypt' 'United States of America' 'Fiji' 'Russian Federation'\n",
      " 'Australia' 'Spain']\n"
     ]
    }
   ],
   "source": [
    "print(f\"GBD Health Countries: {gbd_health.Country.unique()}\")\n",
    "print(f\"SDI PM25 Countries: {sdi_pm25.Country.unique()}\")"
   ]
  },
  {
   "cell_type": "code",
   "execution_count": 10,
   "id": "e099cf2c",
   "metadata": {},
   "outputs": [],
   "source": [
    "# Helper function to check mismatches\n",
    "def check_mismatch(df1, df2, col):\n",
    "    unique_1 = set(df1[col].unique())\n",
    "    unique_2 = set(df2[col].unique())\n",
    "    diff = unique_1 - unique_2\n",
    "    if diff:\n",
    "        print(f\"Values in {col} from df1 not in df2:\", diff)\n",
    "    else:\n",
    "        print(f\"No mismatch in '{col}'\")"
   ]
  },
  {
   "cell_type": "code",
   "execution_count": 11,
   "id": "0c2158a0",
   "metadata": {},
   "outputs": [
    {
     "name": "stdout",
     "output_type": "stream",
     "text": [
      "No mismatch in 'Country'\n"
     ]
    }
   ],
   "source": [
    "check_mismatch(gbd_health, sdi_pm25, \"Country\")"
   ]
  },
  {
   "cell_type": "code",
   "execution_count": 12,
   "id": "afe401db",
   "metadata": {},
   "outputs": [
    {
     "name": "stdout",
     "output_type": "stream",
     "text": [
      "No mismatch in 'Year'\n"
     ]
    }
   ],
   "source": [
    "check_mismatch(gbd_health, sdi_pm25, \"Year\")"
   ]
  },
  {
   "cell_type": "code",
   "execution_count": 13,
   "id": "af62de2e",
   "metadata": {},
   "outputs": [],
   "source": [
    "# Standardize column names\n",
    "gbd_health.columns = gbd_health.columns.str.lower().str.strip()\n",
    "sdi_pm25.columns = sdi_pm25.columns.str.lower().str.strip()"
   ]
  },
  {
   "cell_type": "code",
   "execution_count": 14,
   "id": "93e1dc52",
   "metadata": {},
   "outputs": [
    {
     "data": {
      "text/plain": [
       "Index(['measure', 'country', 'cause', 'risk-exposure-impact', 'metric', 'year',\n",
       "       'measure val', 'upper', 'lower'],\n",
       "      dtype='object')"
      ]
     },
     "execution_count": 14,
     "metadata": {},
     "output_type": "execute_result"
    }
   ],
   "source": [
    "gbd_health.columns"
   ]
  },
  {
   "cell_type": "code",
   "execution_count": 15,
   "id": "fb27141d",
   "metadata": {},
   "outputs": [
    {
     "data": {
      "text/plain": [
       "Index(['country', 'year', 'pm25 concentration', 'pm25 lower bound',\n",
       "       'pm25 upper bound', 'sdi mean value'],\n",
       "      dtype='object')"
      ]
     },
     "execution_count": 15,
     "metadata": {},
     "output_type": "execute_result"
    }
   ],
   "source": [
    "sdi_pm25.columns"
   ]
  },
  {
   "cell_type": "code",
   "execution_count": 16,
   "id": "c8c6c563",
   "metadata": {},
   "outputs": [],
   "source": [
    "# Merge the two DataFrames\n",
    "merged_df = pd.merge(gbd_health, sdi_pm25, on=[\"country\", \"year\"], how=\"inner\")"
   ]
  },
  {
   "cell_type": "code",
   "execution_count": 17,
   "id": "0d067bbb",
   "metadata": {},
   "outputs": [
    {
     "name": "stdout",
     "output_type": "stream",
     "text": [
      "(1500, 13)\n"
     ]
    }
   ],
   "source": [
    "print(merged_df.shape)"
   ]
  },
  {
   "cell_type": "code",
   "execution_count": 19,
   "id": "61f66a5f",
   "metadata": {},
   "outputs": [
    {
     "data": {
      "text/html": [
       "<div>\n",
       "<style scoped>\n",
       "    .dataframe tbody tr th:only-of-type {\n",
       "        vertical-align: middle;\n",
       "    }\n",
       "\n",
       "    .dataframe tbody tr th {\n",
       "        vertical-align: top;\n",
       "    }\n",
       "\n",
       "    .dataframe thead th {\n",
       "        text-align: right;\n",
       "    }\n",
       "</style>\n",
       "<table border=\"1\" class=\"dataframe\">\n",
       "  <thead>\n",
       "    <tr style=\"text-align: right;\">\n",
       "      <th></th>\n",
       "      <th>measure</th>\n",
       "      <th>country</th>\n",
       "      <th>cause</th>\n",
       "      <th>risk-exposure-impact</th>\n",
       "      <th>metric</th>\n",
       "      <th>year</th>\n",
       "      <th>measure val</th>\n",
       "      <th>upper</th>\n",
       "      <th>lower</th>\n",
       "      <th>pm25 concentration</th>\n",
       "      <th>pm25 lower bound</th>\n",
       "      <th>pm25 upper bound</th>\n",
       "      <th>sdi mean value</th>\n",
       "    </tr>\n",
       "  </thead>\n",
       "  <tbody>\n",
       "    <tr>\n",
       "      <th>0</th>\n",
       "      <td>DALYs (Disability-Adjusted Life Years)</td>\n",
       "      <td>China</td>\n",
       "      <td>Stroke</td>\n",
       "      <td>Ambient particulate matter pollution</td>\n",
       "      <td>Percent</td>\n",
       "      <td>2010</td>\n",
       "      <td>0.221882</td>\n",
       "      <td>0.296283</td>\n",
       "      <td>0.128691</td>\n",
       "      <td>47.18</td>\n",
       "      <td>44.59</td>\n",
       "      <td>49.38</td>\n",
       "      <td>0.641521</td>\n",
       "    </tr>\n",
       "    <tr>\n",
       "      <th>1</th>\n",
       "      <td>DALYs (Disability-Adjusted Life Years)</td>\n",
       "      <td>China</td>\n",
       "      <td>Stroke</td>\n",
       "      <td>Ambient particulate matter pollution</td>\n",
       "      <td>Rate</td>\n",
       "      <td>2010</td>\n",
       "      <td>793.957477</td>\n",
       "      <td>1068.976845</td>\n",
       "      <td>455.632535</td>\n",
       "      <td>47.18</td>\n",
       "      <td>44.59</td>\n",
       "      <td>49.38</td>\n",
       "      <td>0.641521</td>\n",
       "    </tr>\n",
       "    <tr>\n",
       "      <th>2</th>\n",
       "      <td>DALYs (Disability-Adjusted Life Years)</td>\n",
       "      <td>China</td>\n",
       "      <td>Stroke</td>\n",
       "      <td>Ambient particulate matter pollution</td>\n",
       "      <td>Percent</td>\n",
       "      <td>2011</td>\n",
       "      <td>0.234283</td>\n",
       "      <td>0.307520</td>\n",
       "      <td>0.138086</td>\n",
       "      <td>51.92</td>\n",
       "      <td>45.85</td>\n",
       "      <td>59.45</td>\n",
       "      <td>0.651448</td>\n",
       "    </tr>\n",
       "    <tr>\n",
       "      <th>3</th>\n",
       "      <td>DALYs (Disability-Adjusted Life Years)</td>\n",
       "      <td>China</td>\n",
       "      <td>Stroke</td>\n",
       "      <td>Ambient particulate matter pollution</td>\n",
       "      <td>Rate</td>\n",
       "      <td>2011</td>\n",
       "      <td>835.920051</td>\n",
       "      <td>1110.785446</td>\n",
       "      <td>492.084815</td>\n",
       "      <td>51.92</td>\n",
       "      <td>45.85</td>\n",
       "      <td>59.45</td>\n",
       "      <td>0.651448</td>\n",
       "    </tr>\n",
       "    <tr>\n",
       "      <th>4</th>\n",
       "      <td>DALYs (Disability-Adjusted Life Years)</td>\n",
       "      <td>China</td>\n",
       "      <td>Stroke</td>\n",
       "      <td>Ambient particulate matter pollution</td>\n",
       "      <td>Percent</td>\n",
       "      <td>2012</td>\n",
       "      <td>0.249782</td>\n",
       "      <td>0.321437</td>\n",
       "      <td>0.151426</td>\n",
       "      <td>53.43</td>\n",
       "      <td>46.71</td>\n",
       "      <td>59.15</td>\n",
       "      <td>0.657144</td>\n",
       "    </tr>\n",
       "  </tbody>\n",
       "</table>\n",
       "</div>"
      ],
      "text/plain": [
       "                                  measure country   cause  \\\n",
       "0  DALYs (Disability-Adjusted Life Years)   China  Stroke   \n",
       "1  DALYs (Disability-Adjusted Life Years)   China  Stroke   \n",
       "2  DALYs (Disability-Adjusted Life Years)   China  Stroke   \n",
       "3  DALYs (Disability-Adjusted Life Years)   China  Stroke   \n",
       "4  DALYs (Disability-Adjusted Life Years)   China  Stroke   \n",
       "\n",
       "                   risk-exposure-impact   metric  year  measure val  \\\n",
       "0  Ambient particulate matter pollution  Percent  2010     0.221882   \n",
       "1  Ambient particulate matter pollution     Rate  2010   793.957477   \n",
       "2  Ambient particulate matter pollution  Percent  2011     0.234283   \n",
       "3  Ambient particulate matter pollution     Rate  2011   835.920051   \n",
       "4  Ambient particulate matter pollution  Percent  2012     0.249782   \n",
       "\n",
       "         upper       lower  pm25 concentration  pm25 lower bound  \\\n",
       "0     0.296283    0.128691               47.18             44.59   \n",
       "1  1068.976845  455.632535               47.18             44.59   \n",
       "2     0.307520    0.138086               51.92             45.85   \n",
       "3  1110.785446  492.084815               51.92             45.85   \n",
       "4     0.321437    0.151426               53.43             46.71   \n",
       "\n",
       "   pm25 upper bound  sdi mean value  \n",
       "0             49.38        0.641521  \n",
       "1             49.38        0.641521  \n",
       "2             59.45        0.651448  \n",
       "3             59.45        0.651448  \n",
       "4             59.15        0.657144  "
      ]
     },
     "execution_count": 19,
     "metadata": {},
     "output_type": "execute_result"
    }
   ],
   "source": [
    "merged_df.head()"
   ]
  },
  {
   "cell_type": "code",
   "execution_count": 20,
   "id": "14e2e662",
   "metadata": {},
   "outputs": [],
   "source": [
    "merged_df.to_csv(\"final_gbd_pm25_sdi.csv\", index=False)"
   ]
  }
 ],
 "metadata": {
  "kernelspec": {
   "display_name": "base",
   "language": "python",
   "name": "python3"
  },
  "language_info": {
   "codemirror_mode": {
    "name": "ipython",
    "version": 3
   },
   "file_extension": ".py",
   "mimetype": "text/x-python",
   "name": "python",
   "nbconvert_exporter": "python",
   "pygments_lexer": "ipython3",
   "version": "3.12.7"
  }
 },
 "nbformat": 4,
 "nbformat_minor": 5
}

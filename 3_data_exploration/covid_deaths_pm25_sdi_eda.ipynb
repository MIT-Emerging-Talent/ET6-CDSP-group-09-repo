{
 "cells": [
  {
   "cell_type": "markdown",
   "id": "e7896d01",
   "metadata": {},
   "source": [
    "# Exploratory Data Analysis (EDA) for the COVID-19 Mortality Objective\n",
    "\n",
    "This section explores the relationship between average long-term PM₂.₅ concentrations (2010–2019), 2020 SDI values, and COVID-19 death rates in 2020 across countries. We aim to understand whether prior exposure to air pollution and socio-demographic development levels might help explain differences in COVID-19 outcomes.\n"
   ]
  },
  {
   "cell_type": "code",
   "execution_count": 9,
   "id": "dce5bcf2",
   "metadata": {},
   "outputs": [],
   "source": [
    "# Import Libraries\n",
    "import pandas as pd\n",
    "import matplotlib.pyplot as plt\n",
    "import seaborn as sns"
   ]
  },
  {
   "cell_type": "markdown",
   "id": "48e26cf6",
   "metadata": {},
   "source": [
    "### Load and Preview Dataset\n",
    "\n",
    "We'll begin by loading the final cleaned dataset containing the average PM₂.₅ concentrations (2010–2019), SDI values for 2020, and COVID-19 death rates for 2020."
   ]
  },
  {
   "cell_type": "code",
   "execution_count": 10,
   "id": "8a6aa4a9",
   "metadata": {},
   "outputs": [],
   "source": [
    "eda_covid = pd.read_csv(\"../1_datasets/final_datasets/final_merged_covid_sdi_pm2.5.csv\")"
   ]
  },
  {
   "cell_type": "markdown",
   "id": "f6dcd670",
   "metadata": {},
   "source": [
    "### Descriptive Statistics\n",
    "\n",
    "We’ll summarize the key variables — COVID-19 death rate, average PM2.5, and SDI to understand their distributions and central tendencies.\n"
   ]
  },
  {
   "cell_type": "code",
   "execution_count": 12,
   "id": "83d64ff2",
   "metadata": {},
   "outputs": [
    {
     "name": "stdout",
     "output_type": "stream",
     "text": [
      "<class 'pandas.core.frame.DataFrame'>\n",
      "RangeIndex: 190 entries, 0 to 189\n",
      "Data columns (total 7 columns):\n",
      " #   Column               Non-Null Count  Dtype  \n",
      "---  ------               --------------  -----  \n",
      " 0   Country              190 non-null    object \n",
      " 1   COVID_Deaths_Rate    190 non-null    float64\n",
      " 2   upper                190 non-null    float64\n",
      " 3   lower                190 non-null    float64\n",
      " 4   Mean_PM25_2010_2019  190 non-null    float64\n",
      " 5   Year                 190 non-null    int64  \n",
      " 6   SDI_mean_value       190 non-null    float64\n",
      "dtypes: float64(5), int64(1), object(1)\n",
      "memory usage: 10.5+ KB\n",
      "None\n",
      "       COVID_Deaths_Rate         upper         lower  Mean_PM25_2010_2019  \\\n",
      "count       1.900000e+02  1.900000e+02  1.900000e+02           190.000000   \n",
      "mean        9.048266e+01  1.103558e+02  7.232690e+01            22.641584   \n",
      "std         9.202864e+01  1.087000e+02  7.774878e+01            14.428675   \n",
      "min         4.933457e-11  4.933457e-11  4.933457e-11             5.306000   \n",
      "25%         1.301617e+01  2.234103e+01  7.300091e+00            11.179250   \n",
      "50%         7.147789e+01  8.903881e+01  4.876124e+01            18.843500   \n",
      "75%         1.408973e+02  1.645937e+02  1.084427e+02            29.685500   \n",
      "max         4.135222e+02  5.357614e+02  3.787964e+02            67.013000   \n",
      "\n",
      "         Year  SDI_mean_value  \n",
      "count   190.0      190.000000  \n",
      "mean   2020.0        0.636614  \n",
      "std       0.0        0.174796  \n",
      "min    2020.0        0.076363  \n",
      "25%    2020.0        0.507227  \n",
      "50%    2020.0        0.657693  \n",
      "75%    2020.0        0.769124  \n",
      "max    2020.0        0.932028  \n"
     ]
    },
    {
     "data": {
      "text/html": [
       "<div>\n",
       "<style scoped>\n",
       "    .dataframe tbody tr th:only-of-type {\n",
       "        vertical-align: middle;\n",
       "    }\n",
       "\n",
       "    .dataframe tbody tr th {\n",
       "        vertical-align: top;\n",
       "    }\n",
       "\n",
       "    .dataframe thead th {\n",
       "        text-align: right;\n",
       "    }\n",
       "</style>\n",
       "<table border=\"1\" class=\"dataframe\">\n",
       "  <thead>\n",
       "    <tr style=\"text-align: right;\">\n",
       "      <th></th>\n",
       "      <th>Country</th>\n",
       "      <th>COVID_Deaths_Rate</th>\n",
       "      <th>upper</th>\n",
       "      <th>lower</th>\n",
       "      <th>Mean_PM25_2010_2019</th>\n",
       "      <th>Year</th>\n",
       "      <th>SDI_mean_value</th>\n",
       "    </tr>\n",
       "  </thead>\n",
       "  <tbody>\n",
       "    <tr>\n",
       "      <th>0</th>\n",
       "      <td>Spain</td>\n",
       "      <td>5.413404e+01</td>\n",
       "      <td>5.658407e+01</td>\n",
       "      <td>5.143939e+01</td>\n",
       "      <td>10.995</td>\n",
       "      <td>2020</td>\n",
       "      <td>0.766506</td>\n",
       "    </tr>\n",
       "    <tr>\n",
       "      <th>1</th>\n",
       "      <td>Belgium</td>\n",
       "      <td>7.419978e+01</td>\n",
       "      <td>7.682945e+01</td>\n",
       "      <td>7.168123e+01</td>\n",
       "      <td>13.595</td>\n",
       "      <td>2020</td>\n",
       "      <td>0.851347</td>\n",
       "    </tr>\n",
       "    <tr>\n",
       "      <th>2</th>\n",
       "      <td>Samoa</td>\n",
       "      <td>3.247490e-09</td>\n",
       "      <td>3.247490e-09</td>\n",
       "      <td>3.247490e-09</td>\n",
       "      <td>7.623</td>\n",
       "      <td>2020</td>\n",
       "      <td>0.590075</td>\n",
       "    </tr>\n",
       "    <tr>\n",
       "      <th>3</th>\n",
       "      <td>Papua New Guinea</td>\n",
       "      <td>2.144257e+01</td>\n",
       "      <td>4.769251e+01</td>\n",
       "      <td>3.794842e+00</td>\n",
       "      <td>8.645</td>\n",
       "      <td>2020</td>\n",
       "      <td>0.415187</td>\n",
       "    </tr>\n",
       "    <tr>\n",
       "      <th>4</th>\n",
       "      <td>Republic of Moldova</td>\n",
       "      <td>6.889802e+01</td>\n",
       "      <td>8.799219e+01</td>\n",
       "      <td>4.823898e+01</td>\n",
       "      <td>14.186</td>\n",
       "      <td>2020</td>\n",
       "      <td>0.727711</td>\n",
       "    </tr>\n",
       "  </tbody>\n",
       "</table>\n",
       "</div>"
      ],
      "text/plain": [
       "               Country  COVID_Deaths_Rate         upper         lower  \\\n",
       "0                Spain       5.413404e+01  5.658407e+01  5.143939e+01   \n",
       "1              Belgium       7.419978e+01  7.682945e+01  7.168123e+01   \n",
       "2                Samoa       3.247490e-09  3.247490e-09  3.247490e-09   \n",
       "3     Papua New Guinea       2.144257e+01  4.769251e+01  3.794842e+00   \n",
       "4  Republic of Moldova       6.889802e+01  8.799219e+01  4.823898e+01   \n",
       "\n",
       "   Mean_PM25_2010_2019  Year  SDI_mean_value  \n",
       "0               10.995  2020        0.766506  \n",
       "1               13.595  2020        0.851347  \n",
       "2                7.623  2020        0.590075  \n",
       "3                8.645  2020        0.415187  \n",
       "4               14.186  2020        0.727711  "
      ]
     },
     "execution_count": 12,
     "metadata": {},
     "output_type": "execute_result"
    }
   ],
   "source": [
    "# Basic info\n",
    "print(eda_covid.info())\n",
    "print(eda_covid.describe())\n",
    "eda_covid.head()"
   ]
  },
  {
   "cell_type": "markdown",
   "id": "7ce8997e",
   "metadata": {},
   "source": [
    "### Visualizing Distributions\n",
    "\n",
    "Here we explore the distributions of:\n",
    "- COVID-19 death rate\n",
    "- Average PM₂.₅ concentration\n",
    "- 2020 SDI\n",
    "\n",
    "This helps detect skewness, outliers, and general trends.\n"
   ]
  },
  {
   "cell_type": "code",
   "execution_count": null,
   "id": "11c65f93",
   "metadata": {},
   "outputs": [
    {
     "data": {
      "image/png": "[encoded data removed]",
      "text/plain": [
       "<Figure size 1200x600 with 1 Axes>"
      ]
     },
     "metadata": {},
     "output_type": "display_data"
    },
    {
     "data": {
      "image/png": "[encoded data removed]",
      "text/plain": [
       "<Figure size 800x600 with 1 Axes>"
      ]
     },
     "metadata": {},
     "output_type": "display_data"
    }
   ],
   "source": [
    "plt.figure(figsize=(12, 6))\n",
    "sns.histplot(eda_covid[\"COVID_Deaths_Rate\"], kde=True, bins=30)\n",
    "plt.title(\"Distribution of COVID-19 Death Rates\")\n",
    "plt.savefig(\"all_figures/distribution_of_covid_19_Death_Rates\", dpi=300)\n",
    "plt.show()\n",
    "\n",
    "\n",
    "# Boxplot to identify outliers\n",
    "plt.figure(figsize=(8, 6))\n",
    "sns.boxplot(x=eda_covid[\"COVID_Deaths_Rate\"])\n",
    "plt.title(\"Boxplot of COVID-19 Death Rates\")\n",
    "plt.savefig(\"all_figures/boxplot_of_covid_19_death_rates\", dpi=300)\n",
    "plt.show()"
   ]
  },
  {
   "cell_type": "code",
   "execution_count": 5,
   "id": "36918616",
   "metadata": {},
   "outputs": [
    {
     "data": {
      "image/png": "[encoded data removed]",
      "text/plain": [
       "<Figure size 1200x600 with 1 Axes>"
      ]
     },
     "metadata": {},
     "output_type": "display_data"
    }
   ],
   "source": [
    "plt.figure(figsize=(12, 6))\n",
    "sns.histplot(eda_covid[\"SDI_mean_value\"], kde=True, bins=30, color=\"red\")\n",
    "plt.title(\"Distribution of SDI Levels\")\n",
    "plt.savefig(\"all_figures/distribution_of_sdi_levels\", dpi=300)\n",
    "plt.show()"
   ]
  },
  {
   "cell_type": "code",
   "execution_count": 6,
   "id": "0eaa2644",
   "metadata": {},
   "outputs": [
    {
     "data": {
      "image/png": "[encoded data removed]",
      "text/plain": [
       "<Figure size 1200x600 with 1 Axes>"
      ]
     },
     "metadata": {},
     "output_type": "display_data"
    }
   ],
   "source": [
    "plt.figure(figsize=(12, 6))\n",
    "sns.histplot(eda_covid[\"Mean_PM25_2010_2019\"], kde=True, bins=30, color=\"green\")\n",
    "plt.title(\"Distribution of PM2.5 Average Concentrations (2010-2019)\")\n",
    "plt.savefig(\"all_figures/distribution_of_pm25_average_concentration\", dpi=300)\n",
    "plt.show()"
   ]
  },
  {
   "cell_type": "markdown",
   "id": "ed462de9",
   "metadata": {},
   "source": [
    "### Scatter Plots: Bivariate Relationships\n",
    "\n",
    "We visualize how COVID-19 death rates relate to:\n",
    "- PM2.5 levels (2010–2019)\n",
    "- SDI in 2020\n",
    "\n",
    "and SDI in 2020 with the Average PM2.5 concentration\n",
    "\n",
    "These plots will help assess the direction and strength of relationships.\n"
   ]
  },
  {
   "cell_type": "code",
   "execution_count": 7,
   "id": "d9b212e9",
   "metadata": {},
   "outputs": [
    {
     "data": {
      "image/png": "[encoded data removed]",
      "text/plain": [
       "<Figure size 1200x600 with 1 Axes>"
      ]
     },
     "metadata": {},
     "output_type": "display_data"
    },
    {
     "data": {
      "image/png": "[encoded data removed]",
      "text/plain": [
       "<Figure size 900x600 with 1 Axes>"
      ]
     },
     "metadata": {},
     "output_type": "display_data"
    }
   ],
   "source": [
    "plt.figure(figsize=(12, 6))\n",
    "sns.scatterplot(x=\"SDI_mean_value\", y=\"COVID_Deaths_Rate\", data=eda_covid)\n",
    "plt.title(\"COVID Death Rate vs. SDI Level\")\n",
    "plt.savefig(\"all_figures/scatterplot_covid_sdi\", dpi=300)\n",
    "plt.show()\n",
    "\n",
    "# With regression line\n",
    "sns.lmplot(\n",
    "    x=\"SDI_mean_value\", y=\"COVID_Deaths_Rate\", data=eda_covid, height=6, aspect=1.5\n",
    ")\n",
    "plt.title(\"COVID Death Rate vs. SDI Level with Regression Line\")\n",
    "plt.savefig(\"all_figures/scatterplot_covid_sdi_with_regression\", dpi=300)\n",
    "plt.show()"
   ]
  },
  {
   "cell_type": "code",
   "execution_count": 8,
   "id": "ffd0687a",
   "metadata": {},
   "outputs": [
    {
     "data": {
      "image/png": "[encoded data removed]",
      "text/plain": [
       "<Figure size 1200x600 with 1 Axes>"
      ]
     },
     "metadata": {},
     "output_type": "display_data"
    }
   ],
   "source": [
    "plt.figure(figsize=(12, 6))\n",
    "sns.scatterplot(x=\"Mean_PM25_2010_2019\", y=\"COVID_Deaths_Rate\", data=eda_covid)\n",
    "plt.title(\"COVID Death Rate vs. PM2.5 Average Concentration\")\n",
    "plt.savefig(\"all_figures/scatterplot_covid_pm25\", dpi=300)\n",
    "plt.show()"
   ]
  },
  {
   "cell_type": "code",
   "execution_count": 9,
   "id": "73f1de28",
   "metadata": {},
   "outputs": [
    {
     "data": {
      "image/png": "[encoded data removed]",
      "text/plain": [
       "<Figure size 1200x600 with 1 Axes>"
      ]
     },
     "metadata": {},
     "output_type": "display_data"
    }
   ],
   "source": [
    "plt.figure(figsize=(12, 6))\n",
    "sns.scatterplot(x=\"Mean_PM25_2010_2019\", y=\"SDI_mean_value\", data=eda_covid)\n",
    "plt.title(\"SDI Level vs. PM2.5 Average Concentration\")\n",
    "plt.savefig(\"all_figures/scatterplot_pm25_sdi\", dpi=300)\n",
    "plt.show()"
   ]
  },
  {
   "cell_type": "markdown",
   "id": "d31cec27",
   "metadata": {},
   "source": [
    "### COVID-19 Death Rates Across SDI Categories\n",
    "\n",
    "To further explore how socio-demographic development (SDI) relates to COVID-19 mortality, we categorized countries into four SDI levels:\n",
    "\n",
    "- **Low**: SDI < 0.45  \n",
    "- **Medium**: SDI between 0.45 and 0.60  \n",
    "- **High**: SDI between 0.60 and 0.75  \n",
    "- **Very High**: SDI ≥ 0.75\n",
    "\n",
    "These groupings allow us to compare COVID-19 death rates across development levels using a boxplot. This visualization helps reveal whether certain SDI groups experienced systematically higher or lower mortality outcomes during the pandemic.\n",
    "\n",
    "The boxplot displays the distribution of COVID-19 death rates within each SDI group, highlighting medians, spread, and potential outliers.\n"
   ]
  },
  {
   "cell_type": "code",
   "execution_count": 10,
   "id": "49f2ece5",
   "metadata": {},
   "outputs": [
    {
     "data": {
      "image/png": "[encoded data removed]",
      "text/plain": [
       "<Figure size 1200x600 with 1 Axes>"
      ]
     },
     "metadata": {},
     "output_type": "display_data"
    }
   ],
   "source": [
    "# Create SDI categories (adjust bins as needed)\n",
    "eda_covid[\"sdi_category\"] = pd.cut(\n",
    "    eda_covid[\"SDI_mean_value\"],\n",
    "    bins=[0, 0.45, 0.60, 0.75, 1],\n",
    "    labels=[\"Low\", \"Medium\", \"High\", \"Very High\"],\n",
    ")\n",
    "\n",
    "# Boxplot of COVID death rate by SDI category\n",
    "plt.figure(figsize=(12, 6))\n",
    "sns.boxplot(x=\"sdi_category\", y=\"COVID_Deaths_Rate\", data=eda_covid)\n",
    "plt.title(\"COVID Death Rate by SDI Category\")\n",
    "plt.savefig(\"all_figures/boxplot_covid_sdi_categories\", dpi=300)\n",
    "plt.show()"
   ]
  },
  {
   "cell_type": "markdown",
   "id": "6b1bc238",
   "metadata": {},
   "source": [
    "### Correlation Analysis\n",
    "\n",
    "Now we check how the variables relate to each other statistically using a correlation matrix. This gives us early hints on possible linear relationships.\n"
   ]
  },
  {
   "cell_type": "code",
   "execution_count": 11,
   "id": "eab06026",
   "metadata": {},
   "outputs": [
    {
     "data": {
      "image/png": "[encoded data removed]",
      "text/plain": [
       "<Figure size 1000x800 with 2 Axes>"
      ]
     },
     "metadata": {},
     "output_type": "display_data"
    }
   ],
   "source": [
    "# Calculate correlation matrix\n",
    "corr_matrix = eda_covid[\n",
    "    [\"COVID_Deaths_Rate\", \"SDI_mean_value\", \"Mean_PM25_2010_2019\"]\n",
    "].corr()\n",
    "\n",
    "# Visualize correlation matrix\n",
    "plt.figure(figsize=(10, 8))\n",
    "sns.heatmap(corr_matrix, annot=True, cmap=\"BrBG\", center=0)\n",
    "plt.title(\"Correlation Matrix\")\n",
    "plt.savefig(\"all_figures/correlation_matrix\", dpi=300)\n",
    "plt.show()"
   ]
  },
  {
   "cell_type": "markdown",
   "id": "43fa2c7d",
   "metadata": {},
   "source": [
    "### Summary Statistics by SDI Category\n",
    "\n",
    "To better understand how COVID-19 death rates and long-term PM₂.₅ exposure vary across development levels, we compute summary statistics (mean, std, min, max, etc.) for each SDI category. This grouped descriptive analysis helps identify whether specific SDI groups are disproportionately affected in terms of pandemic mortality or pollution exposure.\n"
   ]
  },
  {
   "cell_type": "code",
   "execution_count": 12,
   "id": "448c1776",
   "metadata": {},
   "outputs": [
    {
     "name": "stderr",
     "output_type": "stream",
     "text": [
      "C:\\Users\\hp\\AppData\\Local\\Temp\\ipykernel_3608\\4080452303.py:3: FutureWarning: The default of observed=False is deprecated and will be changed to True in a future version of pandas. Pass observed=False to retain current behavior or observed=True to adopt the future default and silence this warning.\n",
      "  eda_covid.groupby(\"sdi_category\")[\n"
     ]
    },
    {
     "name": "stdout",
     "output_type": "stream",
     "text": [
      "             COVID_Deaths_Rate                                        \\\n",
      "                         count        mean         std           min   \n",
      "sdi_category                                                           \n",
      "Low                       33.0  160.969940  110.094717  6.164157e-10   \n",
      "Medium                    37.0  119.567072  108.410389  4.933457e-11   \n",
      "High                      64.0   78.380299   78.354966  5.315239e-09   \n",
      "Very High                 56.0   43.560303   36.929508  3.091067e-08   \n",
      "\n",
      "                                                             \\\n",
      "                    25%         50%         75%         max   \n",
      "sdi_category                                                  \n",
      "Low           88.347669  148.291783  222.686235  400.853389   \n",
      "Medium         2.066546  107.927319  185.812636  413.522160   \n",
      "High           4.139015   69.079334  120.011723  283.368746   \n",
      "Very High      9.872539   37.520659   70.842409  169.270169   \n",
      "\n",
      "             Mean_PM25_2010_2019                                         \\\n",
      "                           count       mean        std    min       25%   \n",
      "sdi_category                                                              \n",
      "Low                         33.0  29.892727  13.001292  7.658  20.16900   \n",
      "Medium                      37.0  28.013027  17.626643  6.842  14.18700   \n",
      "High                        64.0  20.881203  11.662655  6.553  11.73225   \n",
      "Very High                   56.0  16.831464  12.998287  5.306   8.84625   \n",
      "\n",
      "                                         \n",
      "                  50%       75%     max  \n",
      "sdi_category                             \n",
      "Low           31.8520  38.70600  67.013  \n",
      "Medium        22.2950  41.77000  63.496  \n",
      "High          19.2270  25.91075  53.819  \n",
      "Very High     13.1865  18.18400  65.132  \n"
     ]
    }
   ],
   "source": [
    "# Summary statistics by SDI category\n",
    "print(\n",
    "    eda_covid.groupby(\"sdi_category\")[\n",
    "        [\"COVID_Deaths_Rate\", \"Mean_PM25_2010_2019\"]\n",
    "    ].describe()\n",
    ")"
   ]
  },
  {
   "cell_type": "markdown",
   "id": "a44439f7",
   "metadata": {},
   "source": [
    "### Top 10 Countries by COVID-19 Death Rate and PM2.5 Exposure\n",
    "\n",
    "This section highlights the countries with the highest COVID-19 mortality rates and the highest long-term PM2.5 concentrations (2010–2019). These outliers are useful for identifying countries that may warrant deeper investigation or serve as case studies in understanding vulnerability.\n",
    "\n",
    "- **COVID-19 Death Rate (2020):** Countries with the highest pandemic mortality.\n",
    "- **PM2.5 Exposure:** Countries with the greatest long-term pollution burden.\n"
   ]
  },
  {
   "cell_type": "code",
   "execution_count": 13,
   "id": "281098f1",
   "metadata": {},
   "outputs": [
    {
     "name": "stdout",
     "output_type": "stream",
     "text": [
      "Top 10 countries by COVID death rate:\n",
      "                              Country  COVID_Deaths_Rate\n",
      "71                           Eswatini         413.522160\n",
      "116  Bolivia (Plurinational State of)         400.946884\n",
      "43                        Afghanistan         400.853389\n",
      "125          Central African Republic         397.160610\n",
      "115                           Somalia         394.429938\n",
      "162                     Guinea-Bissau         387.481711\n",
      "139                              Peru         283.368746\n",
      "61                            Lesotho         266.378159\n",
      "51                       South Africa         263.918553\n",
      "110                 Equatorial Guinea         254.559359\n",
      "\n",
      "Top 10 countries by PM2.5 concentration:\n",
      "          Country  Mean_PM25_2010_2019\n",
      "43    Afghanistan               67.013\n",
      "34         Kuwait               65.132\n",
      "165    Tajikistan               63.496\n",
      "98          Qatar               62.363\n",
      "141         Egypt               61.554\n",
      "177  Saudi Arabia               57.003\n",
      "118      Cameroon               56.202\n",
      "175       Nigeria               55.200\n",
      "91       Pakistan               55.150\n",
      "81          India               54.546\n"
     ]
    }
   ],
   "source": [
    "# Top 10 countries by each metric\n",
    "print(\"Top 10 countries by COVID death rate:\")\n",
    "print(eda_covid.nlargest(10, \"COVID_Deaths_Rate\")[[\"Country\", \"COVID_Deaths_Rate\"]])\n",
    "\n",
    "print(\"\\nTop 10 countries by PM2.5 concentration:\")\n",
    "print(eda_covid.nlargest(10, \"Mean_PM25_2010_2019\")[[\"Country\", \"Mean_PM25_2010_2019\"]])"
   ]
  },
  {
   "cell_type": "markdown",
   "id": "fa6609fb",
   "metadata": {},
   "source": [
    "### Choropleth Map: COVID-19 Death Rates by Country (2020)\n",
    "\n",
    "This interactive choropleth map visualizes the geographic distribution of COVID-19 death rates in 2020. Hovering over each country displays its SDI value and long-term PM₂.₅ exposure. The map helps identify regional patterns or clusters of high or low mortality and allows us to explore whether such patterns align with environmental or developmental indicators.\n"
   ]
  },
  {
   "cell_type": "code",
   "execution_count": 14,
   "id": "e73eb57d",
   "metadata": {},
   "outputs": [
    {
     "name": "stderr",
     "output_type": "stream",
     "text": [
      "c:\\Users\\hp\\anaconda3\\Lib\\site-packages\\kaleido\\__init__.py:14: UserWarning:\n",
      "\n",
      "\n",
      "\n",
      "Warning: You have Plotly version 5.24.1, which is not compatible with this version of Kaleido (1.0.0).\n",
      "\n",
      "This means that static image generation (e.g. `fig.write_image()`) will not work.\n",
      "\n",
      "Please upgrade Plotly to version 6.1.1 or greater, or downgrade Kaleido to version 0.2.1.\n",
      "\n",
      "\n"
     ]
    },
    {
     "data": {
      "application/vnd.plotly.v1+json": {
       "config": {
        "plotlyServerURL": "https://plot.ly"
       },
       "data": [
        {
         "coloraxis": "coloraxis",
         "customdata": [
          [
           0.766506025058573,
           10.995
          ],
          [
           0.851346648590241,
           13.595
          ],
          [
           0.590075295612806,
           7.623
          ],
          [
           0.415186878578667,
           8.645
          ],
          [
           0.727710540349217,
           14.186000000000002
          ],
          [
           0.647608589281031,
           12.867
          ],
          [
           0.827900448409988,
           13.821000000000002
          ],
          [
           0.82662663116323,
           17.917
          ],
          [
           0.49748556148019,
           17.213
          ],
          [
           0.650855354021142,
           16.663
          ],
          [
           0.806011474298182,
           9.857
          ],
          [
           0.894368296843327,
           10.821000000000002
          ],
          [
           0.85275238761541,
           11.754
          ],
          [
           0.622104455604093,
           7.261
          ],
          [
           0.529434702877063,
           27.49
          ],
          [
           0.75278092905906,
           7.685
          ],
          [
           0.88506201036603,
           6.531999999999999
          ],
          [
           0.426112428669488,
           7.657999999999999
          ],
          [
           0.738743992650626,
           21.67
          ],
          [
           0.765089710642011,
           21.074
          ],
          [
           0.484192959345392,
           21.164
          ],
          [
           0.653300379638783,
           38.738
          ],
          [
           0.696194605172093,
           17.674
          ],
          [
           0.836049443246129,
           12.372
          ],
          [
           0.348133889761756,
           35.047
          ],
          [
           0.639275298342726,
           13.088
          ],
          [
           0.720068239915947,
           25.064
          ],
          [
           0.795462271729482,
           18.985
          ],
          [
           0.329877997039031,
           37.827
          ],
          [
           0.481879945321652,
           20.541
          ],
          [
           0.857655552665083,
           6.003
          ],
          [
           0.615635625027175,
           7.673999999999999
          ],
          [
           0.472003132433584,
           14.187
          ],
          [
           0.69826889937921,
           40.628
          ],
          [
           0.843459812023503,
           65.13199999999999
          ],
          [
           0.764276444363666,
           16.009999999999998
          ],
          [
           0.932027644512362,
           10.907
          ],
          [
           0.665086346623039,
           10.128
          ],
          [
           0.262629218759395,
           39.127
          ],
          [
           0.886867937194416,
           11.426
          ],
          [
           0.400459411382762,
           22.526
          ],
          [
           0.442349336035765,
           20.169
          ],
          [
           0.558919894116032,
           26.182
          ],
          [
           0.32983006796412,
           67.013
          ],
          [
           0.533455421993626,
           22.158
          ],
          [
           0.742009720142934,
           23.971
          ],
          [
           0.806351589333701,
           21.337
          ],
          [
           0.80742409075008,
           7.678
          ],
          [
           0.792554392852858,
           23.608
          ],
          [
           0.642284644781673,
           11.097
          ],
          [
           0.789632219998033,
           16.701
          ],
          [
           0.677166096009468,
           19.07
          ],
          [
           0.721294302628992,
           13.288
          ],
          [
           0.697648535082413,
           23.948
          ],
          [
           0.679119989171207,
           24.884
          ],
          [
           0.468714478980695,
           28.704
          ],
          [
           0.555246068582659,
           13.378
          ],
          [
           0.874323153425611,
           6.298
          ],
          [
           0.497861408762174,
           33.167
          ],
          [
           0.508669245938408,
           22.295
          ],
          [
           0.680567176976565,
           15.124
          ],
          [
           0.50674665490739,
           17.762999999999998
          ],
          [
           0.491365602592056,
           41.77
          ],
          [
           0.520292670400273,
           19.433
          ],
          [
           0.571666102458017,
           6.8420000000000005
          ],
          [
           0.769213676196926,
           22.628
          ],
          [
           0.353216349837522,
           22.129
          ],
          [
           0.660119061584711,
           21.268
          ],
          [
           0.716169766093523,
           9.287
          ],
          [
           0.782381564892966,
           16.928
          ],
          [
           0.61462963730677,
           47.101
          ],
          [
           0.581653071099534,
           14.859
          ],
          [
           0.377879020413869,
           18.702
          ],
          [
           0.669720489592338,
           9.093
          ],
          [
           0.883717569055359,
           27.127
          ],
          [
           0.808795317506383,
           23.185
          ],
          [
           0.401197515620742,
           38.364
          ],
          [
           0.871958822388357,
           8.988
          ],
          [
           0.392778708989164,
           16.294999999999998
          ],
          [
           0.164539264581005,
           50.415
          ],
          [
           0.568837509186186,
           7.151000000000001
          ],
          [
           0.568138149330912,
           54.54600000000001
          ],
          [
           0.632860904072373,
           9.534
          ],
          [
           0.871992631299453,
           7.188
          ],
          [
           0.722788768207953,
           30.885
          ],
          [
           0.80830596588062,
           19.411
          ],
          [
           0.703788489528527,
           13.96
          ],
          [
           0.671431490601499,
           7.272
          ],
          [
           0.768854215658189,
           35.818
          ],
          [
           0.774700577781853,
           7.522
          ],
          [
           0.279871317215145,
           41.332
          ],
          [
           0.497364405611904,
           55.15
          ],
          [
           0.854296009592945,
           15.416
          ],
          [
           0.882495316094676,
           10.627
          ],
          [
           0.914529920283541,
           6.94
          ],
          [
           0.276787923789994,
           21.593
          ],
          [
           0.471573170735407,
           13.169
          ],
          [
           0.61772759307296,
           24.727
          ],
          [
           0.841467395353032,
           62.363
          ],
          [
           0.842051314482691,
           7.478999999999999
          ],
          [
           0.600499553804348,
           44.673
          ],
          [
           0.427417089099115,
           39.32899999999999
          ],
          [
           0.649201568351328,
           13.107
          ],
          [
           0.860792773409847,
           8.421
          ],
          [
           0.630683705083472,
           12.211
          ],
          [
           0.56818855103523,
           53.341
          ],
          [
           0.678298179976148,
           31.612
          ],
          [
           0.726663769455011,
           17.148
          ],
          [
           0.722790249813625,
           6.553
          ],
          [
           0.802948018163753,
           5.306
          ],
          [
           0.652124902941809,
           25.604000000000003
          ],
          [
           0.65365146606094,
           22.371
          ],
          [
           0.40452419422916,
           38.706
          ],
          [
           0.523454113096381,
           7.551
          ],
          [
           0.798375166241004,
           14.267
          ],
          [
           0.0763633695596333,
           14.38
          ],
          [
           0.594854443460131,
           26.105
          ],
          [
           0.714629803881546,
           10.579
          ],
          [
           0.472285846440991,
           56.202
          ],
          [
           0.840373845574037,
           17.808
          ],
          [
           0.677615147910612,
           26.396
          ],
          [
           0.703790245372837,
           19.773
          ],
          [
           0.468876053670987,
           17.899
          ],
          [
           0.867449169102346,
           9.943
          ],
          [
           0.631057688560962,
           14.299
          ],
          [
           0.305426298180724,
           28.013
          ],
          [
           0.659124204371032,
           48.643
          ],
          [
           0.748103083095047,
           53.819
          ],
          [
           0.447283991858922,
           25.109
          ],
          [
           0.74436664552373,
           9.899
          ],
          [
           0.320291181995807,
           16.526
          ],
          [
           0.352412021842938,
           39.524
          ],
          [
           0.90668543677348,
           10.484
          ],
          [
           0.558462173287852,
           46.719
          ],
          [
           0.852020385174284,
           13.524
          ],
          [
           0.627609647280361,
           25.749
          ],
          [
           0.65671445724893,
           17.266
          ],
          [
           0.607060046133776,
           10.591
          ],
          [
           0.528461594777472,
           31.206
          ],
          [
           0.658672243500517,
           29.541
          ],
          [
           0.438747237740344,
           15.419999999999998
          ],
          [
           0.597363341129599,
           61.554
          ],
          [
           0.651926647922518,
           19.61
          ],
          [
           0.720202056378697,
           31.916
          ],
          [
           0.470038390856612,
           8.431000000000001
          ],
          [
           0.644867233233664,
           22.659
          ],
          [
           0.833059522677264,
           15.663
          ],
          [
           0.665210747223401,
           13.775
          ],
          [
           0.787620389699141,
           17.441
          ],
          [
           0.759929872218543,
           15.122
          ],
          [
           0.692605192199032,
           29.648000000000003
          ],
          [
           0.744419943891979,
           8.382000000000001
          ],
          [
           0.691918763371909,
           30.126
          ],
          [
           0.747849899969173,
           30.842
          ],
          [
           0.623090320139283,
           21.133000000000003
          ],
          [
           0.713364584593745,
           49.782
          ],
          [
           0.729125888954526,
           22.669
          ],
          [
           0.286496000475545,
           28.067
          ],
          [
           0.901438614019463,
           12.849
          ],
          [
           0.534571414248156,
           24.822
          ],
          [
           0.869106879336459,
           12.625
          ],
          [
           0.483079169271683,
           49.53
          ],
          [
           0.347798997943486,
           34.938
          ],
          [
           0.446390613582292,
           9.854
          ],
          [
           0.789183332686432,
           26.255000000000003
          ],
          [
           0.537690530515565,
           63.496
          ],
          [
           0.720270392863655,
           29.698
          ],
          [
           0.584527228769055,
           7.579000000000001
          ],
          [
           0.614435889089058,
           11.944
          ],
          [
           0.803635679966778,
           17.298000000000002
          ],
          [
           0.847398736836909,
           7.731
          ],
          [
           0.516136571818187,
           12.482
          ],
          [
           0.60003478118243,
           19.384
          ],
          [
           0.841817139147138,
           7.087999999999999
          ],
          [
           0.766422080818681,
           10.347
          ],
          [
           0.496204741160216,
           55.2
          ],
          [
           0.746345330021488,
           8.498999999999999
          ],
          [
           0.810541860714478,
           57.003
          ],
          [
           0.578451546357964,
           29.58
          ],
          [
           0.36696448721315,
           31.852
          ],
          [
           0.376712271159843,
           31.871
          ],
          [
           0.741037384212082,
           8.937999999999999
          ],
          [
           0.429896595971404,
           34.93
          ],
          [
           0.402356922397572,
           36.198
          ],
          [
           0.846151975991622,
           43.039
          ],
          [
           0.44689306923482,
           40.716
          ],
          [
           0.236103082769538,
           42.566
          ],
          [
           0.416846079190348,
           31.619
          ],
          [
           0.619330076183652,
           7.407999999999999
          ],
          [
           0.75156840922289,
           8.22
          ]
         ],
         "geo": "geo",
         "hovertemplate": "<b>%{hovertext}</b><br><br>Country=%{location}<br>SDI_mean_value=%{customdata[0]}<br>Mean_PM25_2010_2019=%{customdata[1]}<br>lower=%{z}<extra></extra>",
         "hovertext": [
          "Spain",
          "Belgium",
          "Samoa",
          "Papua New Guinea",
          "Republic of Moldova",
          "Maldives",
          "Latvia",
          "Czechia",
          "Zambia",
          "Colombia",
          "Russian Federation",
          "Denmark",
          "Lithuania",
          "Tonga",
          "Myanmar",
          "Palau",
          "Sweden",
          "Solomon Islands",
          "Malaysia",
          "Bulgaria",
          "Lao People's Democratic Republic",
          "Iraq",
          "Costa Rica",
          "France",
          "Liberia",
          "Botswana",
          "Jordan",
          "Croatia",
          "Guinea",
          "Djibouti",
          "Finland",
          "Dominican Republic",
          "Comoros",
          "Armenia",
          "Kuwait",
          "Romania",
          "Switzerland",
          "Grenada",
          "Mali",
          "San Marino",
          "Eritrea",
          "Timor-Leste",
          "El Salvador",
          "Afghanistan",
          "Sudan",
          "Lebanon",
          "Israel",
          "Brunei Darussalam",
          "Montenegro",
          "Guyana",
          "Greece",
          "South Africa",
          "Argentina",
          "Sri Lanka",
          "Thailand",
          "Bhutan",
          "Morocco",
          "Iceland",
          "Sao Tome and Principe",
          "Honduras",
          "Jamaica",
          "Lesotho",
          "Mauritania",
          "Nicaragua",
          "Tuvalu",
          "Chile",
          "Ethiopia",
          "Mexico",
          "Uruguay",
          "Belarus",
          "Mongolia",
          "Eswatini",
          "Malawi",
          "Saint Lucia",
          "Republic of Korea",
          "Poland",
          "Senegal",
          "Ireland",
          "Madagascar",
          "Niger",
          "Marshall Islands",
          "India",
          "Saint Vincent and the Grenadines",
          "Canada",
          "Kazakhstan",
          "Slovakia",
          "Panama",
          "Fiji",
          "Oman",
          "Cook Islands",
          "Burkina Faso",
          "Pakistan",
          "Singapore",
          "Luxembourg",
          "Norway",
          "South Sudan",
          "Zimbabwe",
          "Syrian Arab Republic",
          "Qatar",
          "Australia",
          "Kyrgyzstan",
          "Nepal",
          "Brazil",
          "United States of America",
          "Suriname",
          "Democratic People's Republic of Korea",
          "Turkmenistan",
          "Seychelles",
          "Niue",
          "Bahamas",
          "Equatorial Guinea",
          "Algeria",
          "Gambia",
          "Kiribati",
          "Malta",
          "Somalia",
          "Bolivia (Plurinational State of)",
          "Mauritius",
          "Cameroon",
          "Slovenia",
          "Tunisia",
          "Albania",
          "Cambodia",
          "Andorra",
          "Paraguay",
          "Central African Republic",
          "Uzbekistan",
          "Bahrain",
          "Angola",
          "Barbados",
          "Mozambique",
          "Sierra Leone",
          "Monaco",
          "Ghana",
          "Austria",
          "Gabon",
          "Ecuador",
          "Belize",
          "Cabo Verde",
          "Peru",
          "United Republic of Tanzania",
          "Egypt",
          "Indonesia",
          "Bosnia and Herzegovina",
          "Vanuatu",
          "Philippines",
          "Cyprus",
          "Cuba",
          "Hungary",
          "Ukraine",
          "Azerbaijan",
          "Dominica",
          "Iran (Islamic Republic of)",
          "North Macedonia",
          "Viet Nam",
          "China",
          "Georgia",
          "Burundi",
          "Germany",
          "Guatemala",
          "Japan",
          "Bangladesh",
          "Guinea-Bissau",
          "Haiti",
          "Serbia",
          "Tajikistan",
          "Libya",
          "Micronesia (Federated States of)",
          "Namibia",
          "Italy",
          "New Zealand",
          "Kenya",
          "Venezuela (Bolivarian Republic of)",
          "Estonia",
          "Trinidad and Tobago",
          "Nigeria",
          "Antigua and Barbuda",
          "Saudi Arabia",
          "Congo",
          "Benin",
          "Democratic Republic of the Congo",
          "Portugal",
          "Rwanda",
          "Togo",
          "United Arab Emirates",
          "Yemen",
          "Chad",
          "Uganda",
          "Nauru",
          "Saint Kitts and Nevis"
         ],
         "locationmode": "country names",
         "locations": [
          "Spain",
          "Belgium",
          "Samoa",
          "Papua New Guinea",
          "Republic of Moldova",
          "Maldives",
          "Latvia",
          "Czechia",
          "Zambia",
          "Colombia",
          "Russian Federation",
          "Denmark",
          "Lithuania",
          "Tonga",
          "Myanmar",
          "Palau",
          "Sweden",
          "Solomon Islands",
          "Malaysia",
          "Bulgaria",
          "Lao People's Democratic Republic",
          "Iraq",
          "Costa Rica",
          "France",
          "Liberia",
          "Botswana",
          "Jordan",
          "Croatia",
          "Guinea",
          "Djibouti",
          "Finland",
          "Dominican Republic",
          "Comoros",
          "Armenia",
          "Kuwait",
          "Romania",
          "Switzerland",
          "Grenada",
          "Mali",
          "San Marino",
          "Eritrea",
          "Timor-Leste",
          "El Salvador",
          "Afghanistan",
          "Sudan",
          "Lebanon",
          "Israel",
          "Brunei Darussalam",
          "Montenegro",
          "Guyana",
          "Greece",
          "South Africa",
          "Argentina",
          "Sri Lanka",
          "Thailand",
          "Bhutan",
          "Morocco",
          "Iceland",
          "Sao Tome and Principe",
          "Honduras",
          "Jamaica",
          "Lesotho",
          "Mauritania",
          "Nicaragua",
          "Tuvalu",
          "Chile",
          "Ethiopia",
          "Mexico",
          "Uruguay",
          "Belarus",
          "Mongolia",
          "Eswatini",
          "Malawi",
          "Saint Lucia",
          "Republic of Korea",
          "Poland",
          "Senegal",
          "Ireland",
          "Madagascar",
          "Niger",
          "Marshall Islands",
          "India",
          "Saint Vincent and the Grenadines",
          "Canada",
          "Kazakhstan",
          "Slovakia",
          "Panama",
          "Fiji",
          "Oman",
          "Cook Islands",
          "Burkina Faso",
          "Pakistan",
          "Singapore",
          "Luxembourg",
          "Norway",
          "South Sudan",
          "Zimbabwe",
          "Syrian Arab Republic",
          "Qatar",
          "Australia",
          "Kyrgyzstan",
          "Nepal",
          "Brazil",
          "United States of America",
          "Suriname",
          "Democratic People's Republic of Korea",
          "Turkmenistan",
          "Seychelles",
          "Niue",
          "Bahamas",
          "Equatorial Guinea",
          "Algeria",
          "Gambia",
          "Kiribati",
          "Malta",
          "Somalia",
          "Bolivia (Plurinational State of)",
          "Mauritius",
          "Cameroon",
          "Slovenia",
          "Tunisia",
          "Albania",
          "Cambodia",
          "Andorra",
          "Paraguay",
          "Central African Republic",
          "Uzbekistan",
          "Bahrain",
          "Angola",
          "Barbados",
          "Mozambique",
          "Sierra Leone",
          "Monaco",
          "Ghana",
          "Austria",
          "Gabon",
          "Ecuador",
          "Belize",
          "Cabo Verde",
          "Peru",
          "United Republic of Tanzania",
          "Egypt",
          "Indonesia",
          "Bosnia and Herzegovina",
          "Vanuatu",
          "Philippines",
          "Cyprus",
          "Cuba",
          "Hungary",
          "Ukraine",
          "Azerbaijan",
          "Dominica",
          "Iran (Islamic Republic of)",
          "North Macedonia",
          "Viet Nam",
          "China",
          "Georgia",
          "Burundi",
          "Germany",
          "Guatemala",
          "Japan",
          "Bangladesh",
          "Guinea-Bissau",
          "Haiti",
          "Serbia",
          "Tajikistan",
          "Libya",
          "Micronesia (Federated States of)",
          "Namibia",
          "Italy",
          "New Zealand",
          "Kenya",
          "Venezuela (Bolivarian Republic of)",
          "Estonia",
          "Trinidad and Tobago",
          "Nigeria",
          "Antigua and Barbuda",
          "Saudi Arabia",
          "Congo",
          "Benin",
          "Democratic Republic of the Congo",
          "Portugal",
          "Rwanda",
          "Togo",
          "United Arab Emirates",
          "Yemen",
          "Chad",
          "Uganda",
          "Nauru",
          "Saint Kitts and Nevis"
         ],
         "name": "",
         "type": "choropleth",
         "z": [
          51.43939336032327,
          71.68123236139513,
          3.2474898729033766e-9,
          3.794842180590001,
          48.23897655933903,
          10.761363850575592,
          12.005673402982865,
          40.08980170595547,
          173.10587575909284,
          69.20019709962675,
          60.14635827113438,
          9.527820483233508,
          41.67468739093098,
          5.315238975991625e-9,
          11.956806994476365,
          4.737483689102816e-8,
          33.65585199547093,
          1.972574514752663e-9,
          0.8478579271202702,
          63.604993413235626,
          1.0900005978929468e-10,
          200.45619814439536,
          28.477190432763464,
          34.3264787155521,
          127.9534883465386,
          61.21979227613313,
          76.22885253640744,
          30.47068863952932,
          189.4245317267116,
          171.16806383748954,
          4.031054356921432,
          18.19956299157341,
          61.75714334313566,
          88.67191101758173,
          53.695408789762645,
          49.234974346447615,
          34.45496261518803,
          5.796544329462628e-9,
          203.9605247831481,
          48.2875052558652,
          24.952478224792188,
          6.164156655386058e-10,
          58.80983806712084,
          302.67596680887107,
          125.99064212806849,
          90.5413728300966,
          24.80041812286288,
          0.6450759985763135,
          75.44849701579933,
          47.74733758273171,
          17.738987013389206,
          263.68434305207046,
          74.34374666931598,
          2.3453511055985348,
          0.1673705833713148,
          8.194634768808456e-10,
          113.19972262919389,
          4.900753454239647,
          69.0637001925819,
          148.2593676379383,
          9.718119243101748,
          237.7888280996371,
          108.4222058806563,
          161.2000066907816,
          5.621633409092009e-8,
          80.4576480811825,
          140.0308999439354,
          182.9879622704149,
          3.354822758251341,
          91.10998901575684,
          0.0285834712345152,
          378.796376673476,
          94.6776640752863,
          7.292479511433556,
          0.956764042801348,
          58.5635156927184,
          123.97347612898564,
          25.640525585708847,
          197.84012374067603,
          142.9200162371462,
          2.787748790353128e-8,
          86.60651957911696,
          0.0009869956103898,
          37.11095529410871,
          110.0269735655045,
          20.51243667559803,
          83.5206367911916,
          3.0252042660849687,
          152.8914107091126,
          3.091067240434676e-8,
          136.39802568596363,
          184.7146249121661,
          0.3445674297231031,
          35.64421774640735,
          3.864250329610866,
          209.1476223075533,
          201.0266811516891,
          39.13401224765153,
          56.85412747444032,
          1.8446253652080544,
          98.17499098530006,
          81.0115105608781,
          77.14438599066519,
          74.0747554990685,
          21.00258858273128,
          0.3802360281263355,
          108.44957373966346,
          5.4004121773883995e-9,
          3.293915742188936e-7,
          52.66054984009955,
          194.3640272806398,
          139.24083013088696,
          198.64216985043888,
          1.0329498250015732e-8,
          18.366130209372365,
          311.95169831758017,
          333.39923807011445,
          0.3463284941078816,
          112.26822499650498,
          39.75540156407947,
          38.70813471998518,
          35.197797792404344,
          4.933456898950239e-11,
          31.187848453470124,
          24.86688730427256,
          262.8627771016302,
          36.6898703032545,
          85.9849105710899,
          104.74485281357178,
          1.5907149384792332,
          45.48124622075002,
          131.3614461156724,
          2.7898404359989937,
          91.92362660378171,
          35.83906560161023,
          171.56014298621915,
          192.2075803117793,
          82.2308484303655,
          26.066830731479666,
          221.93412677656144,
          128.79782588097126,
          99.394387168696,
          14.877035007295436,
          48.10851616876873,
          3.989642706962609e-9,
          9.7952503359608,
          4.796992823462956,
          0.5696381436171265,
          36.58950614448784,
          10.997441124525622,
          140.6843289453064,
          8.984878187665925e-9,
          73.1407378488807,
          111.74819160706308,
          0.1764704565337487,
          0.3158059575064428,
          58.857581103302266,
          81.18842961561806,
          14.896399601710108,
          83.57029371731909,
          0.6984565116015038,
          86.25903824141454,
          340.9037780124892,
          73.29954709609407,
          22.196949529681888,
          138.14818655181534,
          83.39332659671152,
          8.69290804632208e-9,
          124.72249163861368,
          47.70941062086766,
          0.2912118099328547,
          210.7014898141063,
          153.2639732787991,
          5.880265617268035,
          15.81519615839253,
          99.4742956439122,
          4.405789991874689,
          59.7683050062278,
          147.89753221224746,
          52.12911274647298,
          147.85983816695312,
          30.04388705935239,
          23.647787226539563,
          75.82103209952835,
          7.322923635350642,
          100.01416177910176,
          185.9432283385852,
          64.04049133725178,
          1.2365154992863558e-7,
          0.0010199255668016
         ]
        }
       ],
       "layout": {
        "coloraxis": {
         "colorbar": {
          "thickness": 20,
          "title": {
           "text": "Death Rate"
          }
         },
         "colorscale": [
          [
           0,
           "#0d0887"
          ],
          [
           0.1111111111111111,
           "#46039f"
          ],
          [
           0.2222222222222222,
           "#7201a8"
          ],
          [
           0.3333333333333333,
           "#9c179e"
          ],
          [
           0.4444444444444444,
           "#bd3786"
          ],
          [
           0.5555555555555556,
           "#d8576b"
          ],
          [
           0.6666666666666666,
           "#ed7953"
          ],
          [
           0.7777777777777778,
           "#fb9f3a"
          ],
          [
           0.8888888888888888,
           "#fdca26"
          ],
          [
           1,
           "#f0f921"
          ]
         ]
        },
        "geo": {
         "center": {},
         "domain": {
          "x": [
           0,
           1
          ],
          "y": [
           0,
           1
          ]
         },
         "projection": {
          "type": "natural earth"
         }
        },
        "legend": {
         "tracegroupgap": 0
        },
        "margin": {
         "b": 0,
         "l": 0,
         "r": 0,
         "t": 40
        },
        "template": {
         "data": {
          "bar": [
           {
            "error_x": {
             "color": "#2a3f5f"
            },
            "error_y": {
             "color": "#2a3f5f"
            },
            "marker": {
             "line": {
              "color": "#E5ECF6",
              "width": 0.5
             },
             "pattern": {
              "fillmode": "overlay",
              "size": 10,
              "solidity": 0.2
             }
            },
            "type": "bar"
           }
          ],
          "barpolar": [
           {
            "marker": {
             "line": {
              "color": "#E5ECF6",
              "width": 0.5
             },
             "pattern": {
              "fillmode": "overlay",
              "size": 10,
              "solidity": 0.2
             }
            },
            "type": "barpolar"
           }
          ],
          "carpet": [
           {
            "aaxis": {
             "endlinecolor": "#2a3f5f",
             "gridcolor": "white",
             "linecolor": "white",
             "minorgridcolor": "white",
             "startlinecolor": "#2a3f5f"
            },
            "baxis": {
             "endlinecolor": "#2a3f5f",
             "gridcolor": "white",
             "linecolor": "white",
             "minorgridcolor": "white",
             "startlinecolor": "#2a3f5f"
            },
            "type": "carpet"
           }
          ],
          "choropleth": [
           {
            "colorbar": {
             "outlinewidth": 0,
             "ticks": ""
            },
            "type": "choropleth"
           }
          ],
          "contour": [
           {
            "colorbar": {
             "outlinewidth": 0,
             "ticks": ""
            },
            "colorscale": [
             [
              0,
              "#0d0887"
             ],
             [
              0.1111111111111111,
              "#46039f"
             ],
             [
              0.2222222222222222,
              "#7201a8"
             ],
             [
              0.3333333333333333,
              "#9c179e"
             ],
             [
              0.4444444444444444,
              "#bd3786"
             ],
             [
              0.5555555555555556,
              "#d8576b"
             ],
             [
              0.6666666666666666,
              "#ed7953"
             ],
             [
              0.7777777777777778,
              "#fb9f3a"
             ],
             [
              0.8888888888888888,
              "#fdca26"
             ],
             [
              1,
              "#f0f921"
             ]
            ],
            "type": "contour"
           }
          ],
          "contourcarpet": [
           {
            "colorbar": {
             "outlinewidth": 0,
             "ticks": ""
            },
            "type": "contourcarpet"
           }
          ],
          "heatmap": [
           {
            "colorbar": {
             "outlinewidth": 0,
             "ticks": ""
            },
            "colorscale": [
             [
              0,
              "#0d0887"
             ],
             [
              0.1111111111111111,
              "#46039f"
             ],
             [
              0.2222222222222222,
              "#7201a8"
             ],
             [
              0.3333333333333333,
              "#9c179e"
             ],
             [
              0.4444444444444444,
              "#bd3786"
             ],
             [
              0.5555555555555556,
              "#d8576b"
             ],
             [
              0.6666666666666666,
              "#ed7953"
             ],
             [
              0.7777777777777778,
              "#fb9f3a"
             ],
             [
              0.8888888888888888,
              "#fdca26"
             ],
             [
              1,
              "#f0f921"
             ]
            ],
            "type": "heatmap"
           }
          ],
          "heatmapgl": [
           {
            "colorbar": {
             "outlinewidth": 0,
             "ticks": ""
            },
            "colorscale": [
             [
              0,
              "#0d0887"
             ],
             [
              0.1111111111111111,
              "#46039f"
             ],
             [
              0.2222222222222222,
              "#7201a8"
             ],
             [
              0.3333333333333333,
              "#9c179e"
             ],
             [
              0.4444444444444444,
              "#bd3786"
             ],
             [
              0.5555555555555556,
              "#d8576b"
             ],
             [
              0.6666666666666666,
              "#ed7953"
             ],
             [
              0.7777777777777778,
              "#fb9f3a"
             ],
             [
              0.8888888888888888,
              "#fdca26"
             ],
             [
              1,
              "#f0f921"
             ]
            ],
            "type": "heatmapgl"
           }
          ],
          "histogram": [
           {
            "marker": {
             "pattern": {
              "fillmode": "overlay",
              "size": 10,
              "solidity": 0.2
             }
            },
            "type": "histogram"
           }
          ],
          "histogram2d": [
           {
            "colorbar": {
             "outlinewidth": 0,
             "ticks": ""
            },
            "colorscale": [
             [
              0,
              "#0d0887"
             ],
             [
              0.1111111111111111,
              "#46039f"
             ],
             [
              0.2222222222222222,
              "#7201a8"
             ],
             [
              0.3333333333333333,
              "#9c179e"
             ],
             [
              0.4444444444444444,
              "#bd3786"
             ],
             [
              0.5555555555555556,
              "#d8576b"
             ],
             [
              0.6666666666666666,
              "#ed7953"
             ],
             [
              0.7777777777777778,
              "#fb9f3a"
             ],
             [
              0.8888888888888888,
              "#fdca26"
             ],
             [
              1,
              "#f0f921"
             ]
            ],
            "type": "histogram2d"
           }
          ],
          "histogram2dcontour": [
           {
            "colorbar": {
             "outlinewidth": 0,
             "ticks": ""
            },
            "colorscale": [
             [
              0,
              "#0d0887"
             ],
             [
              0.1111111111111111,
              "#46039f"
             ],
             [
              0.2222222222222222,
              "#7201a8"
             ],
             [
              0.3333333333333333,
              "#9c179e"
             ],
             [
              0.4444444444444444,
              "#bd3786"
             ],
             [
              0.5555555555555556,
              "#d8576b"
             ],
             [
              0.6666666666666666,
              "#ed7953"
             ],
             [
              0.7777777777777778,
              "#fb9f3a"
             ],
             [
              0.8888888888888888,
              "#fdca26"
             ],
             [
              1,
              "#f0f921"
             ]
            ],
            "type": "histogram2dcontour"
           }
          ],
          "mesh3d": [
           {
            "colorbar": {
             "outlinewidth": 0,
             "ticks": ""
            },
            "type": "mesh3d"
           }
          ],
          "parcoords": [
           {
            "line": {
             "colorbar": {
              "outlinewidth": 0,
              "ticks": ""
             }
            },
            "type": "parcoords"
           }
          ],
          "pie": [
           {
            "automargin": true,
            "type": "pie"
           }
          ],
          "scatter": [
           {
            "fillpattern": {
             "fillmode": "overlay",
             "size": 10,
             "solidity": 0.2
            },
            "type": "scatter"
           }
          ],
          "scatter3d": [
           {
            "line": {
             "colorbar": {
              "outlinewidth": 0,
              "ticks": ""
             }
            },
            "marker": {
             "colorbar": {
              "outlinewidth": 0,
              "ticks": ""
             }
            },
            "type": "scatter3d"
           }
          ],
          "scattercarpet": [
           {
            "marker": {
             "colorbar": {
              "outlinewidth": 0,
              "ticks": ""
             }
            },
            "type": "scattercarpet"
           }
          ],
          "scattergeo": [
           {
            "marker": {
             "colorbar": {
              "outlinewidth": 0,
              "ticks": ""
             }
            },
            "type": "scattergeo"
           }
          ],
          "scattergl": [
           {
            "marker": {
             "colorbar": {
              "outlinewidth": 0,
              "ticks": ""
             }
            },
            "type": "scattergl"
           }
          ],
          "scattermapbox": [
           {
            "marker": {
             "colorbar": {
              "outlinewidth": 0,
              "ticks": ""
             }
            },
            "type": "scattermapbox"
           }
          ],
          "scatterpolar": [
           {
            "marker": {
             "colorbar": {
              "outlinewidth": 0,
              "ticks": ""
             }
            },
            "type": "scatterpolar"
           }
          ],
          "scatterpolargl": [
           {
            "marker": {
             "colorbar": {
              "outlinewidth": 0,
              "ticks": ""
             }
            },
            "type": "scatterpolargl"
           }
          ],
          "scatterternary": [
           {
            "marker": {
             "colorbar": {
              "outlinewidth": 0,
              "ticks": ""
             }
            },
            "type": "scatterternary"
           }
          ],
          "surface": [
           {
            "colorbar": {
             "outlinewidth": 0,
             "ticks": ""
            },
            "colorscale": [
             [
              0,
              "#0d0887"
             ],
             [
              0.1111111111111111,
              "#46039f"
             ],
             [
              0.2222222222222222,
              "#7201a8"
             ],
             [
              0.3333333333333333,
              "#9c179e"
             ],
             [
              0.4444444444444444,
              "#bd3786"
             ],
             [
              0.5555555555555556,
              "#d8576b"
             ],
             [
              0.6666666666666666,
              "#ed7953"
             ],
             [
              0.7777777777777778,
              "#fb9f3a"
             ],
             [
              0.8888888888888888,
              "#fdca26"
             ],
             [
              1,
              "#f0f921"
             ]
            ],
            "type": "surface"
           }
          ],
          "table": [
           {
            "cells": {
             "fill": {
              "color": "#EBF0F8"
             },
             "line": {
              "color": "white"
             }
            },
            "header": {
             "fill": {
              "color": "#C8D4E3"
             },
             "line": {
              "color": "white"
             }
            },
            "type": "table"
           }
          ]
         },
         "layout": {
          "annotationdefaults": {
           "arrowcolor": "#2a3f5f",
           "arrowhead": 0,
           "arrowwidth": 1
          },
          "autotypenumbers": "strict",
          "coloraxis": {
           "colorbar": {
            "outlinewidth": 0,
            "ticks": ""
           }
          },
          "colorscale": {
           "diverging": [
            [
             0,
             "#8e0152"
            ],
            [
             0.1,
             "#c51b7d"
            ],
            [
             0.2,
             "#de77ae"
            ],
            [
             0.3,
             "#f1b6da"
            ],
            [
             0.4,
             "#fde0ef"
            ],
            [
             0.5,
             "#f7f7f7"
            ],
            [
             0.6,
             "#e6f5d0"
            ],
            [
             0.7,
             "#b8e186"
            ],
            [
             0.8,
             "#7fbc41"
            ],
            [
             0.9,
             "#4d9221"
            ],
            [
             1,
             "#276419"
            ]
           ],
           "sequential": [
            [
             0,
             "#0d0887"
            ],
            [
             0.1111111111111111,
             "#46039f"
            ],
            [
             0.2222222222222222,
             "#7201a8"
            ],
            [
             0.3333333333333333,
             "#9c179e"
            ],
            [
             0.4444444444444444,
             "#bd3786"
            ],
            [
             0.5555555555555556,
             "#d8576b"
            ],
            [
             0.6666666666666666,
             "#ed7953"
            ],
            [
             0.7777777777777778,
             "#fb9f3a"
            ],
            [
             0.8888888888888888,
             "#fdca26"
            ],
            [
             1,
             "#f0f921"
            ]
           ],
           "sequentialminus": [
            [
             0,
             "#0d0887"
            ],
            [
             0.1111111111111111,
             "#46039f"
            ],
            [
             0.2222222222222222,
             "#7201a8"
            ],
            [
             0.3333333333333333,
             "#9c179e"
            ],
            [
             0.4444444444444444,
             "#bd3786"
            ],
            [
             0.5555555555555556,
             "#d8576b"
            ],
            [
             0.6666666666666666,
             "#ed7953"
            ],
            [
             0.7777777777777778,
             "#fb9f3a"
            ],
            [
             0.8888888888888888,
             "#fdca26"
            ],
            [
             1,
             "#f0f921"
            ]
           ]
          },
          "colorway": [
           "#636efa",
           "#EF553B",
           "#00cc96",
           "#ab63fa",
           "#FFA15A",
           "#19d3f3",
           "#FF6692",
           "#B6E880",
           "#FF97FF",
           "#FECB52"
          ],
          "font": {
           "color": "#2a3f5f"
          },
          "geo": {
           "bgcolor": "white",
           "lakecolor": "white",
           "landcolor": "#E5ECF6",
           "showlakes": true,
           "showland": true,
           "subunitcolor": "white"
          },
          "hoverlabel": {
           "align": "left"
          },
          "hovermode": "closest",
          "mapbox": {
           "style": "light"
          },
          "paper_bgcolor": "white",
          "plot_bgcolor": "#E5ECF6",
          "polar": {
           "angularaxis": {
            "gridcolor": "white",
            "linecolor": "white",
            "ticks": ""
           },
           "bgcolor": "#E5ECF6",
           "radialaxis": {
            "gridcolor": "white",
            "linecolor": "white",
            "ticks": ""
           }
          },
          "scene": {
           "xaxis": {
            "backgroundcolor": "#E5ECF6",
            "gridcolor": "white",
            "gridwidth": 2,
            "linecolor": "white",
            "showbackground": true,
            "ticks": "",
            "zerolinecolor": "white"
           },
           "yaxis": {
            "backgroundcolor": "#E5ECF6",
            "gridcolor": "white",
            "gridwidth": 2,
            "linecolor": "white",
            "showbackground": true,
            "ticks": "",
            "zerolinecolor": "white"
           },
           "zaxis": {
            "backgroundcolor": "#E5ECF6",
            "gridcolor": "white",
            "gridwidth": 2,
            "linecolor": "white",
            "showbackground": true,
            "ticks": "",
            "zerolinecolor": "white"
           }
          },
          "shapedefaults": {
           "line": {
            "color": "#2a3f5f"
           }
          },
          "ternary": {
           "aaxis": {
            "gridcolor": "white",
            "linecolor": "white",
            "ticks": ""
           },
           "baxis": {
            "gridcolor": "white",
            "linecolor": "white",
            "ticks": ""
           },
           "bgcolor": "#E5ECF6",
           "caxis": {
            "gridcolor": "white",
            "linecolor": "white",
            "ticks": ""
           }
          },
          "title": {
           "x": 0.05
          },
          "xaxis": {
           "automargin": true,
           "gridcolor": "white",
           "linecolor": "white",
           "ticks": "",
           "title": {
            "standoff": 15
           },
           "zerolinecolor": "white",
           "zerolinewidth": 2
          },
          "yaxis": {
           "automargin": true,
           "gridcolor": "white",
           "linecolor": "white",
           "ticks": "",
           "title": {
            "standoff": 15
           },
           "zerolinecolor": "white",
           "zerolinewidth": 2
          }
         }
        },
        "title": {
         "text": "COVID-19 Death Rate (Lower Estimate) by Country (2020)"
        }
       }
      }
     },
     "metadata": {},
     "output_type": "display_data"
    }
   ],
   "source": [
    "import plotly.express as px\n",
    "\n",
    "# Create the choropleth map using country names directly\n",
    "fig = px.choropleth(\n",
    "    eda_covid,\n",
    "    locations=\"Country\",\n",
    "    locationmode=\"country names\",\n",
    "    color=\"lower\",\n",
    "    hover_name=\"Country\",\n",
    "    hover_data=[\"SDI_mean_value\", \"Mean_PM25_2010_2019\"],\n",
    "    color_continuous_scale=px.colors.sequential.Plasma,\n",
    "    title=\"COVID-19 Death Rate (Lower Estimate) by Country (2020)\",\n",
    "    projection=\"natural earth\",\n",
    ")\n",
    "\n",
    "fig.update_layout(\n",
    "    margin={\"r\": 0, \"t\": 40, \"l\": 0, \"b\": 0},\n",
    "    coloraxis_colorbar=dict(title=\"Death Rate\", thickness=20),\n",
    ")\n",
    "\n",
    "\n",
    "fig.show()"
   ]
  },
  {
   "cell_type": "markdown",
   "id": "64d07d05",
   "metadata": {},
   "source": [
    "# 📊 Summary of COVID-19 Objective EDA\n",
    "\n",
    "### 🎯 Objective Recap:\n",
    "We explored whether **long-term exposure to ambient PM₂.₅ (2010–2019)** and the **2020 Socio-Demographic Index (SDI)** are associated with **COVID-19 mortality rates** across 190 countries.\n",
    "\n",
    "---\n",
    "\n",
    "### 🔍 Key Findings:\n",
    "\n",
    "1. **Moderate Correlation Between PM₂.₅ and COVID-19 Death Rate:**\n",
    "   - The correlation coefficient between **long-term PM₂.₅ exposure** and **COVID-19 death rate** is **positive and moderate** (`r ≈ 0.36`).\n",
    "   - This suggests a potential linear association where countries with higher pollution may experience greater COVID-19 mortality.\n",
    "\n",
    "2. **Moderate Negative Correlation Between SDI and COVID-19 Death Rate:**\n",
    "   - SDI has a **moderate negative correlation** with COVID-19 mortality (`r ≈ -0.50`).\n",
    "   - This suggests that **more developed countries (higher SDI)** tend to have **lower COVID-19 death rates**, potentially reflecting stronger health systems and crisis response.\n",
    "\n",
    "3. **Moderate Negative Correlation Between SDI and PM₂.₅:**\n",
    "   - A clear inverse relationship exists between development and pollution:  \n",
    "     `r ≈ -0.35` between **SDI** and **mean PM₂.₅** exposure.\n",
    "   - This reflects global patterns where higher development levels often coincide with cleaner environments due to regulation and technology.\n",
    "\n",
    "4. **Strong Trend in COVID-19 Mortality by SDI Category:**\n",
    "   - Boxplots and summary statistics show a **clear decline in average COVID-19 death rate** as SDI increases:\n",
    "     - **Low SDI:** ~161 deaths per 100k  \n",
    "     - **Medium SDI:** ~120  \n",
    "     - **High SDI:** ~78  \n",
    "     - **Very High SDI:** ~44\n",
    "   - Variability in death rates is highest in **low and medium SDI** categories.\n",
    "\n",
    "5. **Consistent Decline in PM₂.₅ with Increasing SDI:**\n",
    "   - Mean PM₂.₅ exposure by SDI group:\n",
    "     - **Low SDI:** ~29.9 µg/m³  \n",
    "     - **Medium SDI:** ~28.0  \n",
    "     - **High SDI:** ~20.9  \n",
    "     - **Very High SDI:** ~16.8\n",
    "   - This confirms **environmental inequality**, where countries with lower development levels face higher air pollution burdens.\n",
    "\n",
    "6. **Outliers and Country-Specific Variability:**\n",
    "   - Some countries in **low and medium SDI groups** display exceptionally high death rates or pollution exposure, indicating potential for more detailed follow-up analysis.\n",
    "\n",
    "---\n",
    "\n",
    "### 📌 Interpretation:\n",
    "\n",
    "At the country level, both **long-term PM₂.₅ exposure** and **socio-demographic development (SDI)** show **moderate associations** with COVID-19 death rates. However, neither variable alone fully explains the variation, highlighting the multifactorial nature of pandemic outcomes.\n",
    "\n",
    "Further analysis is needed to uncover deeper patterns and interactions.\n"
   ]
  }
 ],
 "metadata": {
  "kernelspec": {
   "display_name": "base",
   "language": "python",
   "name": "python3"
  },
  "language_info": {
   "codemirror_mode": {
    "name": "ipython",
    "version": 3
   },
   "file_extension": ".py",
   "mimetype": "text/x-python",
   "name": "python",
   "nbconvert_exporter": "python",
   "pygments_lexer": "ipython3",
   "version": "3.12.7"
  }
 },
 "nbformat": 4,
 "nbformat_minor": 5
}

{
 "cells": [
  {
   "cell_type": "markdown",
   "id": "e7896d01",
   "metadata": {},
   "source": [
    "# Exploratory Data Analysis (EDA) for the COVID-19 Mortality Objective\n",
    "\n",
    "This section explores the relationship between average long-term PM₂.₅ concentrations (2010–2019), 2020 SDI values, and COVID-19 death rates in 2020 across countries. We aim to understand whether prior exposure to air pollution and socio-demographic development levels might help explain differences in COVID-19 outcomes.\n"
   ]
  },
  {
   "cell_type": "code",
   "execution_count": 1,
   "id": "dce5bcf2",
   "metadata": {},
   "outputs": [],
   "source": [
    "# Import Libraries\n",
    "import pandas as pd\n",
    "import matplotlib.pyplot as plt\n",
    "import seaborn as sns"
   ]
  },
  {
   "cell_type": "markdown",
   "id": "48e26cf6",
   "metadata": {},
   "source": [
    "### Load and Preview Dataset\n",
    "\n",
    "We'll begin by loading the final cleaned dataset containing the average PM₂.₅ concentrations (2010–2019), SDI values for 2020, and COVID-19 death rates for 2020."
   ]
  },
  {
   "cell_type": "code",
   "execution_count": 3,
   "id": "8a6aa4a9",
   "metadata": {},
   "outputs": [],
   "source": [
    "eda_covid = pd.read_csv(\"../1_datasets/final_datasets/final_merged_covid_pm25_sdi.csv\")"
   ]
  },
  {
   "cell_type": "markdown",
   "id": "f6dcd670",
   "metadata": {},
   "source": [
    "### Descriptive Statistics\n",
    "\n",
    "We’ll summarize the key variables — COVID-19 death rate, average PM2.5, and SDI to understand their distributions and central tendencies.\n"
   ]
  },
  {
   "cell_type": "code",
   "execution_count": null,
   "id": "83d64ff2",
   "metadata": {},
   "outputs": [
    {
     "name": "stdout",
     "output_type": "stream",
     "text": [
      "<class 'pandas.core.frame.DataFrame'>\n",
      "RangeIndex: 190 entries, 0 to 189\n",
      "Data columns (total 7 columns):\n",
      " #   Column               Non-Null Count  Dtype  \n",
      "---  ------               --------------  -----  \n",
      " 0   Country              190 non-null    object \n",
      " 1   COVID_Deaths_Rate    190 non-null    float64\n",
      " 2   upper                190 non-null    float64\n",
      " 3   lower                190 non-null    float64\n",
      " 4   Mean_PM25_2010_2019  190 non-null    float64\n",
      " 5   Year                 190 non-null    int64  \n",
      " 6   SDI_mean_value       190 non-null    float64\n",
      "dtypes: float64(5), int64(1), object(1)\n",
      "memory usage: 10.5+ KB\n",
      "None\n",
      "       COVID_Deaths_Rate         upper         lower  Mean_PM25_2010_2019  \\\n",
      "count       1.900000e+02  1.900000e+02  1.900000e+02           190.000000   \n",
      "mean        6.570683e+01  8.232673e+01  5.113240e+01            22.641584   \n",
      "std         5.874725e+01  7.287646e+01  4.743728e+01            14.428675   \n",
      "min         2.970584e-11  2.970584e-11  2.970584e-11             5.306000   \n",
      "25%         1.145097e+01  1.995687e+01  8.205569e+00            11.179250   \n",
      "50%         5.560512e+01  7.177487e+01  4.188469e+01            18.843500   \n",
      "75%         9.832491e+01  1.199627e+02  7.909089e+01            29.685500   \n",
      "max         2.804516e+02  3.334696e+02  2.332168e+02            67.013000   \n",
      "\n",
      "         Year  SDI_mean_value  \n",
      "count   190.0      190.000000  \n",
      "mean   2020.0        0.636614  \n",
      "std       0.0        0.174796  \n",
      "min    2020.0        0.076363  \n",
      "25%    2020.0        0.507227  \n",
      "50%    2020.0        0.657693  \n",
      "75%    2020.0        0.769124  \n",
      "max    2020.0        0.932028  \n"
     ]
    },
    {
     "data": {
      "text/html": [
       "<div>\n",
       "<style scoped>\n",
       "    .dataframe tbody tr th:only-of-type {\n",
       "        vertical-align: middle;\n",
       "    }\n",
       "\n",
       "    .dataframe tbody tr th {\n",
       "        vertical-align: top;\n",
       "    }\n",
       "\n",
       "    .dataframe thead th {\n",
       "        text-align: right;\n",
       "    }\n",
       "</style>\n",
       "<table border=\"1\" class=\"dataframe\">\n",
       "  <thead>\n",
       "    <tr style=\"text-align: right;\">\n",
       "      <th></th>\n",
       "      <th>Country</th>\n",
       "      <th>COVID_Deaths_Rate</th>\n",
       "      <th>upper</th>\n",
       "      <th>lower</th>\n",
       "      <th>Mean_PM25_2010_2019</th>\n",
       "      <th>Year</th>\n",
       "      <th>SDI_mean_value</th>\n",
       "    </tr>\n",
       "  </thead>\n",
       "  <tbody>\n",
       "    <tr>\n",
       "      <th>0</th>\n",
       "      <td>Lao People's Democratic Republic</td>\n",
       "      <td>6.867837e-11</td>\n",
       "      <td>6.867837e-11</td>\n",
       "      <td>6.867837e-11</td>\n",
       "      <td>21.164</td>\n",
       "      <td>2020</td>\n",
       "      <td>0.484193</td>\n",
       "    </tr>\n",
       "    <tr>\n",
       "      <th>1</th>\n",
       "      <td>Sri Lanka</td>\n",
       "      <td>2.820345e+00</td>\n",
       "      <td>2.820345e+00</td>\n",
       "      <td>2.820345e+00</td>\n",
       "      <td>23.948</td>\n",
       "      <td>2020</td>\n",
       "      <td>0.697649</td>\n",
       "    </tr>\n",
       "    <tr>\n",
       "      <th>2</th>\n",
       "      <td>Fiji</td>\n",
       "      <td>8.084884e+00</td>\n",
       "      <td>1.685940e+01</td>\n",
       "      <td>2.008246e+00</td>\n",
       "      <td>7.272</td>\n",
       "      <td>2020</td>\n",
       "      <td>0.671431</td>\n",
       "    </tr>\n",
       "    <tr>\n",
       "      <th>3</th>\n",
       "      <td>Samoa</td>\n",
       "      <td>2.370317e-09</td>\n",
       "      <td>2.370317e-09</td>\n",
       "      <td>2.370317e-09</td>\n",
       "      <td>7.623</td>\n",
       "      <td>2020</td>\n",
       "      <td>0.590075</td>\n",
       "    </tr>\n",
       "    <tr>\n",
       "      <th>4</th>\n",
       "      <td>Malaysia</td>\n",
       "      <td>1.516114e+00</td>\n",
       "      <td>2.286782e+00</td>\n",
       "      <td>8.061217e-01</td>\n",
       "      <td>21.670</td>\n",
       "      <td>2020</td>\n",
       "      <td>0.738744</td>\n",
       "    </tr>\n",
       "  </tbody>\n",
       "</table>\n",
       "</div>"
      ],
      "text/plain": [
       "                            Country  COVID_Deaths_Rate         upper  \\\n",
       "0  Lao People's Democratic Republic       6.867837e-11  6.867837e-11   \n",
       "1                         Sri Lanka       2.820345e+00  2.820345e+00   \n",
       "2                              Fiji       8.084884e+00  1.685940e+01   \n",
       "3                             Samoa       2.370317e-09  2.370317e-09   \n",
       "4                          Malaysia       1.516114e+00  2.286782e+00   \n",
       "\n",
       "          lower  Mean_PM25_2010_2019  Year  SDI_mean_value  \n",
       "0  6.867837e-11               21.164  2020        0.484193  \n",
       "1  2.820345e+00               23.948  2020        0.697649  \n",
       "2  2.008246e+00                7.272  2020        0.671431  \n",
       "3  2.370317e-09                7.623  2020        0.590075  \n",
       "4  8.061217e-01               21.670  2020        0.738744  "
      ]
     },
     "execution_count": 3,
     "metadata": {},
     "output_type": "execute_result"
    }
   ],
   "source": [
    "# Basic info\n",
    "print(eda_covid.info())\n",
    "print(eda_covid.describe())\n",
    "eda_covid.head()"
   ]
  },
  {
   "cell_type": "markdown",
   "id": "7ce8997e",
   "metadata": {},
   "source": [
    "### Visualizing Distributions\n",
    "\n",
    "Here we explore the distributions of:\n",
    "- COVID-19 death rate\n",
    "- Average PM₂.₅ concentration\n",
    "- 2020 SDI\n",
    "\n",
    "This helps detect skewness, outliers, and general trends.\n"
   ]
  },
  {
   "cell_type": "code",
   "execution_count": null,
   "id": "11c65f93",
   "metadata": {},
   "outputs": [
    {
     "data": {
      "image/png": "[encoded data removed]",
      "text/plain": [
       "<Figure size 1200x600 with 1 Axes>"
      ]
     },
     "metadata": {},
     "output_type": "display_data"
    },
    {
     "data": {
      "image/png": "[encoded data removed]",
      "text/plain": [
       "<Figure size 800x600 with 1 Axes>"
      ]
     },
     "metadata": {},
     "output_type": "display_data"
    }
   ],
   "source": [
    "plt.figure(figsize=(12, 6))\n",
    "sns.histplot(eda_covid[\"COVID_Deaths_Rate\"], kde=True, bins=30)\n",
    "plt.title(\"Distribution of COVID-19 Death Rates\")\n",
    "plt.savefig(\"figures_1/distribution_of_covid_19_Death_Rates\", dpi=300)\n",
    "plt.show()\n",
    "\n",
    "\n",
    "# Boxplot to identify outliers\n",
    "plt.figure(figsize=(8, 6))\n",
    "sns.boxplot(x=eda_covid[\"COVID_Deaths_Rate\"])\n",
    "plt.title(\"Boxplot of COVID-19 Death Rates\")\n",
    "plt.savefig(\"figures_1/boxplot_of_covid_19_death_rates\", dpi=300)\n",
    "plt.show()"
   ]
  },
  {
   "cell_type": "code",
   "execution_count": null,
   "id": "36918616",
   "metadata": {},
   "outputs": [
    {
     "data": {
      "image/png": "[encoded data removed]",
      "text/plain": [
       "<Figure size 1200x600 with 1 Axes>"
      ]
     },
     "metadata": {},
     "output_type": "display_data"
    }
   ],
   "source": [
    "plt.figure(figsize=(12, 6))\n",
    "sns.histplot(eda_covid[\"SDI_mean_value\"], kde=True, bins=30, color=\"red\")\n",
    "plt.title(\"Distribution of SDI Levels\")\n",
    "plt.savefig(\"figures_1/distribution_of_sdi_levels\", dpi=300)\n",
    "plt.show()"
   ]
  },
  {
   "cell_type": "code",
   "execution_count": null,
   "id": "0eaa2644",
   "metadata": {},
   "outputs": [
    {
     "data": {
      "image/png": "[encoded data removed]",
      "text/plain": [
       "<Figure size 1200x600 with 1 Axes>"
      ]
     },
     "metadata": {},
     "output_type": "display_data"
    }
   ],
   "source": [
    "plt.figure(figsize=(12, 6))\n",
    "sns.histplot(eda_covid[\"Mean_PM25_2010_2019\"], kde=True, bins=30, color=\"green\")\n",
    "plt.title(\"Distribution of PM2.5 Average Concentrations (2010-2019)\")\n",
    "plt.savefig(\"figures_1/distribution_of_pm25_average_concentration\", dpi=300)\n",
    "plt.show()"
   ]
  },
  {
   "cell_type": "markdown",
   "id": "ed462de9",
   "metadata": {},
   "source": [
    "### Scatter Plots: Bivariate Relationships\n",
    "\n",
    "We visualize how COVID-19 death rates relate to:\n",
    "- PM2.5 levels (2010–2019)\n",
    "- SDI in 2020\n",
    "\n",
    "and SDI in 2020 with the Average PM2.5 concentration\n",
    "\n",
    "These plots will help assess the direction and strength of relationships.\n"
   ]
  },
  {
   "cell_type": "code",
   "execution_count": null,
   "id": "d9b212e9",
   "metadata": {},
   "outputs": [
    {
     "data": {
      "image/png": "[encoded data removed]",
      "text/plain": [
       "<Figure size 1200x600 with 1 Axes>"
      ]
     },
     "metadata": {},
     "output_type": "display_data"
    },
    {
     "data": {
      "image/png": "[encoded data removed]",
      "text/plain": [
       "<Figure size 900x600 with 1 Axes>"
      ]
     },
     "metadata": {},
     "output_type": "display_data"
    }
   ],
   "source": [
    "plt.figure(figsize=(12, 6))\n",
    "sns.scatterplot(x=\"SDI_mean_value\", y=\"COVID_Deaths_Rate\", data=eda_covid)\n",
    "plt.title(\"COVID Death Rate vs. SDI Level\")\n",
    "plt.savefig(\"figures_1/scatterplot_covid_sdi\", dpi=300)\n",
    "plt.show()\n",
    "\n",
    "# With regression line\n",
    "sns.lmplot(\n",
    "    x=\"SDI_mean_value\", y=\"COVID_Deaths_Rate\", data=eda_covid, height=6, aspect=1.5\n",
    ")\n",
    "plt.title(\"COVID Death Rate vs. SDI Level with Regression Line\")\n",
    "plt.savefig(\"figures_1/scatterplot_covid_sdi_with_regression\", dpi=300)\n",
    "plt.show()"
   ]
  },
  {
   "cell_type": "code",
   "execution_count": null,
   "id": "ffd0687a",
   "metadata": {},
   "outputs": [
    {
     "data": {
      "image/png": "[encoded data removed]",
      "text/plain": [
       "<Figure size 1200x600 with 1 Axes>"
      ]
     },
     "metadata": {},
     "output_type": "display_data"
    }
   ],
   "source": [
    "plt.figure(figsize=(12, 6))\n",
    "sns.scatterplot(x=\"Mean_PM25_2010_2019\", y=\"COVID_Deaths_Rate\", data=eda_covid)\n",
    "plt.title(\"COVID Death Rate vs. PM2.5 Average Concentration\")\n",
    "plt.savefig(\"figures_1/scatterplot_covid_pm25\", dpi=300)\n",
    "plt.show()"
   ]
  },
  {
   "cell_type": "code",
   "execution_count": null,
   "id": "73f1de28",
   "metadata": {},
   "outputs": [
    {
     "data": {
      "image/png": "[encoded data removed]",
      "text/plain": [
       "<Figure size 1200x600 with 1 Axes>"
      ]
     },
     "metadata": {},
     "output_type": "display_data"
    }
   ],
   "source": [
    "plt.figure(figsize=(12, 6))\n",
    "sns.scatterplot(x=\"Mean_PM25_2010_2019\", y=\"SDI_mean_value\", data=eda_covid)\n",
    "plt.title(\"SDI Level vs. PM2.5 Average Concentration\")\n",
    "plt.savefig(\"figures_1/scatterplot_pm25_sdi\", dpi=300)\n",
    "plt.show()"
   ]
  },
  {
   "cell_type": "markdown",
   "id": "d31cec27",
   "metadata": {},
   "source": [
    "### COVID-19 Death Rates Across SDI Categories\n",
    "\n",
    "To further explore how socio-demographic development (SDI) relates to COVID-19 mortality, we categorized countries into four SDI levels:\n",
    "\n",
    "- **Low**: SDI < 0.45  \n",
    "- **Medium**: SDI between 0.45 and 0.60  \n",
    "- **High**: SDI between 0.60 and 0.75  \n",
    "- **Very High**: SDI ≥ 0.75\n",
    "\n",
    "These groupings allow us to compare COVID-19 death rates across development levels using a boxplot. This visualization helps reveal whether certain SDI groups experienced systematically higher or lower mortality outcomes during the pandemic.\n",
    "\n",
    "The boxplot displays the distribution of COVID-19 death rates within each SDI group, highlighting medians, spread, and potential outliers.\n"
   ]
  },
  {
   "cell_type": "code",
   "execution_count": null,
   "id": "49f2ece5",
   "metadata": {},
   "outputs": [
    {
     "data": {
      "image/png": "[encoded data removed]",
      "text/plain": [
       "<Figure size 1200x600 with 1 Axes>"
      ]
     },
     "metadata": {},
     "output_type": "display_data"
    }
   ],
   "source": [
    "# Create SDI categories (adjust bins as needed)\n",
    "eda_covid[\"sdi_category\"] = pd.cut(\n",
    "    eda_covid[\"SDI_mean_value\"],\n",
    "    bins=[0, 0.45, 0.60, 0.75, 1],\n",
    "    labels=[\"Low\", \"Medium\", \"High\", \"Very High\"],\n",
    ")\n",
    "\n",
    "# Boxplot of COVID death rate by SDI category\n",
    "plt.figure(figsize=(12, 6))\n",
    "sns.boxplot(x=\"sdi_category\", y=\"COVID_Deaths_Rate\", data=eda_covid)\n",
    "plt.title(\"COVID Death Rate by SDI Category\")\n",
    "plt.savefig(\"figures_1/boxplot_covid_sdi_categories\", dpi=300)\n",
    "plt.show()"
   ]
  },
  {
   "cell_type": "markdown",
   "id": "6b1bc238",
   "metadata": {},
   "source": [
    "### Correlation Analysis\n",
    "\n",
    "Now we check how the variables relate to each other statistically using a correlation matrix. This gives us early hints on possible linear relationships.\n"
   ]
  },
  {
   "cell_type": "code",
   "execution_count": null,
   "id": "eab06026",
   "metadata": {},
   "outputs": [
    {
     "data": {
      "image/png": "[encoded data removed]",
      "text/plain": [
       "<Figure size 1000x800 with 2 Axes>"
      ]
     },
     "metadata": {},
     "output_type": "display_data"
    }
   ],
   "source": [
    "# Calculate correlation matrix\n",
    "corr_matrix = eda_covid[\n",
    "    [\"COVID_Deaths_Rate\", \"SDI_mean_value\", \"Mean_PM25_2010_2019\"]\n",
    "].corr()\n",
    "\n",
    "# Visualize correlation matrix\n",
    "plt.figure(figsize=(10, 8))\n",
    "sns.heatmap(corr_matrix, annot=True, cmap=\"BrBG\", center=0)\n",
    "plt.title(\"Correlation Matrix\")\n",
    "plt.savefig(\"figures_1/correlation_matrix\", dpi=300)\n",
    "plt.show()"
   ]
  },
  {
   "cell_type": "markdown",
   "id": "43fa2c7d",
   "metadata": {},
   "source": [
    "### Summary Statistics by SDI Category\n",
    "\n",
    "To better understand how COVID-19 death rates and long-term PM₂.₅ exposure vary across development levels, we compute summary statistics (mean, std, min, max, etc.) for each SDI category. This grouped descriptive analysis helps identify whether specific SDI groups are disproportionately affected in terms of pandemic mortality or pollution exposure.\n"
   ]
  },
  {
   "cell_type": "code",
   "execution_count": null,
   "id": "448c1776",
   "metadata": {},
   "outputs": [
    {
     "name": "stderr",
     "output_type": "stream",
     "text": [
      "C:\\Users\\hp\\AppData\\Local\\Temp\\ipykernel_7964\\4080452303.py:3: FutureWarning: The default of observed=False is deprecated and will be changed to True in a future version of pandas. Pass observed=False to retain current behavior or observed=True to adopt the future default and silence this warning.\n",
      "  eda_covid.groupby(\"sdi_category\")[\n"
     ]
    },
    {
     "name": "stdout",
     "output_type": "stream",
     "text": [
      "             COVID_Deaths_Rate                                                 \\\n",
      "                         count       mean        std           min        25%   \n",
      "sdi_category                                                                    \n",
      "Low                       33.0  55.060768  33.270756  3.651418e-10  30.297046   \n",
      "Medium                    37.0  61.531830  58.406505  2.970584e-11   2.132069   \n",
      "High                      64.0  67.983842  67.415966  4.714003e-09   5.675625   \n",
      "Very High                 56.0  72.136583  60.406660  2.764638e-08  15.275588   \n",
      "\n",
      "                                                Mean_PM25_2010_2019  \\\n",
      "                    50%         75%         max               count   \n",
      "sdi_category                                                          \n",
      "Low           55.318861   77.160366  129.212747                33.0   \n",
      "Medium        63.178170   90.083517  280.451601                37.0   \n",
      "High          53.565302  103.777305  265.656063                64.0   \n",
      "Very High     56.113919  115.508629  240.326402                56.0   \n",
      "\n",
      "                                                                                \n",
      "                   mean        std    min       25%      50%       75%     max  \n",
      "sdi_category                                                                    \n",
      "Low           29.892727  13.001292  7.658  20.16900  31.8520  38.70600  67.013  \n",
      "Medium        28.013027  17.626643  6.842  14.18700  22.2950  41.77000  63.496  \n",
      "High          20.881203  11.662655  6.553  11.73225  19.2270  25.91075  53.819  \n",
      "Very High     16.831464  12.998287  5.306   8.84625  13.1865  18.18400  65.132  \n"
     ]
    }
   ],
   "source": [
    "# Summary statistics by SDI category\n",
    "print(\n",
    "    eda_covid.groupby(\"sdi_category\")[\n",
    "        [\"COVID_Deaths_Rate\", \"Mean_PM25_2010_2019\"]\n",
    "    ].describe()\n",
    ")"
   ]
  },
  {
   "cell_type": "markdown",
   "id": "a44439f7",
   "metadata": {},
   "source": [
    "### Top 10 Countries by COVID-19 Death Rate and PM2.5 Exposure\n",
    "\n",
    "This section highlights the countries with the highest COVID-19 mortality rates and the highest long-term PM2.5 concentrations (2010–2019). These outliers are useful for identifying countries that may warrant deeper investigation or serve as case studies in understanding vulnerability.\n",
    "\n",
    "- **COVID-19 Death Rate (2020):** Countries with the highest pandemic mortality.\n",
    "- **PM2.5 Exposure:** Countries with the greatest long-term pollution burden.\n"
   ]
  },
  {
   "cell_type": "code",
   "execution_count": null,
   "id": "281098f1",
   "metadata": {},
   "outputs": [
    {
     "name": "stdout",
     "output_type": "stream",
     "text": [
      "Top 10 countries by COVID death rate:\n",
      "                              Country  COVID_Deaths_Rate\n",
      "19   Bolivia (Plurinational State of)         280.451601\n",
      "181                              Peru         265.656063\n",
      "42                           Bulgaria         240.326402\n",
      "157                   North Macedonia         221.881327\n",
      "63                             Mexico         212.122870\n",
      "166                           Ecuador         203.433706\n",
      "145                           Belarus         196.705914\n",
      "60                       South Africa         191.813949\n",
      "12                            Armenia         181.219979\n",
      "40                         San Marino         180.508426\n",
      "\n",
      "Top 10 countries by PM2.5 concentration:\n",
      "          Country  Mean_PM25_2010_2019\n",
      "97    Afghanistan               67.013\n",
      "75         Kuwait               65.132\n",
      "173    Tajikistan               63.496\n",
      "155         Qatar               62.363\n",
      "28          Egypt               61.554\n",
      "161  Saudi Arabia               57.003\n",
      "152      Cameroon               56.202\n",
      "141       Nigeria               55.200\n",
      "126      Pakistan               55.150\n",
      "76          India               54.546\n"
     ]
    }
   ],
   "source": [
    "# Top 10 countries by each metric\n",
    "print(\"Top 10 countries by COVID death rate:\")\n",
    "print(eda_covid.nlargest(10, \"COVID_Deaths_Rate\")[[\"Country\", \"COVID_Deaths_Rate\"]])\n",
    "\n",
    "print(\"\\nTop 10 countries by PM2.5 concentration:\")\n",
    "print(eda_covid.nlargest(10, \"Mean_PM25_2010_2019\")[[\"Country\", \"Mean_PM25_2010_2019\"]])"
   ]
  },
  {
   "cell_type": "markdown",
   "id": "fa6609fb",
   "metadata": {},
   "source": [
    "### Choropleth Map: COVID-19 Death Rates by Country (2020)\n",
    "\n",
    "This interactive choropleth map visualizes the geographic distribution of COVID-19 death rates in 2020. Hovering over each country displays its SDI value and long-term PM₂.₅ exposure. The map helps identify regional patterns or clusters of high or low mortality and allows us to explore whether such patterns align with environmental or developmental indicators.\n"
   ]
  },
  {
   "cell_type": "code",
   "execution_count": 5,
   "id": "e73eb57d",
   "metadata": {},
   "outputs": [
    {
     "data": {
      "application/vnd.plotly.v1+json": {
       "config": {
        "plotlyServerURL": "https://plot.ly"
       },
       "data": [
        {
         "coloraxis": "coloraxis",
         "customdata": [
          [
           0.484192959345392,
           21.164
          ],
          [
           0.697648535082413,
           23.948
          ],
          [
           0.671431490601499,
           7.272
          ],
          [
           0.590075295612806,
           7.623
          ],
          [
           0.738743992650626,
           21.67
          ],
          [
           0.426112428669488,
           7.657999999999999
          ],
          [
           0.679119989171207,
           24.884
          ],
          [
           0.665086346623039,
           10.128
          ],
          [
           0.622104455604093,
           7.261
          ],
          [
           0.647608589281031,
           12.867
          ],
          [
           0.529434702877063,
           27.49
          ],
          [
           0.851346648590241,
           13.595
          ],
          [
           0.69826889937921,
           40.628
          ],
          [
           0.669720489592338,
           9.093
          ],
          [
           0.523454113096381,
           7.551
          ],
          [
           0.558919894116032,
           26.182
          ],
          [
           0.632860904072373,
           9.534
          ],
          [
           0.61462963730677,
           47.101
          ],
          [
           0.442349336035765,
           20.169
          ],
          [
           0.594854443460131,
           26.105
          ],
          [
           0.836049443246129,
           12.372
          ],
          [
           0.703788489528527,
           13.96
          ],
          [
           0.600499553804348,
           44.673
          ],
          [
           0.703790245372837,
           19.773
          ],
          [
           0.631057688560962,
           14.299
          ],
          [
           0.568837509186186,
           7.151000000000001
          ],
          [
           0.659124204371032,
           48.643
          ],
          [
           0.806351589333701,
           21.337
          ],
          [
           0.597363341129599,
           61.554
          ],
          [
           0.914529920283541,
           6.94
          ],
          [
           0.415186878578667,
           8.645
          ],
          [
           0.722788768207953,
           30.885
          ],
          [
           0.678298179976148,
           31.612
          ],
          [
           0.713364584593745,
           49.782
          ],
          [
           0.827900448409988,
           13.821000000000002
          ],
          [
           0.883717569055359,
           27.127
          ],
          [
           0.854296009592945,
           15.416
          ],
          [
           0.619330076183652,
           7.407999999999999
          ],
          [
           0.348133889761756,
           35.047
          ],
          [
           0.468714478980695,
           28.704
          ],
          [
           0.886867937194416,
           11.426
          ],
          [
           0.56818855103523,
           53.341
          ],
          [
           0.765089710642011,
           21.074
          ],
          [
           0.894368296843327,
           10.821000000000002
          ],
          [
           0.766506025058573,
           10.995
          ],
          [
           0.615635625027175,
           7.673999999999999
          ],
          [
           0.650855354021142,
           16.663
          ],
          [
           0.653300379638783,
           38.738
          ],
          [
           0.721294302628992,
           13.288
          ],
          [
           0.871992631299453,
           7.188
          ],
          [
           0.802948018163753,
           5.306
          ],
          [
           0.49748556148019,
           17.213
          ],
          [
           0.472003132433584,
           14.187
          ],
          [
           0.497861408762174,
           33.167
          ],
          [
           0.652124902941809,
           25.604000000000003
          ],
          [
           0.722790249813625,
           6.553
          ],
          [
           0.792554392852858,
           23.608
          ],
          [
           0.789632219998033,
           16.701
          ],
          [
           0.680567176976565,
           15.124
          ],
          [
           0.508669245938408,
           22.295
          ],
          [
           0.677166096009468,
           19.07
          ],
          [
           0.392778708989164,
           16.294999999999998
          ],
          [
           0.720068239915947,
           25.064
          ],
          [
           0.660119061584711,
           21.268
          ],
          [
           0.874323153425611,
           6.298
          ],
          [
           0.80830596588062,
           19.411
          ],
          [
           0.882495316094676,
           10.627
          ],
          [
           0.555246068582659,
           13.378
          ],
          [
           0.795462271729482,
           18.985
          ],
          [
           0.279871317215145,
           41.332
          ],
          [
           0.85275238761541,
           11.754
          ],
          [
           0.726663769455011,
           17.148
          ],
          [
           0.857655552665083,
           6.003
          ],
          [
           0.88506201036603,
           6.531999999999999
          ],
          [
           0.696194605172093,
           17.674
          ],
          [
           0.843459812023503,
           65.13199999999999
          ],
          [
           0.568138149330912,
           54.54600000000001
          ],
          [
           0.481879945321652,
           20.541
          ],
          [
           0.65365146606094,
           22.371
          ],
          [
           0.61772759307296,
           24.727
          ],
          [
           0.75278092905906,
           7.685
          ],
          [
           0.639275298342726,
           13.088
          ],
          [
           0.262629218759395,
           39.127
          ],
          [
           0.40452419422916,
           38.706
          ],
          [
           0.651926647922518,
           19.61
          ],
          [
           0.470038390856612,
           8.431000000000001
          ],
          [
           0.720202056378697,
           31.916
          ],
          [
           0.833059522677264,
           15.663
          ],
          [
           0.665210747223401,
           13.775
          ],
          [
           0.691918763371909,
           30.126
          ],
          [
           0.353216349837522,
           22.129
          ],
          [
           0.50674665490739,
           17.762999999999998
          ],
          [
           0.468876053670987,
           17.899
          ],
          [
           0.932027644512362,
           10.907
          ],
          [
           0.642284644781673,
           11.097
          ],
          [
           0.533455421993626,
           22.158
          ],
          [
           0.774700577781853,
           7.522
          ],
          [
           0.32983006796412,
           67.013
          ],
          [
           0.727710540349217,
           14.186000000000002
          ],
          [
           0.329877997039031,
           37.827
          ],
          [
           0.82662663116323,
           17.917
          ],
          [
           0.742009720142934,
           23.971
          ],
          [
           0.759929872218543,
           15.122
          ],
          [
           0.534571414248156,
           24.822
          ],
          [
           0.483079169271683,
           49.53
          ],
          [
           0.286496000475545,
           28.067
          ],
          [
           0.614435889089058,
           11.944
          ],
          [
           0.347798997943486,
           34.938
          ],
          [
           0.75156840922289,
           8.22
          ],
          [
           0.427417089099115,
           39.32899999999999
          ],
          [
           0.400459411382762,
           22.526
          ],
          [
           0.867449169102346,
           9.943
          ],
          [
           0.871958822388357,
           8.988
          ],
          [
           0.769213676196926,
           22.628
          ],
          [
           0.520292670400273,
           19.433
          ],
          [
           0.581653071099534,
           14.859
          ],
          [
           0.401197515620742,
           38.364
          ],
          [
           0.808795317506383,
           23.185
          ],
          [
           0.764276444363666,
           16.009999999999998
          ],
          [
           0.714629803881546,
           10.579
          ],
          [
           0.471573170735407,
           13.169
          ],
          [
           0.644867233233664,
           22.659
          ],
          [
           0.692605192199032,
           29.648000000000003
          ],
          [
           0.806011474298182,
           9.857
          ],
          [
           0.491365602592056,
           41.77
          ],
          [
           0.768854215658189,
           35.818
          ],
          [
           0.497364405611904,
           55.15
          ],
          [
           0.90668543677348,
           10.484
          ],
          [
           0.787620389699141,
           17.441
          ],
          [
           0.571666102458017,
           6.8420000000000005
          ],
          [
           0.716169766093523,
           9.287
          ],
          [
           0.901438614019463,
           12.849
          ],
          [
           0.746345330021488,
           8.498999999999999
          ],
          [
           0.744419943891979,
           8.382000000000001
          ],
          [
           0.60003478118243,
           19.384
          ],
          [
           0.720270392863655,
           29.698
          ],
          [
           0.578451546357964,
           29.58
          ],
          [
           0.630683705083472,
           12.211
          ],
          [
           0.869106879336459,
           12.625
          ],
          [
           0.516136571818187,
           12.482
          ],
          [
           0.36696448721315,
           31.852
          ],
          [
           0.496204741160216,
           55.2
          ],
          [
           0.729125888954526,
           22.669
          ],
          [
           0.623090320139283,
           21.133000000000003
          ],
          [
           0.276787923789994,
           21.593
          ],
          [
           0.782381564892966,
           16.928
          ],
          [
           0.677615147910612,
           26.396
          ],
          [
           0.447283991858922,
           25.109
          ],
          [
           0.607060046133776,
           10.591
          ],
          [
           0.377879020413869,
           18.702
          ],
          [
           0.320291181995807,
           16.526
          ],
          [
           0.528461594777472,
           31.206
          ],
          [
           0.472285846440991,
           56.202
          ],
          [
           0.164539264581005,
           50.415
          ],
          [
           0.80742409075008,
           7.678
          ],
          [
           0.841467395353032,
           62.363
          ],
          [
           0.305426298180724,
           28.013
          ],
          [
           0.747849899969173,
           30.842
          ],
          [
           0.446390613582292,
           9.854
          ],
          [
           0.376712271159843,
           31.871
          ],
          [
           0.803635679966778,
           17.298000000000002
          ],
          [
           0.810541860714478,
           57.003
          ],
          [
           0.840373845574037,
           17.808
          ],
          [
           0.860792773409847,
           8.421
          ],
          [
           0.798375166241004,
           14.267
          ],
          [
           0.649201568351328,
           13.107
          ],
          [
           0.65671445724893,
           17.266
          ],
          [
           0.429896595971404,
           34.93
          ],
          [
           0.847398736836909,
           7.731
          ],
          [
           0.402356922397572,
           36.198
          ],
          [
           0.236103082769538,
           42.566
          ],
          [
           0.438747237740344,
           15.419999999999998
          ],
          [
           0.352412021842938,
           39.524
          ],
          [
           0.537690530515565,
           63.496
          ],
          [
           0.558462173287852,
           46.719
          ],
          [
           0.74436664552373,
           9.899
          ],
          [
           0.748103083095047,
           53.819
          ],
          [
           0.627609647280361,
           25.749
          ],
          [
           0.0763633695596333,
           14.38
          ],
          [
           0.842051314482691,
           7.478999999999999
          ],
          [
           0.584527228769055,
           7.579000000000001
          ],
          [
           0.658672243500517,
           29.541
          ],
          [
           0.789183332686432,
           26.255000000000003
          ],
          [
           0.741037384212082,
           8.937999999999999
          ],
          [
           0.766422080818681,
           10.347
          ],
          [
           0.846151975991622,
           43.039
          ],
          [
           0.416846079190348,
           31.619
          ],
          [
           0.852020385174284,
           13.524
          ],
          [
           0.44689306923482,
           40.716
          ],
          [
           0.841817139147138,
           7.087999999999999
          ]
         ],
         "geo": "geo",
         "hovertemplate": "<b>%{hovertext}</b><br><br>Country=%{location}<br>SDI_mean_value=%{customdata[0]}<br>Mean_PM25_2010_2019=%{customdata[1]}<br>lower=%{z}<extra></extra>",
         "hovertext": [
          "Lao People's Democratic Republic",
          "Sri Lanka",
          "Fiji",
          "Samoa",
          "Malaysia",
          "Solomon Islands",
          "Thailand",
          "Grenada",
          "Tonga",
          "Maldives",
          "Myanmar",
          "Belgium",
          "Armenia",
          "Saint Lucia",
          "Kiribati",
          "El Salvador",
          "Saint Vincent and the Grenadines",
          "Mongolia",
          "Timor-Leste",
          "Bolivia (Plurinational State of)",
          "France",
          "Panama",
          "Kyrgyzstan",
          "Albania",
          "Paraguay",
          "Marshall Islands",
          "Uzbekistan",
          "Israel",
          "Egypt",
          "Norway",
          "Papua New Guinea",
          "Kazakhstan",
          "Turkmenistan",
          "China",
          "Latvia",
          "Republic of Korea",
          "Singapore",
          "Nauru",
          "Liberia",
          "Bhutan",
          "San Marino",
          "Democratic People's Republic of Korea",
          "Bulgaria",
          "Denmark",
          "Spain",
          "Dominican Republic",
          "Colombia",
          "Iraq",
          "Argentina",
          "Canada",
          "Bahamas",
          "Zambia",
          "Comoros",
          "Sao Tome and Principe",
          "Equatorial Guinea",
          "Niue",
          "Montenegro",
          "Greece",
          "Jamaica",
          "Honduras",
          "South Africa",
          "Madagascar",
          "Jordan",
          "Mexico",
          "Iceland",
          "Slovakia",
          "Luxembourg",
          "Morocco",
          "Croatia",
          "Burkina Faso",
          "Lithuania",
          "Seychelles",
          "Finland",
          "Sweden",
          "Costa Rica",
          "Kuwait",
          "India",
          "Djibouti",
          "Algeria",
          "Syrian Arab Republic",
          "Palau",
          "Botswana",
          "Mali",
          "Gambia",
          "Indonesia",
          "Vanuatu",
          "Bosnia and Herzegovina",
          "Cyprus",
          "Cuba",
          "Iran (Islamic Republic of)",
          "Ethiopia",
          "Lesotho",
          "Cambodia",
          "Switzerland",
          "Guyana",
          "Sudan",
          "Cook Islands",
          "Afghanistan",
          "Republic of Moldova",
          "Guinea",
          "Czechia",
          "Lebanon",
          "Ukraine",
          "Guatemala",
          "Bangladesh",
          "Burundi",
          "Namibia",
          "Guinea-Bissau",
          "Saint Kitts and Nevis",
          "Nepal",
          "Eritrea",
          "Andorra",
          "Ireland",
          "Chile",
          "Nicaragua",
          "Eswatini",
          "Senegal",
          "Poland",
          "Romania",
          "Mauritius",
          "Zimbabwe",
          "Philippines",
          "Azerbaijan",
          "Russian Federation",
          "Mauritania",
          "Oman",
          "Pakistan",
          "Monaco",
          "Hungary",
          "Tuvalu",
          "Uruguay",
          "Germany",
          "Antigua and Barbuda",
          "Dominica",
          "Venezuela (Bolivarian Republic of)",
          "Libya",
          "Congo",
          "Suriname",
          "Japan",
          "Kenya",
          "Benin",
          "Nigeria",
          "Georgia",
          "Viet Nam",
          "South Sudan",
          "Belarus",
          "Tunisia",
          "Angola",
          "Belize",
          "Malawi",
          "Mozambique",
          "Cabo Verde",
          "Cameroon",
          "Niger",
          "Brunei Darussalam",
          "Qatar",
          "Central African Republic",
          "North Macedonia",
          "Haiti",
          "Democratic Republic of the Congo",
          "Italy",
          "Saudi Arabia",
          "Slovenia",
          "United States of America",
          "Malta",
          "Brazil",
          "Ecuador",
          "Rwanda",
          "New Zealand",
          "Togo",
          "Chad",
          "United Republic of Tanzania",
          "Sierra Leone",
          "Tajikistan",
          "Ghana",
          "Barbados",
          "Bahrain",
          "Gabon",
          "Somalia",
          "Australia",
          "Micronesia (Federated States of)",
          "Peru",
          "Serbia",
          "Portugal",
          "Trinidad and Tobago",
          "United Arab Emirates",
          "Uganda",
          "Austria",
          "Yemen",
          "Estonia"
         ],
         "locationmode": "country names",
         "locations": [
          "Lao People's Democratic Republic",
          "Sri Lanka",
          "Fiji",
          "Samoa",
          "Malaysia",
          "Solomon Islands",
          "Thailand",
          "Grenada",
          "Tonga",
          "Maldives",
          "Myanmar",
          "Belgium",
          "Armenia",
          "Saint Lucia",
          "Kiribati",
          "El Salvador",
          "Saint Vincent and the Grenadines",
          "Mongolia",
          "Timor-Leste",
          "Bolivia (Plurinational State of)",
          "France",
          "Panama",
          "Kyrgyzstan",
          "Albania",
          "Paraguay",
          "Marshall Islands",
          "Uzbekistan",
          "Israel",
          "Egypt",
          "Norway",
          "Papua New Guinea",
          "Kazakhstan",
          "Turkmenistan",
          "China",
          "Latvia",
          "Republic of Korea",
          "Singapore",
          "Nauru",
          "Liberia",
          "Bhutan",
          "San Marino",
          "Democratic People's Republic of Korea",
          "Bulgaria",
          "Denmark",
          "Spain",
          "Dominican Republic",
          "Colombia",
          "Iraq",
          "Argentina",
          "Canada",
          "Bahamas",
          "Zambia",
          "Comoros",
          "Sao Tome and Principe",
          "Equatorial Guinea",
          "Niue",
          "Montenegro",
          "Greece",
          "Jamaica",
          "Honduras",
          "South Africa",
          "Madagascar",
          "Jordan",
          "Mexico",
          "Iceland",
          "Slovakia",
          "Luxembourg",
          "Morocco",
          "Croatia",
          "Burkina Faso",
          "Lithuania",
          "Seychelles",
          "Finland",
          "Sweden",
          "Costa Rica",
          "Kuwait",
          "India",
          "Djibouti",
          "Algeria",
          "Syrian Arab Republic",
          "Palau",
          "Botswana",
          "Mali",
          "Gambia",
          "Indonesia",
          "Vanuatu",
          "Bosnia and Herzegovina",
          "Cyprus",
          "Cuba",
          "Iran (Islamic Republic of)",
          "Ethiopia",
          "Lesotho",
          "Cambodia",
          "Switzerland",
          "Guyana",
          "Sudan",
          "Cook Islands",
          "Afghanistan",
          "Republic of Moldova",
          "Guinea",
          "Czechia",
          "Lebanon",
          "Ukraine",
          "Guatemala",
          "Bangladesh",
          "Burundi",
          "Namibia",
          "Guinea-Bissau",
          "Saint Kitts and Nevis",
          "Nepal",
          "Eritrea",
          "Andorra",
          "Ireland",
          "Chile",
          "Nicaragua",
          "Eswatini",
          "Senegal",
          "Poland",
          "Romania",
          "Mauritius",
          "Zimbabwe",
          "Philippines",
          "Azerbaijan",
          "Russian Federation",
          "Mauritania",
          "Oman",
          "Pakistan",
          "Monaco",
          "Hungary",
          "Tuvalu",
          "Uruguay",
          "Germany",
          "Antigua and Barbuda",
          "Dominica",
          "Venezuela (Bolivarian Republic of)",
          "Libya",
          "Congo",
          "Suriname",
          "Japan",
          "Kenya",
          "Benin",
          "Nigeria",
          "Georgia",
          "Viet Nam",
          "South Sudan",
          "Belarus",
          "Tunisia",
          "Angola",
          "Belize",
          "Malawi",
          "Mozambique",
          "Cabo Verde",
          "Cameroon",
          "Niger",
          "Brunei Darussalam",
          "Qatar",
          "Central African Republic",
          "North Macedonia",
          "Haiti",
          "Democratic Republic of the Congo",
          "Italy",
          "Saudi Arabia",
          "Slovenia",
          "United States of America",
          "Malta",
          "Brazil",
          "Ecuador",
          "Rwanda",
          "New Zealand",
          "Togo",
          "Chad",
          "United Republic of Tanzania",
          "Sierra Leone",
          "Tajikistan",
          "Ghana",
          "Barbados",
          "Bahrain",
          "Gabon",
          "Somalia",
          "Australia",
          "Micronesia (Federated States of)",
          "Peru",
          "Serbia",
          "Portugal",
          "Trinidad and Tobago",
          "United Arab Emirates",
          "Uganda",
          "Austria",
          "Yemen",
          "Estonia"
         ],
         "name": "",
         "type": "choropleth",
         "z": [
          6.867837489444621e-11,
          2.8203451954449443,
          2.008245541987652,
          2.370316609615694e-9,
          0.8061216765332414,
          7.456991808120729e-10,
          0.2548063247592961,
          4.847486771995e-9,
          4.714002705595233e-9,
          6.423306276454724,
          9.002056045326732,
          166.7153476758535,
          125.6313838977042,
          9.356543119024105,
          4.178079477637079e-9,
          60.95876338874267,
          0.0008516372550556,
          0.0178955915795219,
          3.6514179644809286e-10,
          233.2167721237909,
          79.48954960103615,
          86.5450348059237,
          61.02469811250725,
          54.205310457176985,
          19.341077334220262,
          8.911156061907595e-9,
          24.046160394948163,
          33.539229348783806,
          47.07465288102832,
          7.563147287464102,
          1.537192365722736,
          89.26221231208167,
          75.77273989025426,
          0.4137580881263417,
          26.80769111065793,
          1.5961472550392886,
          0.4797914777018786,
          4.563056719802264e-8,
          44.61131182365057,
          6.593803441682504e-10,
          126.84581417723116,
          0.3920206947643054,
          136.7118750809755,
          21.254518290697003,
          126.39529862034424,
          15.8266201137419,
          77.71727502562509,
          101.52374006576112,
          92.48327380078064,
          75.43375053703917,
          49.66863291960464,
          54.40313541945952,
          35.168377918715926,
          31.420952824227605,
          59.14182641353337,
          2.998972352391835e-7,
          107.61841698342133,
          45.89992687548733,
          10.87877298516001,
          82.27916266197585,
          191.61484124575173,
          64.61954651927444,
          39.14524677963438,
          172.99276785572152,
          8.109863946289058,
          34.95420384571686,
          62.26460124555053,
          92.11639408228706,
          67.58056328825582,
          50.13785236213756,
          91.12257164733606,
          4.785412262040224e-9,
          9.6562466126089,
          87.70608501870326,
          33.19310670866274,
          31.2487168106666,
          64.50467827413775,
          72.18746851668914,
          96.46082962208196,
          29.86426225136624,
          2.764638035535848e-8,
          32.886255855882425,
          65.31370920415152,
          74.96607622562475,
          10.621371597885522,
          1.6308791102632627e-9,
          89.40760924095966,
          5.774767989903376,
          1.069304853035434,
          53.7740616744701,
          51.352427819752,
          118.06991931266316,
          2.970584058904105e-11,
          81.39896292332848,
          34.800281686874605,
          51.19162050008821,
          2.8159857609078985e-8,
          85.35455359360262,
          77.89492948724634,
          74.38498345174744,
          83.81583495388068,
          102.43215996261276,
          19.27372073414644,
          55.67101380240225,
          63.662496244780215,
          26.042165423507708,
          60.83792787653872,
          101.28531058546308,
          0.0006560723192397,
          52.85389460994288,
          8.492683939287543,
          58.55927593491601,
          41.73995929757118,
          108.00838610174942,
          110.18757579679726,
          155.24978567745927,
          54.51364892758773,
          111.80097250294388,
          99.01620121196612,
          0.4718899914795256,
          74.37409656023745,
          7.196667148716288,
          109.7901568213362,
          97.39192601375314,
          48.23052529601335,
          42.0294194176211,
          83.67900343148719,
          7.938897599092078,
          76.49685511127167,
          4.094067079848174e-8,
          5.699160946193581,
          36.5416837596844,
          4.685967856441357,
          7.426437347039724e-9,
          163.6775158909682,
          56.804553743983575,
          61.46623264608801,
          21.112453113389147,
          2.423480203519094,
          85.9780481149878,
          18.2634089489098,
          35.625862475744206,
          106.07196075946004,
          0.1421539940553851,
          72.63969668541706,
          155.2558292643045,
          39.65778962500867,
          31.88286546343404,
          51.76911245384351,
          31.777218186800503,
          14.159107570501432,
          20.31308309920704,
          39.15973535905466,
          40.78699618869532,
          0.4195119270975313,
          11.410677919709345,
          85.48933653375413,
          156.1783754358319,
          34.57748741995887,
          51.43811602458828,
          134.12932973358335,
          26.441700554367497,
          95.63363957303233,
          124.07161118760182,
          40.981127149258846,
          84.41006867212357,
          165.92256447768634,
          9.487882701995533,
          0.4754014814063882,
          29.068551920261044,
          54.33736603926536,
          50.75793286773705,
          50.46451510468496,
          74.75774168780744,
          39.26038256954459,
          2.636359624599541,
          44.85223878199377,
          85.2595742739506,
          76.11780729738231,
          3.566363314422274,
          4.868583725472522e-9,
          208.10215139899333,
          40.23645532554616,
          76.30588223390849,
          20.80306619020996,
          1.956389977607012,
          19.64213287274874,
          80.30149709102886,
          37.05446082636498,
          12.344415312187378
         ]
        }
       ],
       "layout": {
        "coloraxis": {
         "colorbar": {
          "thickness": 20,
          "title": {
           "text": "Death Rate"
          }
         },
         "colorscale": [
          [
           0,
           "#0d0887"
          ],
          [
           0.1111111111111111,
           "#46039f"
          ],
          [
           0.2222222222222222,
           "#7201a8"
          ],
          [
           0.3333333333333333,
           "#9c179e"
          ],
          [
           0.4444444444444444,
           "#bd3786"
          ],
          [
           0.5555555555555556,
           "#d8576b"
          ],
          [
           0.6666666666666666,
           "#ed7953"
          ],
          [
           0.7777777777777778,
           "#fb9f3a"
          ],
          [
           0.8888888888888888,
           "#fdca26"
          ],
          [
           1,
           "#f0f921"
          ]
         ]
        },
        "geo": {
         "center": {},
         "domain": {
          "x": [
           0,
           1
          ],
          "y": [
           0,
           1
          ]
         },
         "projection": {
          "type": "natural earth"
         }
        },
        "legend": {
         "tracegroupgap": 0
        },
        "margin": {
         "b": 0,
         "l": 0,
         "r": 0,
         "t": 40
        },
        "template": {
         "data": {
          "bar": [
           {
            "error_x": {
             "color": "#2a3f5f"
            },
            "error_y": {
             "color": "#2a3f5f"
            },
            "marker": {
             "line": {
              "color": "#E5ECF6",
              "width": 0.5
             },
             "pattern": {
              "fillmode": "overlay",
              "size": 10,
              "solidity": 0.2
             }
            },
            "type": "bar"
           }
          ],
          "barpolar": [
           {
            "marker": {
             "line": {
              "color": "#E5ECF6",
              "width": 0.5
             },
             "pattern": {
              "fillmode": "overlay",
              "size": 10,
              "solidity": 0.2
             }
            },
            "type": "barpolar"
           }
          ],
          "carpet": [
           {
            "aaxis": {
             "endlinecolor": "#2a3f5f",
             "gridcolor": "white",
             "linecolor": "white",
             "minorgridcolor": "white",
             "startlinecolor": "#2a3f5f"
            },
            "baxis": {
             "endlinecolor": "#2a3f5f",
             "gridcolor": "white",
             "linecolor": "white",
             "minorgridcolor": "white",
             "startlinecolor": "#2a3f5f"
            },
            "type": "carpet"
           }
          ],
          "choropleth": [
           {
            "colorbar": {
             "outlinewidth": 0,
             "ticks": ""
            },
            "type": "choropleth"
           }
          ],
          "contour": [
           {
            "colorbar": {
             "outlinewidth": 0,
             "ticks": ""
            },
            "colorscale": [
             [
              0,
              "#0d0887"
             ],
             [
              0.1111111111111111,
              "#46039f"
             ],
             [
              0.2222222222222222,
              "#7201a8"
             ],
             [
              0.3333333333333333,
              "#9c179e"
             ],
             [
              0.4444444444444444,
              "#bd3786"
             ],
             [
              0.5555555555555556,
              "#d8576b"
             ],
             [
              0.6666666666666666,
              "#ed7953"
             ],
             [
              0.7777777777777778,
              "#fb9f3a"
             ],
             [
              0.8888888888888888,
              "#fdca26"
             ],
             [
              1,
              "#f0f921"
             ]
            ],
            "type": "contour"
           }
          ],
          "contourcarpet": [
           {
            "colorbar": {
             "outlinewidth": 0,
             "ticks": ""
            },
            "type": "contourcarpet"
           }
          ],
          "heatmap": [
           {
            "colorbar": {
             "outlinewidth": 0,
             "ticks": ""
            },
            "colorscale": [
             [
              0,
              "#0d0887"
             ],
             [
              0.1111111111111111,
              "#46039f"
             ],
             [
              0.2222222222222222,
              "#7201a8"
             ],
             [
              0.3333333333333333,
              "#9c179e"
             ],
             [
              0.4444444444444444,
              "#bd3786"
             ],
             [
              0.5555555555555556,
              "#d8576b"
             ],
             [
              0.6666666666666666,
              "#ed7953"
             ],
             [
              0.7777777777777778,
              "#fb9f3a"
             ],
             [
              0.8888888888888888,
              "#fdca26"
             ],
             [
              1,
              "#f0f921"
             ]
            ],
            "type": "heatmap"
           }
          ],
          "heatmapgl": [
           {
            "colorbar": {
             "outlinewidth": 0,
             "ticks": ""
            },
            "colorscale": [
             [
              0,
              "#0d0887"
             ],
             [
              0.1111111111111111,
              "#46039f"
             ],
             [
              0.2222222222222222,
              "#7201a8"
             ],
             [
              0.3333333333333333,
              "#9c179e"
             ],
             [
              0.4444444444444444,
              "#bd3786"
             ],
             [
              0.5555555555555556,
              "#d8576b"
             ],
             [
              0.6666666666666666,
              "#ed7953"
             ],
             [
              0.7777777777777778,
              "#fb9f3a"
             ],
             [
              0.8888888888888888,
              "#fdca26"
             ],
             [
              1,
              "#f0f921"
             ]
            ],
            "type": "heatmapgl"
           }
          ],
          "histogram": [
           {
            "marker": {
             "pattern": {
              "fillmode": "overlay",
              "size": 10,
              "solidity": 0.2
             }
            },
            "type": "histogram"
           }
          ],
          "histogram2d": [
           {
            "colorbar": {
             "outlinewidth": 0,
             "ticks": ""
            },
            "colorscale": [
             [
              0,
              "#0d0887"
             ],
             [
              0.1111111111111111,
              "#46039f"
             ],
             [
              0.2222222222222222,
              "#7201a8"
             ],
             [
              0.3333333333333333,
              "#9c179e"
             ],
             [
              0.4444444444444444,
              "#bd3786"
             ],
             [
              0.5555555555555556,
              "#d8576b"
             ],
             [
              0.6666666666666666,
              "#ed7953"
             ],
             [
              0.7777777777777778,
              "#fb9f3a"
             ],
             [
              0.8888888888888888,
              "#fdca26"
             ],
             [
              1,
              "#f0f921"
             ]
            ],
            "type": "histogram2d"
           }
          ],
          "histogram2dcontour": [
           {
            "colorbar": {
             "outlinewidth": 0,
             "ticks": ""
            },
            "colorscale": [
             [
              0,
              "#0d0887"
             ],
             [
              0.1111111111111111,
              "#46039f"
             ],
             [
              0.2222222222222222,
              "#7201a8"
             ],
             [
              0.3333333333333333,
              "#9c179e"
             ],
             [
              0.4444444444444444,
              "#bd3786"
             ],
             [
              0.5555555555555556,
              "#d8576b"
             ],
             [
              0.6666666666666666,
              "#ed7953"
             ],
             [
              0.7777777777777778,
              "#fb9f3a"
             ],
             [
              0.8888888888888888,
              "#fdca26"
             ],
             [
              1,
              "#f0f921"
             ]
            ],
            "type": "histogram2dcontour"
           }
          ],
          "mesh3d": [
           {
            "colorbar": {
             "outlinewidth": 0,
             "ticks": ""
            },
            "type": "mesh3d"
           }
          ],
          "parcoords": [
           {
            "line": {
             "colorbar": {
              "outlinewidth": 0,
              "ticks": ""
             }
            },
            "type": "parcoords"
           }
          ],
          "pie": [
           {
            "automargin": true,
            "type": "pie"
           }
          ],
          "scatter": [
           {
            "fillpattern": {
             "fillmode": "overlay",
             "size": 10,
             "solidity": 0.2
            },
            "type": "scatter"
           }
          ],
          "scatter3d": [
           {
            "line": {
             "colorbar": {
              "outlinewidth": 0,
              "ticks": ""
             }
            },
            "marker": {
             "colorbar": {
              "outlinewidth": 0,
              "ticks": ""
             }
            },
            "type": "scatter3d"
           }
          ],
          "scattercarpet": [
           {
            "marker": {
             "colorbar": {
              "outlinewidth": 0,
              "ticks": ""
             }
            },
            "type": "scattercarpet"
           }
          ],
          "scattergeo": [
           {
            "marker": {
             "colorbar": {
              "outlinewidth": 0,
              "ticks": ""
             }
            },
            "type": "scattergeo"
           }
          ],
          "scattergl": [
           {
            "marker": {
             "colorbar": {
              "outlinewidth": 0,
              "ticks": ""
             }
            },
            "type": "scattergl"
           }
          ],
          "scattermapbox": [
           {
            "marker": {
             "colorbar": {
              "outlinewidth": 0,
              "ticks": ""
             }
            },
            "type": "scattermapbox"
           }
          ],
          "scatterpolar": [
           {
            "marker": {
             "colorbar": {
              "outlinewidth": 0,
              "ticks": ""
             }
            },
            "type": "scatterpolar"
           }
          ],
          "scatterpolargl": [
           {
            "marker": {
             "colorbar": {
              "outlinewidth": 0,
              "ticks": ""
             }
            },
            "type": "scatterpolargl"
           }
          ],
          "scatterternary": [
           {
            "marker": {
             "colorbar": {
              "outlinewidth": 0,
              "ticks": ""
             }
            },
            "type": "scatterternary"
           }
          ],
          "surface": [
           {
            "colorbar": {
             "outlinewidth": 0,
             "ticks": ""
            },
            "colorscale": [
             [
              0,
              "#0d0887"
             ],
             [
              0.1111111111111111,
              "#46039f"
             ],
             [
              0.2222222222222222,
              "#7201a8"
             ],
             [
              0.3333333333333333,
              "#9c179e"
             ],
             [
              0.4444444444444444,
              "#bd3786"
             ],
             [
              0.5555555555555556,
              "#d8576b"
             ],
             [
              0.6666666666666666,
              "#ed7953"
             ],
             [
              0.7777777777777778,
              "#fb9f3a"
             ],
             [
              0.8888888888888888,
              "#fdca26"
             ],
             [
              1,
              "#f0f921"
             ]
            ],
            "type": "surface"
           }
          ],
          "table": [
           {
            "cells": {
             "fill": {
              "color": "#EBF0F8"
             },
             "line": {
              "color": "white"
             }
            },
            "header": {
             "fill": {
              "color": "#C8D4E3"
             },
             "line": {
              "color": "white"
             }
            },
            "type": "table"
           }
          ]
         },
         "layout": {
          "annotationdefaults": {
           "arrowcolor": "#2a3f5f",
           "arrowhead": 0,
           "arrowwidth": 1
          },
          "autotypenumbers": "strict",
          "coloraxis": {
           "colorbar": {
            "outlinewidth": 0,
            "ticks": ""
           }
          },
          "colorscale": {
           "diverging": [
            [
             0,
             "#8e0152"
            ],
            [
             0.1,
             "#c51b7d"
            ],
            [
             0.2,
             "#de77ae"
            ],
            [
             0.3,
             "#f1b6da"
            ],
            [
             0.4,
             "#fde0ef"
            ],
            [
             0.5,
             "#f7f7f7"
            ],
            [
             0.6,
             "#e6f5d0"
            ],
            [
             0.7,
             "#b8e186"
            ],
            [
             0.8,
             "#7fbc41"
            ],
            [
             0.9,
             "#4d9221"
            ],
            [
             1,
             "#276419"
            ]
           ],
           "sequential": [
            [
             0,
             "#0d0887"
            ],
            [
             0.1111111111111111,
             "#46039f"
            ],
            [
             0.2222222222222222,
             "#7201a8"
            ],
            [
             0.3333333333333333,
             "#9c179e"
            ],
            [
             0.4444444444444444,
             "#bd3786"
            ],
            [
             0.5555555555555556,
             "#d8576b"
            ],
            [
             0.6666666666666666,
             "#ed7953"
            ],
            [
             0.7777777777777778,
             "#fb9f3a"
            ],
            [
             0.8888888888888888,
             "#fdca26"
            ],
            [
             1,
             "#f0f921"
            ]
           ],
           "sequentialminus": [
            [
             0,
             "#0d0887"
            ],
            [
             0.1111111111111111,
             "#46039f"
            ],
            [
             0.2222222222222222,
             "#7201a8"
            ],
            [
             0.3333333333333333,
             "#9c179e"
            ],
            [
             0.4444444444444444,
             "#bd3786"
            ],
            [
             0.5555555555555556,
             "#d8576b"
            ],
            [
             0.6666666666666666,
             "#ed7953"
            ],
            [
             0.7777777777777778,
             "#fb9f3a"
            ],
            [
             0.8888888888888888,
             "#fdca26"
            ],
            [
             1,
             "#f0f921"
            ]
           ]
          },
          "colorway": [
           "#636efa",
           "#EF553B",
           "#00cc96",
           "#ab63fa",
           "#FFA15A",
           "#19d3f3",
           "#FF6692",
           "#B6E880",
           "#FF97FF",
           "#FECB52"
          ],
          "font": {
           "color": "#2a3f5f"
          },
          "geo": {
           "bgcolor": "white",
           "lakecolor": "white",
           "landcolor": "#E5ECF6",
           "showlakes": true,
           "showland": true,
           "subunitcolor": "white"
          },
          "hoverlabel": {
           "align": "left"
          },
          "hovermode": "closest",
          "mapbox": {
           "style": "light"
          },
          "paper_bgcolor": "white",
          "plot_bgcolor": "#E5ECF6",
          "polar": {
           "angularaxis": {
            "gridcolor": "white",
            "linecolor": "white",
            "ticks": ""
           },
           "bgcolor": "#E5ECF6",
           "radialaxis": {
            "gridcolor": "white",
            "linecolor": "white",
            "ticks": ""
           }
          },
          "scene": {
           "xaxis": {
            "backgroundcolor": "#E5ECF6",
            "gridcolor": "white",
            "gridwidth": 2,
            "linecolor": "white",
            "showbackground": true,
            "ticks": "",
            "zerolinecolor": "white"
           },
           "yaxis": {
            "backgroundcolor": "#E5ECF6",
            "gridcolor": "white",
            "gridwidth": 2,
            "linecolor": "white",
            "showbackground": true,
            "ticks": "",
            "zerolinecolor": "white"
           },
           "zaxis": {
            "backgroundcolor": "#E5ECF6",
            "gridcolor": "white",
            "gridwidth": 2,
            "linecolor": "white",
            "showbackground": true,
            "ticks": "",
            "zerolinecolor": "white"
           }
          },
          "shapedefaults": {
           "line": {
            "color": "#2a3f5f"
           }
          },
          "ternary": {
           "aaxis": {
            "gridcolor": "white",
            "linecolor": "white",
            "ticks": ""
           },
           "baxis": {
            "gridcolor": "white",
            "linecolor": "white",
            "ticks": ""
           },
           "bgcolor": "#E5ECF6",
           "caxis": {
            "gridcolor": "white",
            "linecolor": "white",
            "ticks": ""
           }
          },
          "title": {
           "x": 0.05
          },
          "xaxis": {
           "automargin": true,
           "gridcolor": "white",
           "linecolor": "white",
           "ticks": "",
           "title": {
            "standoff": 15
           },
           "zerolinecolor": "white",
           "zerolinewidth": 2
          },
          "yaxis": {
           "automargin": true,
           "gridcolor": "white",
           "linecolor": "white",
           "ticks": "",
           "title": {
            "standoff": 15
           },
           "zerolinecolor": "white",
           "zerolinewidth": 2
          }
         }
        },
        "title": {
         "text": "COVID-19 Death Rate (Lower Estimate) by Country (2020)"
        }
       }
      }
     },
     "metadata": {},
     "output_type": "display_data"
    }
   ],
   "source": [
    "import plotly.express as px\n",
    "\n",
    "# Create the choropleth map using country names directly\n",
    "fig = px.choropleth(\n",
    "    eda_covid,\n",
    "    locations=\"Country\",\n",
    "    locationmode=\"country names\",\n",
    "    color=\"lower\",\n",
    "    hover_name=\"Country\",\n",
    "    hover_data=[\"SDI_mean_value\", \"Mean_PM25_2010_2019\"],\n",
    "    color_continuous_scale=px.colors.sequential.Plasma,\n",
    "    title=\"COVID-19 Death Rate (Lower Estimate) by Country (2020)\",\n",
    "    projection=\"natural earth\",\n",
    ")\n",
    "\n",
    "fig.update_layout(\n",
    "    margin={\"r\": 0, \"t\": 40, \"l\": 0, \"b\": 0},\n",
    "    coloraxis_colorbar=dict(title=\"Death Rate\", thickness=20),\n",
    ")\n",
    "\n",
    "\n",
    "fig.show()"
   ]
  },
  {
   "cell_type": "markdown",
   "id": "64d07d05",
   "metadata": {},
   "source": [
    "# 📊 Summary of COVID-19 Objective EDA\n",
    "\n",
    "### Objective Recap:\n",
    "We aimed to explore whether long-term exposure to ambient PM2.5 (2010–2019) and socio-demographic development level (SDI, 2020) are associated with COVID-19 mortality outcomes across countries.\n",
    "\n",
    "### Key Findings:\n",
    "\n",
    "1. **Weak Correlation Between PM2.5 and COVID-19 Death Rate:**\n",
    "   - The correlation between long-term PM2.5 exposure and COVID-19 mortality was very low (`r ≈ 0.09`), suggesting no strong linear relationship at the country level.\n",
    "\n",
    "2. **Weak Correlation Between SDI and COVID-19 Death Rate:**\n",
    "   - SDI also showed a very weak positive correlation (`r ≈ 0.08`) with COVID-19 death rates.\n",
    "   - This may be due to confounding factors such as healthcare infrastructure, population age structure, reporting accuracy, and early pandemic impact in more developed nations.\n",
    "\n",
    "3. **Moderate Negative Correlation Between SDI and PM2.5:**\n",
    "   - Countries with higher SDI generally have lower PM2.5 levels (`r ≈ -0.35`), which aligns with known global disparities in environmental quality and regulation.\n",
    "\n",
    "4. **No Clear Trend in Death Rate Across SDI Groups:**\n",
    "   - Boxplots and grouped summary statistics show that COVID-19 death rates vary within each SDI category, with no consistent trend suggesting that higher SDI leads to lower mortality.\n",
    "   - In fact, the average death rate slightly increased across SDI levels:\n",
    "     - **Low SDI:** ~55  \n",
    "     - **Medium SDI:** ~61  \n",
    "     - **High SDI:** ~68  \n",
    "     - **Very High SDI:** ~72\n",
    "   - However, all groups exhibited high variability (standard deviation: 33–67), and minimum values were close to zero across the board, indicating high within-group heterogeneity.\n",
    "\n",
    "5. **Clear Decline in PM2.5 with Increasing SDI:**\n",
    "   - The same grouped summary showed a steady decrease in mean PM2.5 exposure as SDI increased:\n",
    "     - **Low SDI:** 29.9 µg/m³  \n",
    "     - **Medium SDI:** 28.0 µg/m³  \n",
    "     - **High SDI:** 20.9 µg/m³  \n",
    "     - **Very High SDI:** 16.8 µg/m³\n",
    "   - This confirms the known environmental inequality pattern, where lower-SDI countries face greater pollution burdens due to industrialization, limited environmental regulation, or reliance on biomass fuels.\n",
    "\n",
    "6. **Outliers and Regional Patterns:**\n",
    "   - Several countries stand out with exceptionally high COVID-19 death rates or PM2.5 levels, indicating potential for more focused case studies or follow-up investigation.\n",
    "   - The choropleth map shows broad geographic variation in COVID-19 mortality, but no clear regional alignment with SDI or pollution levels alone.\n",
    "\n",
    "### 📌 Interpretation:\n",
    "At the country level, neither long-term air pollution exposure nor socio-demographic development levels alone explain COVID-19 mortality variation. These results highlight the complexity of pandemic outcomes and suggest that additional factors such as age structure, comorbidities, health system capacity, and policy response must be considered for a fuller understanding.\n"
   ]
  }
 ],
 "metadata": {
  "kernelspec": {
   "display_name": "base",
   "language": "python",
   "name": "python3"
  },
  "language_info": {
   "codemirror_mode": {
    "name": "ipython",
    "version": 3
   },
   "file_extension": ".py",
   "mimetype": "text/x-python",
   "name": "python",
   "nbconvert_exporter": "python",
   "pygments_lexer": "ipython3",
   "version": "3.12.7"
  }
 },
 "nbformat": 4,
 "nbformat_minor": 5
}
